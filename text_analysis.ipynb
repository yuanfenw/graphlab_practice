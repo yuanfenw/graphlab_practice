{
 "cells": [
  {
   "cell_type": "markdown",
   "metadata": {},
   "source": [
    "Exercise with Wikipedia data\n",
    "https://dato.com/learn/userguide/text/exercises.html"
   ]
  },
  {
   "cell_type": "code",
   "execution_count": 8,
   "metadata": {
    "collapsed": false
   },
   "outputs": [
    {
     "name": "stdout",
     "output_type": "stream",
     "text": [
      "PROGRESS: Finished parsing file /Users/yuanfengwang/Documents/others/graphlab_practice/wikipedia_w0\n",
      "PROGRESS: Parsing completed. Parsed 100 lines in 0.594641 secs.\n",
      "------------------------------------------------------\n",
      "Inferred types from first line of file as \n",
      "column_type_hints=[str]\n",
      "If parsing fails due to incorrect types, you can correct\n",
      "the inferred type list above and pass it to read_csv in\n",
      "the column_type_hints argument\n",
      "------------------------------------------------------\n",
      "PROGRESS: Read 12728 lines. Lines per second: 11741.8\n",
      "PROGRESS: Finished parsing file /Users/yuanfengwang/Documents/others/graphlab_practice/wikipedia_w0\n",
      "PROGRESS: Parsing completed. Parsed 72270 lines in 2.36978 secs.\n"
     ]
    }
   ],
   "source": [
    "# Downloads the data from S3 if you haven't already.\n",
    "import graphlab\n",
    "import os\n",
    "if os.path.exists('wikipedia_w0'):\n",
    "    documents = graphlab.SFrame.read_csv('wikipedia_w0', header=False) \n",
    "else:\n",
    "    documents = graphlab.SFrame.read_csv('http://s3.amazonaws.com/dato-datasets/wikipedia/raw/w0', header=False)\n",
    "    documents.save('wikipedia_w0')"
   ]
  },
  {
   "cell_type": "code",
   "execution_count": 6,
   "metadata": {
    "collapsed": false
   },
   "outputs": [
    {
     "data": {
      "text/html": [
       "<div style=\"max-height:1000px;max-width:1500px;overflow:auto;\"><table frame=\"box\" rules=\"cols\">\n",
       "    <tr>\n",
       "        <th style=\"padding-left: 1em; padding-right: 1em; text-align: center\">anarchism the following<br>sources cite anarchis ...</th>\n",
       "    </tr>\n",
       "    <tr>\n",
       "        <td style=\"padding-left: 1em; padding-right: 1em; text-align: center; vertical-align: top\">alaska alaska was<br>purchased from the ...</td>\n",
       "    </tr>\n",
       "    <tr>\n",
       "        <td style=\"padding-left: 1em; padding-right: 1em; text-align: center; vertical-align: top\">aruba ast utc04 aruba<br>which has no ...</td>\n",
       "    </tr>\n",
       "    <tr>\n",
       "        <td style=\"padding-left: 1em; padding-right: 1em; text-align: center; vertical-align: top\">asteroidsvideogame the<br>game was conceived by ...</td>\n",
       "    </tr>\n",
       "    <tr>\n",
       "        <td style=\"padding-left: 1em; padding-right: 1em; text-align: center; vertical-align: top\">ancientegypt its history<br>occurred in a series of ...</td>\n",
       "    </tr>\n",
       "    <tr>\n",
       "        <td style=\"padding-left: 1em; padding-right: 1em; text-align: center; vertical-align: top\">alvintoffler a former<br>associate editor of ...</td>\n",
       "    </tr>\n",
       "    <tr>\n",
       "        <td style=\"padding-left: 1em; padding-right: 1em; text-align: center; vertical-align: top\">algebraicallyclosedfield<br>as an example the field ...</td>\n",
       "    </tr>\n",
       "    <tr>\n",
       "        <td style=\"padding-left: 1em; padding-right: 1em; text-align: center; vertical-align: top\">armedforcesofarmenia the<br>armed forces of the ...</td>\n",
       "    </tr>\n",
       "    <tr>\n",
       "        <td style=\"padding-left: 1em; padding-right: 1em; text-align: center; vertical-align: top\">amberdicelessroleplayingg<br>ame the amber diceless ...</td>\n",
       "    </tr>\n",
       "    <tr>\n",
       "        <td style=\"padding-left: 1em; padding-right: 1em; text-align: center; vertical-align: top\">anisotropy in the field<br>of computer graphics an ...</td>\n",
       "    </tr>\n",
       "    <tr>\n",
       "        <td style=\"padding-left: 1em; padding-right: 1em; text-align: center; vertical-align: top\">applei the apple i also<br>known as the apple1 was ...</td>\n",
       "    </tr>\n",
       "</table>\n",
       "[10 rows x 1 columns]<br/>\n",
       "</div>"
      ],
      "text/plain": [
       "Columns:\n",
       "\tanarchism the following sources cite anarchism as a political philosophy there are many types and traditions of anarchism some of which are mutually exclusive  strains of anarchism have been divided into the categories of social and individualist anarchism or similar dual classifications  anarchism is often considered to be a radical leftwing ideology and much of anarchist economics and anarchist legal philosophy reflect antistatist interpretations of communism collectivism syndicalism or participatory economics  however anarchism has always included an individualist strain  supporting a market economy and private property or morally unrestrained egoism some individualist anarchists are also socialists differing fundamentally some anarchist schools of thought support anything from extreme individualism to complete collectivism the position known as anarchism without adjectives consists on recognising the right of other tendencies to the name anarchist while obviously having their own preferences for specific types of anarchist theory and their own arguments why other types are flawed the central tendency of anarchism as a mass social movement has been represented by anarchocommunism and anarchosyndicalism with individualist anarchism being primarily a philosophical or literary phenomenon some anarchists fundamentally oppose all forms of aggression supporting selfdefense or nonviolence anarchopacifism while others have supported the use of some coercive measures including violent revolution and propaganda of the deed on the path to an anarchist society the term anarchism derives from the greek  anarchos meaning without rulers from the prefix  an without   arch sovereignty realm magistracy   ismos from the suffix  izein izing  there is some ambiguity with the use of the terms libertarianism and libertarian in writings about anarchism  since the 1890s from france the term libertarianism has often been used as a synonym for anarchism and was used almost exclusively in this sense until the 1950s in the united states its use as a synonym is still common outside the united states anarchist themes can be found in the works of taoist sages laozi and zhuangzi the latter has been translated there has been such a thing as letting mankind alone there has never been such a thing as governing mankind with success and a petty thief is put in jail a great brigand becomes a ruler of a nation diogenes of sinope and the cynics their contemporary zeno of citium the founder of stoicism also introduced similar topics the term anarchist first entered the english language in 1642 during the english civil war as a term of abuse used by royalists against their roundhead opponents in opposition to jacobin centralisation of power seeing revolutionary government as oxymoronic modern anarchism sprang from the secular or religious thought of the enlightenment particularly jeanjacques rousseaus arguments for the moral centrality of freedom  from this climate william godwin developed what many consider the first expression of modern anarchist thought  benjamin tucker instead credits josiah warren an american who promoted stateless and voluntary communities where all goods and services were private with being the first man to expound and formulate the doctrine now known as anarchism the first to describe himself as an anarchist was pierrejoseph proudhon a french philosopher and politician which led some to call him the founder of modern anarchist theory anarchism as a social movement has regularly endured fluctuations in popularity  its classical period which scholars demarcate as from 1860 to 1939 is associated with the workingclass movements of the 19th century and the spanish civil warera struggles against fascism in europe harsh reaction followed the revolutions of 1848 during which ten countries had experienced brief or longterm social upheaval as groups carried out nationalist uprisings  after most of these attempts at systematic change ended in failure conservative elements took advantage of the divided groups of socialists anarchists liberals and nationalists to prevent further revolt  in 1864 the international workingmens association sometimes called the first international united diverse revolutionary currents including french followers of proudhon blanquists philadelphes english trade unionists socialists and social democrats due to its links to active workers movements the international became a significant organization  karl marx became a leading figure in the international and a member of its general council proudhons followers the mutualists opposed marxs state socialism advocating political abstentionism and small property holdings in 1868 following their unsuccessful participation in the league of peace and freedom lpf russian revolutionary mikhail bakunin and his collectivist anarchist associates joined the first international which had decided not to get involved with the lpf they allied themselves with the federalist socialist sections of the international who advocated the revolutionary overthrow of the state and the collectivization of property at first the collectivists worked with the marxists to push the first international in a more revolutionary socialist direction  subsequently the international became polarised into two camps with marx and bakunin as their respective figureheads  bakunin characterised marxs ideas as centralist and predicted that if a marxist party came to power its leaders would simply take the place of the ruling class they had fought against in 1872 the conflict climaxed with a final split between the two groups at the hague congress where bakunin and james guillaume were expelled from the international and its headquarters were transferred to new york in response the federalist sections formed their own international at the st imier congress adopting a revolutionary anarchist program the antiauthoritarian sections of the first international were the precursors of the anarchosyndicalists seeking to replace the privilege and authority of the state with the free and spontaneous organization of labor  in 1886 the federation of organized trades and labor unions fotlu of the united states and canada unanimously set 1 may 1886 as the date by which the eighthour work day would become standard in response unions across the united states prepared a general strike in support of the event the next day 4 may anarchists staged a rally at chicagos haymarket square a bomb was thrown by an unknown party near the conclusion of the rally killing an officer  in the ensuing panic police opened fire on the crowd and each other  seven police officers and at least four workers were killed  eight anarchists directly and indirectly related to the organisers of the rally were arrested and charged with the murder of the deceased officer the men became international political celebrities among the labour movement  four of the men were executed and a fifth committed suicide prior to his own execution the incident became known as the haymarket affair and was a setback for the labour movement and the struggle for the eight hour day  in 1890 a second attempt this time international in scope to organise for the eight hour day was made the event also had the secondary purpose of memorializing workers killed as a result of the haymarket affair  although it had initially been conceived as a onceoff event by the following year the celebration of international workers day on may day had become firmly established as an international workers holiday in 1907 the international anarchist congress of amsterdam gathered delegates from 14 different countries among which important figures of the anarchist movement including errico malatesta pierre monatte luigi fabbri benot broutchoux emma goldman rudolf rocker and christiaan cornelissen various themes were treated during the congress in particular concerning the organisation of the anarchist movement popular education issues the general strike or antimilitarism a central debate concerned the relation between anarchism and syndicalism or trade unionism  malatesta and monatte were in particular disagreement themselves on this issue as the latter thought that syndicalism was revolutionary and would create the conditions of a social revolution while malatesta did not consider syndicalism by itself sufficient he thought that the tradeunion movement was reformist and even conservative citing as essentially bourgeois and antiworker the phenomenon of professional union officials  malatesta warned that the syndicalists aims were in perpetuating syndicalism itself whereas anarchists must always have anarchy as their end and consequently refrain from committing to any particular method of achieving it the spanish workers federation in 1881 was the first major anarchosyndicalist movement anarchist trade union federations were of special importance in spain the most successful was the confederacin nacional del trabajo national confederation of labour cnt founded in 1910  before the 1940s the cnt was the major force in spanish working class politics attracting 158 million members at one point and playing a major role in the spanish civil war the largest organised anarchist movement today is in spain in the form of the confederacin general del trabajo cgt and the cnt cgt membership was estimated to be around 100000 for 2003  other active syndicalist movements include the us workers solidarity alliance and the uk solidarity federation the revolutionary industrial unionist industrial workers of the world claiming 2000 paying members and the international workers association an anarchosyndicalist successor to the first international also remain active some anarchists such as johann most advocated publicizing violent acts of retaliation against counterrevolutionaries because we preach not only action in and for itself but also action as propaganda  by the 1880s the slogan propaganda of the deed had begun to be used both within and outside of the anarchist movement to refer to individual bombings regicides and tyrannicides  however as soon as 1887 important figures in the anarchist movement distanced themselves from such individual acts  peter kropotkin thus wrote that year in le rvolt that a structure based on centuries of history cannot be destroyed with a few kilos of dynamite a variety of anarchists advocated the abandonment of these sorts of tactics in favor of collective revolutionary action for example through the trade union movement the anarchosyndicalist fernand pelloutier argued in 1895 for renewed anarchist involvement in the labor movement on the basis that anarchism could do very well without the individual dynamiter state repression including the infamous 1894 french lois sclrates of the anarchist and labor movements following the few successful bombings and assassinations may have contributed to the abandonment of these kinds of tactics although reciprocally state repression in the first place may have played a role in these isolated acts the dismemberment of the french socialist movement into many groups and following the suppression of the 1871 paris commune the execution and exile of many communards to penal colonies favored individualist political expression and acts numerous heads of state were assassinated between 1881 and 1914 by members of the anarchist movement  for example us president mckinleys assassin leon czolgosz claimed to have been influenced by anarchist and feminist emma goldman this was in spite of goldmans disavowal of any association with him his registered membership in the republican party and never having belonged to an anarchist organization  bombings were associated in the media with anarchists because international terrorism arose during this time period with the widespread distribution of dynamite  this image remains to this day propaganda of the deed was abandoned by the vast majority of the anarchist movement after world war i 19141918 and the 1917 october revolution anarchists participated alongside the bolsheviks in both february and october revolutions and were initially enthusiastic about the bolshevik coup  however the bolsheviks soon turned against the anarchists and other leftwing opposition a conflict that culminated in the 1921 kronstadt rebellion which the new government repressed  anarchists in central russia were either imprisoned driven underground or joined the victorious bolsheviks the anarchists from petrograd and moscow fled to the ukraine there in the free territory they fought in the civil war against the whites a grouping of monarchists and other opponents of the october revolution and then the bolsheviks as part of the revolutionary insurrectionary army of ukraine led by nestor makhno who established an anarchist society in the region for a number of months expelled american anarchists emma goldman and alexander berkman were amongst those agitating in response to bolshevik policy and the suppression of the kronstadt uprising before they left russia both wrote accounts of their experiences in russia criticizing the amount of control the bolsheviks exercised  for them bakunins predictions about the consequences of marxist rule that the rulers of the new socialist marxist state would become a new elite had proved all too true the victory of the bolsheviks in the october revolution and the resulting russian civil war did serious damage to anarchist movements internationally  many workers and activists saw bolshevik success as setting an example communist parties grew at the expense of anarchism and other socialist movements  in france and the united states for example members of the major syndicalist movements of the cgt and iww left the organizations and joined the communist international in paris the dielo truda group of russian anarchist exiles which included nestor makhno concluded that anarchists needed to develop new forms of organisation in response to the structures of bolshevism their 1926 manifesto called the organizational platform of the general union of anarchists draft was supported  platformist groups active today include the workers solidarity movement in ireland and the north eastern federation of anarchist communists of north america synthesis anarchism emerged as an organizational alternative to platformism which tries to join anarchists of different tendencies under the principles of anarchism without adjectives  in the 1920s this form found as its main proponents volin and sebastien faure in the 1920s and 1930s the rise of fascism in europe transformed anarchisms conflict with the state  italy saw the first struggles between anarchists and fascists  italian anarchists played a key role in the antifascist organisation arditi del popolo which was strongest in areas with anarchist traditions and achieved some success in their activism such as repelling blackshirts in the anarchist stronghold of parma in august 1922  in france where the far right leagues came close to insurrection in the february 1934 riots anarchists divided over a united front policy in spain the cnt initially refused to join a popular front electoral alliance and abstention by cnt supporters led to a right wing election victory but in 1936 the cnt changed its policy and anarchist votes helped bring the popular front back to power  months later the former ruling class responded with an attempted coup causing the spanish civil war 19361939 anarchists in france and italy were active in the resistance during world war ii anarchism sought to reorganize itself after the war  in 1941 the mexican anarchist federation was established  in 1945 in france the fdration anarchiste was established and the also synthesist federazione anarchica italiana was founded in italy in 1956 the uruguayan anarchist federation was founded in 1955 the anarchocommunist federation of argentina renames itself as the argentine libertarian federation and in 1946 the japanese anarchist federation is founded anarchism continued to be influential in important literary and intelectual personalities of the time such as albert camus herbert read paul goodman allen ginsberg and the french surrealist group lead by andre breton which now openly embraced anarchism and collaborated in the fdration anarchiste anarchopacifism became influential in the antinuclear movement and anti war movements of the time as can be seen in the activism and writings of the english anarchist member of campaign for nuclear disarmament alex comfort or the similar activism of the american catholic anarchopacifist ammon hennacy since the revival of anarchism in the mid 20th century around the turn of the 21st century anarchism grew in popularity and influence as part of the antiwar anticapitalist and antiglobalisation movements  anarchists became known for their involvement in protests against the meetings of the world trade organization wto group of eight and the world economic forum some anarchist factions at these protests engaged in rioting property destruction and violent confrontations with police and the confrontations were selectively portrayed in mainstream media coverage as violent riots  these actions were precipitated by ad hoc leaderless anonymous cadres known as black blocs other organisational tactics pioneered in this time include security culture affinity groups and the use of decentralised technologies such as the internet international anarchist federations in existence include the international of anarchist federations the international workers association and international libertarian solidarity anarchist schools of thought had been generally grouped in two main historical traditions individualist anarchism and social anarchism which have some different origins values and evolution the individualist wing of anarchism emphasises negative liberty ie opposition to state or social control over the individual while those in the social wing emphasise positive liberty to achieve ones potential and argue that humans have needs that society ought to fulfill recognizing equality of entitlement  in chronological and theoretical sense there are classical  those created throughout the 19th century  and postclassical anarchist schools  those created since the mid20th century and after beyond the specific factions of anarchist thought is philosophical anarchism which embodies the theoretical stance that the state lacks moral legitimacy without accepting the imperative of revolution to eliminate it a component especially of individualist anarchism philosophical anarchism may accept the existence of a minimal state as unfortunate and usually temporary necessary evil but argue that citizens do not have a moral obligation to obey the state when its laws conflict with individual autonomy  one reaction against sectarianism within the anarchist milieu was anarchism without adjectives a call for toleration first adopted by fernando tarrida del mrmol in 1889 in response to the bitter debates of anarchist theory at the time  in abandoning the hyphenated anarchisms ie collectivist communist mutualist and individualistanarchism it sought to emphasise the antiauthoritarian beliefs common to all anarchist schools of thought mutualism began in 18th century english and french labour movements before taking an anarchist form associated with pierrejoseph proudhon in france and others in the united states proudhon proposed spontaneous order whereby organization emerges without central authority a positive anarchy where order arises when everybody does what he wishes and only what he wishes and where business transactions alone produce the social order mutualist anarchism is concerned with reciprocity free association voluntary contract federation and credit and currency reform  according to william batchelder greene each worker in the mutualist system would receive just and exact pay for his work services equivalent in cost being exchangeable for services equivalent in cost without profit or discount  mutualism has been retrospectively characterised as ideologically situated between individualist and collectivist forms of anarchism  proudhon first characterised his goal as a third form of society the synthesis of communism and property individualist anarchism refers to several traditions of thought within the anarchist movement that emphasize the individual and their will over any kinds of external determinants such as groups society traditions and ideological systems i mean by individualism the moral doctrine which relying on no dogma no tradition no external determination appeals only to the individual consciencehttpwwwmarxorgarchiveryner1905minimanualhtm minimanual of individualism by han ryner individualist anarchism is not a single philosophy but refers to a group of individualistic philosophies that sometimes are in conflict in 1793 william godwin who has often been cited as the first anarchist wrote political justice which some consider to be the first expression of anarchism  godwin a philosophical anarchist from a rationalist and utilitarian basis opposed revolutionary action and saw a minimal state as a present necessary evil that would become increasingly irrelevant and powerless by the gradual spread of knowledge  godwin advocated extreme individualism proposing that all cooperation in labour be eliminated on the premise that this would be most conducive with the general good godwin was a utilitarian who believed that all individuals are not of equal value with some of us of more worth and importance than others depending on our utility in bringing about social good  therefore he does not believe in equal rights but the persons life that should be favoured that is most conducive to the general good the most extreme form of individualist anarchism called egoism or egoist anarchism was expounded by one of the earliest and bestknown proponents of individualist anarchism max stirner stirners the ego and its own published in 1844 is a founding text of the philosophy without regard for god state or morality  to stirner rights were spooks in the mind and he held that society does not exist but the individuals are its reality stirner advocated selfassertion and foresaw unions of egoists nonsystematic associations continually renewed by all parties support through an act of will which stirner proposed as a form of organization in place of the state  egoist anarchists claim that egoism will foster genuine and spontaneous union between individuals  egoism has inspired many interpretations of stirners philosophy it was rediscovered and promoted by german philosophical anarchist and lgbt activist john henry mackay individualist anarchism inspired by stirner attracted a small following of european bohemian artists and intellectuals as well as young anarchist outlaws in what came to be known as illegalism and individual reclamationsee european individualist anarchism social anarchism calls for a system with public ownership of means of production and democratic control of all organizations without any government authority or coercion it is the largest school of thought in anarchism  social anarchism rejects private property seeing it as a source of social inequality and emphasises cooperation and mutual aid collectivist anarchism also referred to as revolutionary socialism or a form of such is a revolutionary form of anarchism commonly associated with mikhail bakunin and johann most collectivist anarchists oppose all private ownership of the means of production instead advocating that ownership be collectivised  this was to be achieved through violent revolution first starting with a small cohesive group through acts of violence or propaganda by the deed which would inspire the workers as a whole to revolt and forcibly collectivise the means of production however collectivization was not to be extended to the distribution of income as workers would be paid according to time worked rather than receiving goods being distributed according to need as in anarchocommunism  this position was criticised by anarchist communists as effectively upholding the wages system  collectivist anarchism arose contemporaneously with marxism but opposed the marxist dictatorship of the proletariat despite the stated marxist goal of a collectivist stateless society  anarchist communist and collectivist ideas are not mutually exclusive although the collectivist anarchists advocated compensation for labour some held out the possibility of a postrevolutionary transition to a communist system of distribution according to need anarchist communism proposes that the freest form of social organisation would be a society composed of selfmanaging communes with collective use of the means of production organised democratically and related to other communes through federation  while some anarchist communists favour direct democracy others feel that its majoritarianism can impede individual liberty and favour consensus democracy instead  in anarchist communism as money would be abolished individuals would not receive direct compensation for labour through sharing of profits or payment but would have free access to the resources and surplus of the commune  anarchist communism does not always have a communitarian philosophy some forms of anarchist communism are egoist and strongly influenced by radical individualism believing that anarchist communism does not require a communitarian nature at all in the early 20th century anarchosyndicalism arose as a distinct school of thought within anarchism  with greater focus on the labour movement than previous forms of anarchism syndicalism posits radical trade unions as a potential force for revolutionary social change replacing capitalism and the state with a new society democratically selfmanaged by the workers it is often combined with other branches of anarchism and anarchosyndicalists often subscribe to anarchist communist or collectivist anarchist economic systems an early leading anarchosyndicalist thinker was rudolf rocker whose 1938 pamphlet anarchosyndicalism outlined a view of the movements origin aims and importance to the future of labour anarchism continues to generate many philosophies and movements at times eclectic drawing upon various sources and syncretic combining disparate and contrary concepts to create new philosophical approaches  since the revival of anarchism in the united states in the 1960s anarchafeminism developed as a synthesis of radical feminism and anarchism that views patriarchy male domination over women as a fundamental manifestation of compulsory government it was inspired by the late 19th century writings of early feminist anarchists such as lucy parsons emma goldman voltairine de cleyre and dora marsden anarchafeminists like other radical feminists criticise and advocate the abolition of traditional conceptions of family education and gender roles  green anarchism or ecoanarchism is a school of thought within anarchism which puts an emphasis on environmental issues and whose main contemporary currents are anarchoprimitivism and social ecology  anarchopacifism is a tendency which rejects the use of violence in the struggle for social change postleft anarchy is a tendency which seeks to distance itself from traditional leftwing politics and to escape the confines of ideology in general  postanarchism is a theoretical move towards a synthesis of classical anarchist theory and poststructuralist thought drawing from diverse ideas including postmodernism autonomist marxism postleft anarchy situationism and postcolonialism another recent form of anarchism critical of formal anarchist movements is insurrectionary anarchism which advocates informal organization and active resistance to the state its proponents include wolfi landstreicher and alfredo m bonanno intersecting and overlapping between various schools of thought certain topics of interest and internal disputes have proven perennial within anarchist theory an important current within anarchism is free love  free love advocates sometimes traced their roots back to josiah warren and to experimental communities viewed sexual freedom as a clear direct expression of an individuals selfownership  free love particularly stressed womens rights since most sexual laws discriminated against women for example marriage laws and antibirth control measures but also there existed ezra heywood and angela heywoods the word 18721890 18921893  the publication staunchly advocated free love and womens rights and critiqued comstockery  censorship of sexual informationalso m e lazarus was an important american individualist anarchist who promoted free love in new yorks greenwich village bohemian feminists and socialists advocated selfrealisation and pleasure for women and also men in the here and now they encouraged playing with sexual roles and sexuality and the openly bisexual radical edna st vincent millay and the lesbian anarchist margaret anderson were prominent among them  discussion groups organised by the villagers were frequented by emma goldman among others  magnus hirschfeld noted in 1923 that goldman has campaigned boldly and steadfastly for individual rights and especially for those deprived of their rights  thus it came about that she was the first and only woman indeed the first and only american to take up the defense of homosexual love before the general public  in fact before goldman heterosexual anarchist robert reitzel 18491898 spoke positively of homosexuality from the beginning of the 1890s in his detroitbased german language journal der arme teufel in europe the main propagandist of free love within individualist anarchism was emile armand he proposed the concept of la camaraderie amoureuse to speak of free love as the possibility of voluntary sexual encounter between consenting adults he was also a consistent proponent of polyamory more recently the british anarchopacifist alex comfort gained notoriety during the sexual revolution for writing the bestseller sex manual the joy of sex the issue of free love has a dedicated treatment in the work of french anarchohedonist philosopher michel onfray in such works as thorie du corps amoureux  pour une rotique solaire 2000 and linvention du plaisir  fragments cyraniques 2002 in 1901 catalan anarchist and freethinker francesc ferrer i gurdia established modern or progressive schools in barcelona in defiance of an educational system controlled by the catholic church the schools stated goal was to educate the working class in a rational secular and noncoercive setting  fiercely anticlerical ferrer believed in freedom in education education free from the authority of church and state  murray bookchin wrote  this period 1890s was the heyday of libertarian schools and pedagogical projects in all areas of the country where anarchists exercised some degree of influence  perhaps the bestknown effort in this field was francisco ferrers modern school escuela moderna a project which exercised a considerable influence on catalan education and on experimental techniques of teaching generally  la escuela moderna and ferrers ideas generally formed the inspiration for a series of modern schools in the united states another libertarian tradition is that of unschooling and the free school in which childled activity replaces pedagogic approaches  experiments in germany led to a s neill founding what became summerhill school in 1921  summerhill is often cited as an example of anarchism in practice  however although summerhill and other free schools are radically libertarian they differ in principle from those of ferrer by not advocating an overtly political class struggleapproach in addition to organizing schools according to libertarian principles anarchists have also questioned the concept of schooling per se the term deschoolingwas popularized by ivan illich who argued that the school as an institution is dysfunctional for selfdetermined learning and serves the creation of a consumer society instead anarchism is a philosophy which embodies many diverse attitudes tendencies and schools of thought as such disagreement over questions of values ideology and tactics is common the compatibility of capitalism phenomena such as civilization technology eg within anarchoprimitivism and insurrectionary anarchism and the democratic process may be sharply criticised within some anarchist tendencies and simultaneously lauded in others on a tactical level while propaganda of the deed was a tactic used by anarchists in the 19th century eg the nihilist movement contemporary anarchists espouse alternative direct action methods such as nonviolence countereconomics and antistate cryptography to bring about an anarchist society  about the scope of an anarchist society some anarchists advocate a global one while others do so by local ones the diversity in anarchism has led to widely different use of identical terms among different anarchist traditions which has led to many definitional concerns in anarchist theory\tstr\n",
       "\n",
       "Rows: 10\n",
       "\n",
       "Data:\n",
       "+-------------------------------+\n",
       "| anarchism the following so... |\n",
       "+-------------------------------+\n",
       "| alaska alaska was purchase... |\n",
       "| aruba ast utc04 aruba whic... |\n",
       "| asteroidsvideogame the gam... |\n",
       "| ancientegypt its history o... |\n",
       "| alvintoffler a former asso... |\n",
       "| algebraicallyclosedfield a... |\n",
       "| armedforcesofarmenia the a... |\n",
       "| amberdicelessroleplayingga... |\n",
       "| anisotropy in the field of... |\n",
       "| applei the apple i also kn... |\n",
       "+-------------------------------+\n",
       "[10 rows x 1 columns]"
      ]
     },
     "execution_count": 6,
     "metadata": {},
     "output_type": "execute_result"
    }
   ],
   "source": [
    "documents.head()"
   ]
  },
  {
   "cell_type": "code",
   "execution_count": 9,
   "metadata": {
    "collapsed": false
   },
   "outputs": [],
   "source": [
    "bow = graphlab.text_analytics.count_words(documents['X1'])"
   ]
  },
  {
   "cell_type": "code",
   "execution_count": 10,
   "metadata": {
    "collapsed": true
   },
   "outputs": [],
   "source": [
    "docs = bow.dict_trim_by_values(2)"
   ]
  },
  {
   "cell_type": "code",
   "execution_count": 11,
   "metadata": {
    "collapsed": false
   },
   "outputs": [
    {
     "data": {
      "text/plain": [
       "dtype: dict\n",
       "Rows: 10\n",
       "[{'now': 3, 'concept': 2, 'consider': 3, 'founder': 2, 'resistance': 2, 'themes': 2, 'writings': 3, 'types': 3, 'issues': 2, 'whose': 2, 'postleft': 2, 'paris': 2, 'concerned': 2, 'literary': 2, 'to': 89, 'spain': 3, 'characterised': 3, 'federation': 11, 'outside': 2, 'wishes': 2, 'founded': 4, 'school': 7, 'did': 2, 'joined': 3, 'small': 3, '20th': 2, 'revolution': 8, 'force': 2, 'direct': 4, 'cost': 2, 'established': 5, 'what': 5, 'individualist': 17, 'favour': 2, 'liberty': 3, '19th': 4, 'international': 24, 'public': 2, 'bestknown': 2, 'movement': 21, 'supporting': 2, 'led': 6, 'men': 3, 'french': 7, 'believed': 2, 'free': 15, 'groups': 8, 'others': 7, 'active': 6, 'change': 3, 'extreme': 3, 'ukraine': 2, 'anarchoprimitivism': 2, 'anarchism': 65, 'receive': 2, 'inspired': 3, 'economics': 2, 'adjectives': 3, 'social': 18, 'action': 5, 'anarchist': 74, 'struggle': 2, 'love': 9, 'monatte': 2, 'private': 4, 'stirner': 5, 'moral': 4, 'anarchocommunism': 2, 'opponents': 2, 'riots': 2, 'use': 7, 'from': 19, 'working': 2, 'positive': 2, 'played': 2, 'two': 3, 'france': 6, 'few': 2, 'call': 2, 'opposed': 3, 'strike': 2, 'scope': 2, 'themselves': 3, 'theoretical': 3, 'trabajo': 2, 'more': 3, 'anarchisms': 2, 'successful': 2, 'particular': 3, 'known': 6, 'women': 3, 'organizations': 2, 'include': 5, 'join': 2, 'hour': 2, 'rights': 6, 'this': 15, 'work': 3, 'values': 2, 'can': 3, 'of': 226, 'following': 6, 'spontaneous': 3, 'example': 6, 'control': 4, 'violence': 2, 'stated': 2, 'cited': 2, 'abandonment': 2, 'states': 8, 'sought': 2, 'sense': 2, 'libertarian': 7, 'influenced': 2, 'united': 10, 'goal': 3, 'democracy': 2, 'divided': 3, 'acts': 5, 'struggles': 2, 'necessary': 2, 'before': 5, 'instead': 4, 'may': 7, 'philosophy': 7, 'fascism': 2, 'membership': 2, 'mankind': 2, '1886': 2, 'response': 5, '1881': 2, 'a': 98, 'advocated': 8, 'four': 2, 'communities': 2, 'revolt': 2, 'st': 2, 'advocates': 2, 'leftwing': 3, 'democratic': 2, 'playing': 2, 'exclusive': 2, 'comfort': 2, 'developed': 2, 'over': 5, 'soon': 2, 'trade': 6, 'held': 2, 'alliance': 2, 'through': 6, 'argued': 2, 'existence': 2, 'its': 13, 'tendency': 3, 'warren': 2, 'group': 5, 'la': 2, 'del': 4, 'organisation': 4, 'labor': 4, 'forms': 5, 'production': 4, 'systems': 2, 'policy': 3, 'main': 4, 'them': 2, 'good': 3, 'anarchosyndicalists': 2, 'they': 6, 'emphasises': 2, 'haymarket': 3, 'day': 7, 'association': 5, 'escuela': 2, 'february': 2, 'alex': 2, 'always': 3, 'victory': 2, 'bolshevik': 3, 'each': 2, 'found': 2, 'eg': 2, 'principles': 2, 'related': 2, 'society': 12, 'year': 2, 'organised': 3, 'sexual': 6, 'anarchy': 4, 'out': 2, 'by': 34, 'fundamentally': 2, 'activism': 3, 'since': 5, 'issue': 2, 'after': 4, 'summerhill': 3, 'theory': 6, '1920s': 2, 'possibility': 2, 'mikhail': 2, 'approaches': 2, 'federations': 3, 'members': 4, 'revolutionary': 14, 'language': 2, 'created': 2, 'libertarianism': 2, 'thing': 2, 'american': 5, 'place': 3, 'confrontations': 2, 'rudolf': 2, 'first': 20, 'major': 4, 'industrial': 2, 'radical': 6, 'one': 4, 'philosophical': 6, 'another': 2, 'spanish': 5, 'revival': 2, 'rejects': 2, 'leading': 2, 'system': 5, 'their': 15, 'solidarity': 4, 'that': 33, 'part': 2, 'than': 3, 'grew': 2, 'roles': 2, 'was': 36, 'aims': 2, 'compensation': 2, 'bohemian': 2, 'were': 22, 'russia': 3, 'godwin': 5, 'and': 192, 'antiauthoritarian': 2, 'topics': 2, 'modern': 6, 'have': 13, 'need': 2, 'capitalism': 2, 'saw': 3, 'any': 4, 'catholic': 2, 'latter': 2, 'ideas': 4, 'also': 11, 'potential': 2, 'take': 2, 'which': 26, 'conducive': 2, 'such': 14, 'goldman': 7, 'who': 7, 'exercised': 3, 'most': 8, 'eight': 4, 'position': 2, 'services': 3, 'class': 5, 'synonym': 2, 'especially': 2, 'sometimes': 3, 'm': 2, 'order': 3, 'traditional': 2, 'sources': 2, 'lpf': 2, 'came': 4, 'laws': 3, 'affair': 2, 'particularly': 2, 'phenomenon': 2, 'german': 2, 'supported': 2, 'contemporary': 3, 'bring': 2, 'communism': 7, 'syndicalist': 2, 'state': 18, 'syndicalism': 6, 'only': 5, 'bombings': 3, 'feminists': 2, 'communist': 6, 'do': 3, 'his': 6, 'founding': 2, 'means': 4, 'mutualist': 3, 'secular': 2, 'mutualism': 2, 'ones': 2, 'ferrer': 3, 'new': 8, 'during': 6, 'du': 2, 'him': 2, 'areas': 2, 'countries': 2, 'egoism': 4, 'common': 3, 'egoist': 3, 'proponents': 3, 'including': 5, 'where': 6, 'wrote': 4, 'achieved': 2, 'sex': 2, '1921': 2, 'individual': 10, 'are': 12, 'all': 11, 'labour': 9, 'voluntary': 3, 'importance': 3, 'unions': 4, 'various': 3, 'cooperation': 2, 'between': 8, 'nestor': 2, 'proudhon': 5, '1890s': 3, 'ruling': 2, 'europe': 3, 'never': 2, 'terms': 2, 'initially': 3, 'however': 5, 'opposition': 3, 'police': 3, 'both': 3, 'interpretations': 2, 'federalist': 2, 'anarchopacifist': 2, 'influential': 2, 'similar': 3, 'according': 5, 'against': 9, 'called': 3, 'became': 8, 'figures': 2, 'argue': 2, 'expression': 4, 'anarchopacifism': 3, 'experimental': 2, 'among': 5, 'ferrers': 2, 'had': 9, 'period': 3, 'alone': 2, 'johann': 2, 'church': 2, 'basis': 2, 'union': 5, 'create': 2, 'political': 6, 'criticised': 2, 'been': 11, 'marx': 2, 'pierrejoseph': 2, 'bolsheviks': 6, 'reaction': 2, 'formed': 2, 'external': 2, 'worked': 2, 'an': 27, 'those': 6, 'advocating': 3, 'these': 6, 'socialist': 5, 'will': 3, 'while': 7, 'socialism': 2, 'many': 9, 'promoted': 3, 'property': 6, 'philosophies': 2, 'century': 9, 'collectivization': 2, 'is': 26, 'thus': 2, 'it': 10, 'equal': 2, 'rulers': 2, 'itself': 6, 'in': 146, 'ie': 2, 'currents': 2, 'movements': 13, 'different': 5, 'revolutions': 2, 'italy': 3, 'media': 2, 'kronstadt': 2, 'member': 2, 'utilitarian': 2, 'followers': 2, 'arguments': 2, 'largest': 2, 'party': 3, 'conflict': 5, 'european': 2, 'commune': 2, 'emphasise': 2, 'used': 5, 'confederacin': 2, 'evil': 2, 'arose': 3, 'ownership': 3, 'tradition': 2, 'marxs': 2, 'anarchists': 31, 'stateless': 2, 'malatesta': 4, 'i': 3, 'well': 2, 'thought': 15, 'without': 11, 'anarchiste': 2, 'english': 5, 'organization': 7, 'the': 356, 'drawing': 2, 'left': 2, 'rocker': 2, 'coup': 2, 'collectivism': 2, 'traditions': 6, 'proposed': 3, 'being': 4, 'when': 2, 'front': 3, 'violent': 5, 'openly': 2, 'alternative': 2, 'collectivist': 10, 'renewed': 2, 'feminist': 2, 'workers': 15, 'anarchosyndicalism': 3, 'killed': 2, 'other': 12, 'anarchosyndicalist': 4, 'role': 3, 'has': 14, 'expelled': 2, 'communitarian': 2, 'around': 2, 'government': 4, 'advocate': 2, 'disagreement': 2, 'term': 5, 'early': 3, 'catalan': 2, 'world': 5, 'execution': 2, 'emma': 5, 'success': 3, 'schools': 12, 'collective': 2, 'specific': 2, 'individuals': 5, 'officer': 2, 'popular': 3, 'become': 4, 'works': 2, 'because': 2, 'often': 6, 'classical': 3, 'bakunin': 5, 'some': 19, 'back': 2, 'authority': 4, 'socialists': 4, 'economic': 2, 'cnt': 6, 'for': 32, 'communes': 2, 'philosopher': 2, 'conservative': 2, 'repression': 2, 'does': 5, 'embodies': 2, 'minimal': 2, 'be': 19, 'measures': 2, 'power': 3, 'equivalent': 2, 'although': 4, 'refers': 2, 'cgt': 3, 'individualism': 5, 'on': 15, 'about': 7, 'goods': 2, 'central': 4, 'would': 13, 'freedom': 4, 'months': 2, 'ideology': 3, 'mutually': 2, 'womens': 2, 'or': 22, 'seeing': 2, 'own': 5, 'protests': 2, 'civil': 6, 'into': 3, 'within': 10, 'right': 3, 'involvement': 2, 'doctrine': 2, 'parties': 2, 'communists': 3, 'support': 3, 'there': 7, 'fought': 2, 'dynamite': 2, 'factions': 2, 'sections': 3, 'war': 9, 'synthesis': 4, 'north': 2, 'form': 10, 'but': 9, 'russian': 3, 'with': 34, 'he': 7, 'josiah': 2, 'nonviolence': 2, 'october': 4, 'tactics': 4, 'us': 3, 'today': 2, 'distribution': 3, 'makhno': 2, 'propaganda': 6, 'stirners': 2, 'moderna': 2, 'popularity': 2, 'associated': 4, 'influence': 3, 'general': 9, 'as': 70, 'diverse': 3, 'at': 12, 'organizational': 2, 'politics': 2, 'deed': 5, 'education': 5, 'marxist': 5, 'no': 3, 'not': 14, 'generally': 3, 'event': 3, 'rally': 3, 'democratically': 2, 'oppose': 2, 'setting': 2, 'insurrectionary': 3, 'marxism': 2, 'wing': 3, 'kinds': 2, 'congress': 4, 'william': 3, 'important': 5, 'suppression': 2, 'fdration': 2, 'included': 2, 'tendencies': 4, '2000': 2, 'time': 7, 'having': 2}, {'convert500': 2, 'limited': 3, 'all': 12, 'partial': 2, 'chain': 3, 'four': 6, 'mile': 2, 'asian': 3, 'subarctic': 5, 'particularly': 2, 'settlement': 4, 'religious': 3, 'issues': 2, 'increase': 2, 'number': 4, 'hunting': 3, 'fouryear': 2, 'wyoming': 3, 'young': 2, 'languages': 4, 'sitka': 7, 'program': 6, 'voted': 2, 'under': 3, 'include': 4, 'friendly': 2, 'resources': 2, 'southwest': 5, 'protestants': 2, 'division': 2, 'very': 2, 'regional': 3, 'every': 2, 'ticket': 4, 'cool': 2, 'entire': 5, 'school': 5, 'crops': 2, 'murkowski': 2, 'democrat': 2, 'large': 6, 'this': 15, 'race': 7, 'form': 2, 'highway': 12, 'small': 6, '20th': 2, 'force': 4, 'managed': 2, 'estimates': 2, 'rivers': 2, 'rate': 2, 'cost': 8, 'pass': 2, 'estimated': 2, 'folk': 4, 'even': 3, 'cargo': 2, 'what': 5, 'imported': 2, 'orchestra': 2, 'while': 13, 'access': 4, 'indian': 2, 'above': 2, 'capital': 9, 'international': 4, 'ground': 3, 'officially': 3, 'consisting': 4, 'can': 10, 'transportation': 10, 'contiguous': 2, 'statehood': 2, 'never': 3, 'here': 3, 'tracks': 2, '109': 2, 'groups': 2, 'palin': 2, 'alone': 2, 'along': 7, 'earthquake': 3, 'extreme': 2, 'passengers': 3, 'great': 2, 'gulf': 4, 'lieutenant': 2, 'receive': 3, 'items': 3, 'employees': 2, 'stretching': 2, 'alaska': 176, '35': 3, 'leaving': 2, 'airport': 2, 'dogsled': 2, 'products': 2, 'usually': 3, 'military': 4, 'residents': 4, 'mala': 2, 'seward': 7, 'york': 2, 'via': 3, 'although': 5, 'statewide': 4, 'brought': 2, 'total': 2, 'sarah': 2, 'use': 6, 'from': 53, 'are': 48, 'to': 145, 'remains': 3, 'indians': 2, 'petroleum': 7, 'flights': 2, 'next': 4, 'few': 3, 'symphony': 4, 'music': 6, 'refuge': 4, 'until': 3, 'today': 4, 'more': 21, 'possession': 2, 'subsistence': 3, 'company': 3, 'anchorage': 36, 'about': 16, 'trail': 4, 'flag': 3, 'census': 9, '20000': 2, 'known': 9, 'cases': 4, 'must': 2, 'states': 52, 'gravel': 2, '1994': 2, 'tunnel': 6, 'thousands': 3, 'reelected': 2, 'when': 6, 'districts': 3, 'regions': 5, 'temperatures': 4, 'island': 7, 'growing': 3, 'ferry': 4, 'talkeetna': 3, 'revenues': 3, 'example': 3, 'history': 3, 'bureau': 6, 'volcanoes': 2, 'subsidies': 2, 'tax': 10, 'purposes': 2, 'now': 5, 'northernmost': 2, 'high': 8, 'reserves': 2, 'gallon': 2, 'keep': 2, 'serum': 2, 'native': 10, 'information': 2, 'united': 20, 'court': 4, 'winter': 6, 'dillingham': 2, 'provide': 2, 'divided': 4, 'six': 2, 'feature': 2, 'boroughs': 3, '1': 2, 'far': 3, 'economy': 7, 'product': 2, 'summers': 3, 'may': 3, 'waters': 3, 'after': 9, 'derived': 3, 'abuse': 2, 'such': 7, 'law': 5, 'data': 2, 'a': 87, 'purchase': 3, 'short': 2, 'natural': 6, 'third': 2, 'communities': 14, 'amount': 2, 'coal': 5, 'convert60': 2, 'so': 2, 'kodiak': 3, 'african': 2, 'democratic': 4, 'began': 3, 'wind': 2, 'travel': 4, 'operations': 3, 'senators': 2, 'played': 2, 'singersongwriter': 2, 'over': 16, 'mainly': 3, 'transalaska': 3, 'years': 6, 'produced': 2, 'held': 3, 'through': 10, 'statistical': 2, 'cruise': 2, 'agricultural': 2, 'still': 4, 'its': 17, 'before': 4, 'iditarod': 2, 'superior': 3, 'police': 4, '22': 3, 'located': 5, 'fairbanks': 20, 'stevens': 4, 'ships': 3, 'territorial': 4, 'permanent': 3, 'mail': 2, 'criminal': 2, '2010': 3, 'texas': 2, 'them': 3, 'combination': 2, 'orthodox': 4, 'food': 8, 'powerful': 2, 'largest': 17, 'nation': 4, 'mgms': 2, 'dock': 2, 'they': 9, 'half': 2, 'arriving': 2, 'republican': 10, '1959': 2, 'killed': 2, 'presidential': 3, 'barrow': 3, 'worlds': 5, 'term': 3, 'several': 7, 'name': 3, 'opera': 2, 'january': 4, 'university': 6, 'identified': 2, 'each': 4, 'found': 3, 'organized': 3, 'european': 3, 'referred': 2, 'week': 2, 'square': 2, 'another': 4, 'populated': 3, 'house': 5, 'energy': 4, 'bethel': 2, 'sled': 3, 'society': 3, 'used': 3, 'galena': 2, 'variety': 2, 'year': 13, 'navy': 2, 'bay': 4, 'special': 2, 'out': 9, 'canada': 8, 'living': 4, 'skagway': 3, 'since': 3, 'valdez': 3, 'mate': 2, '7': 2, 'technically': 4, 'occurs': 2, 'independence': 3, 'foundation': 2, 'state': 72, 'southern': 3, 'million': 2, 'base': 3, 'coastline': 3, 'members': 6, 'rises': 3, 'marine': 3, 'whittier': 2, 'training': 2, 'mainland': 3, 'district': 5, 'language': 4, 'route': 4, 'area': 23, 'days': 3, 'british': 7, 'times': 5, 'immigrants': 2, 'american': 10, '100000': 3, '1970s': 2, 'uses': 2, 'pilots': 3, 'south': 9, 'stewart': 2, 'major': 7, 'there': 10, 'revenue': 3, 'municipality': 2, 'primary': 3, 'owned': 2, 'one': 22, 'production': 4, 'mushers': 2, 'americans': 13, 'approximately': 2, 'directly': 2, 'spanish': 2, 'carry': 2, 'corporations': 2, 'city': 11, 'little': 4, 'management': 2, 'heads': 2, 'temperature': 6, 'service': 12, 'nome': 7, 'festival': 7, 'system': 11, 'least': 3, 'mccains': 2, 'their': 10, 'aleutian': 5, 'wildlife': 7, 'hollywood': 3, 'john': 3, 'national': 10, 'paved': 2, 'urban': 2, 'haines': 2, 'ketchikan': 4, 'mostly': 3, 'that': 16, 'academy': 2, 'hotel': 2, 'serve': 2, 'took': 2, 'released': 2, 'part': 14, 'western': 4, 'somewhat': 3, 'july': 4, '1912': 2, '1915': 2, 'white': 5, 'population': 36, 'boarding': 2, 'wide': 2, 'television': 2, 'b': 2, 'programs': 2, 'second': 2, 'tourists': 3, 'recording': 3, 'light': 2, 'providing': 2, 'russia': 2, 'result': 4, 'and': 228, 'sea': 9, 'nominee': 4, 'have': 22, 'juneau': 11, 'borough': 11, 'occupied': 3, 'linked': 2, 'expeditions': 2, '1968': 2, 'built': 2, 'russians': 3, '1964': 3, 'officers': 2, 'parks': 2, 'also': 20, 'potential': 2, 'welldeveloped': 2, 'which': 22, 'season': 2, 'interior': 7, 'populous': 2, 'primaries': 2, 'universities': 2, 'villages': 10, 'led': 2, 'electric': 2, 'though': 6, 'who': 5, 'salmon': 2, 'kppen': 4, 'most': 23, 'regular': 2, 'connected': 2, 'significant': 4, 'services': 2, 'eskimo': 5, 'america': 10, 'extremely': 2, 'approved': 2, '78': 2, 'alaskan': 19, 'seafood': 4, 'later': 2, 'cover': 2, 'dog': 4, 'traditional': 3, 'capita': 5, 'alaskas': 38, 'typically': 3, 'slope': 5, 'latinos': 2, 'shot': 2, 'gold': 2, 'german': 2, 'contributed': 2, 'principal': 3, 'partially': 2, 'filmed': 9, 'northern': 7, 'less': 6, '3': 4, 'hydroelectric': 2, 'than': 23, 'bush': 5, 'smallest': 2, 'judged': 2, 'convert50': 2, 'fuel': 5, '8': 2, 'fort': 2, 'local': 8, 'first': 9, 'do': 5, 'his': 4, 'means': 2, 'coast': 3, 'famous': 2, '12': 2, 'longest': 2, 'new': 5, 'report': 3, 'during': 7, 'areas': 11, 'runs': 2, 'resource': 2, 'tobacco': 2, 'sources': 2, 'celebrates': 2, 'taxes': 13, 'public': 4, 'she': 3, 'an': 29, 'including': 7, 'river': 7, 'where': 5, 'arr': 2, 'set': 10, 'diomede': 3, 'railroads': 2, 'liquor': 2, 'terrain': 2, 'operates': 3, 'elected': 3, 'depends': 2, 'individual': 3, 'college': 2, '1925': 2, 'bering': 9, 'close': 2, 'sport': 2, 'best': 2, 'oceanic': 3, 'offers': 2, 'federal': 7, 'movie': 2, 'currently': 4, 'representatives': 3, 'continent': 4, 'outside': 2, 'won': 3, 'various': 4, 'between': 6, 'crude': 6, 'neither': 2, 'numerous': 2, 'available': 3, 'infrastructure': 3, 'terms': 2, 'sparsely': 2, 'were': 15, 'however': 2, 'southeast': 11, 'aircraft': 3, 'densely': 2, 'extent': 2, 'group': 3, 'cities': 9, 'come': 3, 'legislature': 2, 'both': 7, 'climate': 12, 'last': 3, 'country': 4, 'region': 11, 'annual': 4, 'according': 6, 'ranked': 2, 'aleut': 5, 'southeastern': 2, 'nearby': 3, 'among': 4, 'volcanic': 2, 'point': 2, 'basins': 2, 'way': 2, 'community': 6, 'active': 3, 'massive': 3, 'healy': 2, 'church': 2, 'expensive': 3, 'speak': 6, '2000': 4, 'arts': 3, 'convert10': 3, '72million': 2, 'convert16': 2, 'addition': 5, 'west': 6, 'airlines': 3, 'been': 12, 'whom': 2, 'reindeer': 3, 'much': 5, 'combined': 3, 'collected': 2, 'territory': 7, 'troopers': 4, 'mary': 2, 'lived': 3, 'families': 2, 'eastern': 2, 'thousand': 2, 'gas': 7, 'bulk': 3, 'fund': 3, 'fest': 2, 'races': 3, '1867': 3, 'prices': 4, 'aviation': 3, 'towns': 6, 'evidence': 2, 'sound': 4, 'fur': 2, 'survey': 3, 'these': 8, 'mount': 3, 'canadian': 2, 'elections': 2, 'governor': 11, 'air': 12, 'lesser': 3, 'near': 5, 'many': 19, 'wild': 2, 'natives': 6, 'due': 7, 'seven': 2, 'pound': 2, 'century': 3, 'is': 122, 'strait': 2, 'thus': 3, 'it': 25, 'defeated': 2, 'in': 242, 'technology': 2, 'around': 8, 'grown': 3, 'containing': 3, 'art': 2, 'border': 2, 'make': 7, 'belong': 2, 'administration': 2, 'stikine': 2, 'same': 5, 'any': 6, 'became': 6, 'northwest': 5, 'peoples': 3, 'party': 6, 'relatively': 4, 'higher': 4, 'status': 2, 'oil': 18, 'columbia': 7, 'hyder': 3, 'arctic': 6, 'rail': 4, 'running': 2, 'levels': 2, 'moving': 3, 'two': 9, 'indigenous': 2, 'recent': 4, 'lower': 5, 'convert1200': 2, 'center': 2, 'hispanics': 2, 'no': 9, 'well': 8, 'ocean': 3, 'costs': 2, 'alaskans': 4, 'english': 2, 'the': 641, 'soviet': 2, 'taxi': 3, 'summer': 5, 'stores': 2, 'just': 3, 'heavily': 2, 'being': 5, 'percent': 5, 'domestic': 2, 'rest': 4, 'snow': 5, 'not': 16, 'fnsb': 2, 'fishing': 3, 'prince': 4, 'sixteen': 2, 'tourism': 4, 'had': 6, 'lake': 2, 'day': 2, 'parts': 3, 'extends': 3, 'location': 2, 'has': 37, 'remaining': 4, 'march': 3, 'nenana': 3, 'government': 10, 'colony': 2, 'early': 3, 'department': 4, 'five': 4, '30': 2, 'world': 8, 'railroad': 6, 'unique': 2, 'precipitation': 9, 'prominent': 4, 'like': 5, 'follows': 2, 'serves': 3, 'individuals': 4, 'popular': 2, 'served': 5, 'essential': 2, 'towards': 2, 'accessible': 2, 'because': 4, 'often': 7, 'people': 12, 'senate': 4, 'some': 13, 'pacific': 12, 'clubs': 2, 'growth': 2, 'election': 3, 'home': 10, 'transport': 2, 'recently': 3, 'for': 50, 'recorded': 2, 'denali': 2, 'per': 13, 'connecting': 2, 'provides': 2, 'yukon': 9, 'be': 13, 'islander': 2, 'run': 5, 'power': 3, 'sixth': 2, 'matanuska': 2, 'colonization': 2, 'unorganized': 4, 'starring': 5, 'tidal': 3, 'panhandle': 4, 'by': 50, 'counties': 2, 'on': 49, 'pipeline': 4, 'goods': 5, 'central': 5, 'of': 295, 'months': 2, 'shipping': 4, 'union': 2, 'matanuskasusitna': 2, 'seaplane': 2, 'islands': 7, 'or': 25, 'road': 16, 'own': 6, 'turnagain': 2, 'into': 17, 'within': 7, 'washington': 5, 'three': 4, 'accounts': 2, 'primarily': 7, 'creek': 2, 'rely': 2, '1983': 2, 'extraction': 2, 'flying': 3, 'long': 6, '1989': 2, 'continental': 3, 'development': 7, 'low': 6, 'summertime': 2, 'heritage': 2, 'valley': 4, 'was': 44, 'fish': 4, 'lowest': 5, 'building': 2, 'municipalities': 2, 'only': 22, 'north': 31, 'offering': 2, 'offer': 4, 'but': 18, 'peninsula': 8, 'construction': 3, 'link': 3, 'courts': 8, 'larger': 6, 'russian': 9, 'line': 2, 'highest': 11, 'with': 42, 'he': 2, 'directed': 2, 'made': 20, 'places': 2, 'inside': 2, 'official': 5, 'up': 26, 'us': 24, 'record': 2, 'prudhoe': 4, 'average': 6, 'distance': 3, 'passenger': 3, 'supreme': 2, 'expedition': 2, 'certain': 2, 'sales': 5, 'covers': 3, 'general': 4, 'as': 57, 'at': 32, 'film': 8, 'ice': 3, '11': 4, 'compared': 2, '48': 4, '49': 2, 'glacier': 3, 'administered': 2, 'generally': 2, '43': 3, '40': 2, 'field': 3, 'other': 24, 'role': 2, 'branch': 3, 'income': 6, 'warehouse': 2, '10': 2, 'picture': 3, 'star': 3, 'separate': 2, 'tides': 3, 'june': 2, 'includes': 2, 'william': 3, 'class': 2, 'important': 2, 'included': 2, 'kenai': 2, 'gets': 2, 'legal': 2, 'billion': 2, 'bases': 2, 'land': 15, 'remote': 5, 'established': 4, 'age': 2, 'vehicles': 2, 'governed': 2, 'ted': 3, '2007': 5, '2004': 3, 'time': 3, 'rural': 8, '2008': 6, '2009': 2, 'caribou': 3, 'having': 2}, {'all': 5, 'dollar': 3, 'eerste': 2, 'legal': 2, 'fouryear': 2, '1942': 3, 'languages': 4, 'to': 57, 'program': 2, 'spain': 4, 'under': 5, 'activities': 2, 'stuyvesant': 2, 'four': 5, 'school': 6, 'presented': 3, 'wednesday': 2, 'large': 2, 'hague': 2, 'small': 3, 'direct': 3, 'rate': 3, 'estimated': 3, 'port': 2, 'lesser': 2, 'constitution': 2, 'arubas': 22, 'anthem': 2, 'celebrated': 3, 'indian': 2, 'playa': 2, 'new': 7, 'learned': 2, 'aruban': 7, 'officially': 3, 'full': 3, 'transportation': 2, 'exchange': 2, 'sint': 3, 'french': 2, 'protection': 2, 'november': 5, 'celebration': 4, 'study': 2, 'changed': 2, 'expulsion': 2, 'airport': 7, 'published': 4, 'studies': 2, 'santa': 2, 'juries': 2, 'private': 4, 'protectorate': 2, 'curaao': 10, 'from': 28, 'spoke': 3, 'would': 2, 'petroleum': 2, 'two': 6, 'suriname': 2, 'beatrix': 2, 'more': 6, 'parliament': 2, 'started': 2, 'tax': 2, 'company': 6, 'flag': 2, 'known': 3, 'inhabited': 2, 'appointed': 5, 'high': 3, 'carnival': 3, 'maarten': 4, 'this': 10, 'roosevelt': 2, 'can': 5, 'of': 134, 'control': 3, 'december': 2, 'share': 2, 'staten': 2, 'states': 12, 'autonomy': 2, 'united': 12, 'nicolaas': 2, 'inhabitants': 3, '1': 4, 'located': 3, 'sunday': 2, 'instead': 2, 'after': 5, 'southern': 3, 'customs': 2, 'birthday': 2, 'court': 3, 'law': 2, 'proclaimed': 2, 'a': 65, 'lines': 3, 'st': 2, 'african': 2, 'typical': 2, 'help': 2, 'over': 3, 'mission': 2, 'years': 5, 'held': 2, 'papiamento': 6, 'through': 5, 'committee': 2, 'cruise': 2, 'still': 2, 'its': 15, 'roots': 2, 'before': 4, '20': 2, 'weeks': 2, 'main': 4, 'finance': 2, 'refineries': 2, 'they': 6, 'schools': 5, 'one': 6, 'tourism': 7, 'day': 2, 'february': 2, 'netherlands': 24, 'equality': 2, 'january': 3, 'university': 3, 'each': 4, 'higher': 4, 'ports': 2, 'status': 6, 'en': 4, 'financial': 2, 'vespucci': 2, 'aide': 4, 'used': 3, 'year': 8, 'special': 2, 'living': 3, 'culture': 4, 'since': 7, 'maduro': 3, 'dutch': 20, 'medicine': 3, 'venezuela': 10, 'independence': 11, 'state': 2, 'million': 2, 'maatschappij': 2, 'ash': 2, 'beginning': 2, 'language': 4, '1981': 2, 'days': 2, 'british': 3, 'american': 5, 'place': 2, 'w': 2, 'ampes': 3, 'south': 3, 'first': 11, 'features': 2, 'spoken': 4, 'primary': 2, 'dia': 3, 'another': 2, 'spanish': 6, 'antilles': 6, 'size': 2, 'temperature': 2, 'coasts': 2, 'system': 5, 'their': 10, 'percentage': 2, 'tourists': 3, 'interests': 2, 'mining': 2, 'that': 11, 'alonso': 2, 'part': 6, 'constituent': 3, 'than': 4, 'population': 6, '16': 2, '18': 2, 'second': 2, 'nations': 4, 'historical': 2, 'were': 6, 'digicel': 2, 'and': 125, 'san': 4, 'official': 3, 'setar': 3, 'have': 13, 'seen': 2, 'florin': 3, 'oriented': 2, 'also': 14, 'which': 17, 'such': 4, 'towards': 2, 'who': 2, 'most': 8, 'arawaks': 2, 'services': 5, 'america': 7, 'the': 286, 'neighboring': 2, 'average': 2, 'later': 2, 'laws': 2, 'german': 2, 'queen': 3, 'based': 6, 'justice': 2, 'daily': 3, 'written': 2, 'flights': 4, 'his': 9, 'di': 5, 'de': 6, 'international': 3, 'trade': 2, 'secondary': 2, 'prime': 4, 'countries': 9, 'taxes': 4, 'common': 3, 'including': 3, 'where': 5, 'set': 3, 'national': 6, 'operates': 2, 'elected': 2, 'college': 3, 'are': 22, 'sea': 3, 'brazil': 2, 'voyage': 2, '3': 2, 'various': 2, 'europe': 3, 'recently': 2, 'august': 4, 'arawak': 4, 'group': 3, 'cities': 2, 'received': 3, 'dates': 2, 'many': 5, 'region': 4, 'according': 2, 'called': 2, 'became': 2, 'noord': 2, 'admission': 3, 'among': 2, 'community': 4, 'nationality': 2, 'conference': 3, 'described': 2, 'political': 3, 'due': 2, 'been': 11, 'much': 2, 'eastern': 2, 'climate': 3, 'u156': 2, 'minister': 4, 'an': 10, 'present': 2, 'these': 2, 'aanleg': 2, 'governor': 4, 'will': 6, 'near': 2, 'country': 2, 'economics': 2, 'century': 2, 'almost': 3, 'is': 48, 'it': 10, 'refinery': 2, 'in': 112, 'ojeda': 2, 'currents': 2, 'juan': 3, 'administration': 3, 'party': 2, 'several': 3, 'european': 2, 'development': 2, 'oil': 6, 'upon': 2, 'effect': 2, 'holidays': 2, 'recent': 2, 'largely': 2, '1976': 2, 'well': 3, 'aparte': 3, 'ocean': 2, 'thought': 2, 'english': 4, 'model': 2, 'gsm': 2, 'left': 2, 'proposed': 3, 'rest': 2, 'not': 3, 'workers': 2, 'had': 3, 'aruba': 82, 'location': 2, 'has': 26, 'kingdom': 11, 'march': 5, 'increased': 2, 'government': 12, 'term': 2, 'cruz': 2, 'inflation': 3, 'like': 4, 'reduced': 2, 'portuguese': 4, 'right': 2, 'people': 7, 'some': 3, 'back': 3, 'authority': 3, 'caribbean': 10, 'for': 37, 'per': 4, 'deficit': 2, 'three': 3, 'christmas': 2, 'minimal': 2, 'be': 7, 'betico': 4, 'business': 2, 'processing': 3, 'agreement': 2, 'expansion': 2, 'lieutenant': 4, 'although': 4, 'by': 27, 'on': 33, 'about': 4, 'stations': 2, 'island': 28, 'o': 2, 'islands': 11, 'introduced': 3, 'or': 7, 'own': 2, 'within': 4, 'referendum': 3, 'lies': 2, 'bonaire': 4, '1986': 3, 'prepare': 2, 'area': 2, 'support': 2, 'there': 11, 'heritage': 2, 'was': 22, 'considerably': 2, 'only': 2, 'north': 3, 'passport': 2, 'form': 2, 'jewish': 5, 'immigration': 3, 'wireless': 2, 'line': 2, 'highest': 3, 'with': 19, 'he': 6, 'made': 2, 'j': 2, 'us': 6, 'today': 3, 'autonomous': 3, 'medical': 2, 'influence': 2, 'general': 2, 'as': 33, 'at': 10, 'education': 10, 'ancestors': 2, 'no': 3, 'when': 3, 'other': 10, '5': 2, 'department': 2, 'oranjestad': 5, 'separate': 3, 'students': 3, 'important': 2, 'land': 2, 'e': 2, 'croes': 6, 'together': 3, '2007': 5, '2005': 3, '2008': 2, '2009': 2}, {'all': 3, 'delman': 3, 'rom': 2, 'being': 2, 'developed': 2, 'over': 6, 'random': 3, 'years': 2, 'safran': 3, 'scott': 2, 'its': 2, '27': 2, 'monitor': 3, 'had': 5, 'hyperspace': 2, 'to': 34, 'only': 2, 'program': 2, 'board': 2, 'has': 2, 'oversight': 2, '2010': 3, 'then': 2, 'asteroids': 36, 'hit': 3, 'klov': 2, 'killer': 2, 'possible': 4, 'break': 2, 'game': 25, 'they': 3, 'not': 2, 'xbox': 2, 'large': 2, 'indefinitely': 2, 'circuitry': 2, 'each': 3, 'small': 2, 'saucers': 6, 'set': 5, 'version': 2, 'ed': 2, 'logg': 2, 'are': 5, 'year': 2, '2600': 2, 'port': 2, 'saucer': 3, 'hide': 2, 'for': 20, 'score': 6, 'lunar': 5, 'new': 3, 'across': 2, 'be': 2, 'after': 2, 'led': 2, 'credit': 2, 'asteroid': 4, 'screen': 10, 'were': 7, 'galaxies': 2, 'popular': 4, 'objects': 3, 'directions': 2, 'gameplay': 3, 'appears': 2, 'on': 18, 'commands': 5, 'arcade': 4, 'dubbed': 2, 'of': 47, 'could': 3, 'howard': 2, 'players': 8, 'games': 7, 'or': 3, 'first': 2, 'contains': 2, 'followed': 3, 'features': 2, 'point': 2, 'into': 5, 'one': 4, 'thrust': 2, 'twin': 2, 'smaller': 3, 'another': 3, 'use': 2, '1982': 3, 'would': 2, 'area': 2, 'top': 3, 'there': 2, 'two': 3, 'been': 3, 'by': 12, 'pc': 2, '2': 3, '6': 3, 'forward': 2, 'prototype': 2, 'was': 22, 'more': 3, 'lander': 5, 'both': 4, 'fire': 4, 'flying': 3, 'sequel': 2, 'released': 5, 'graphics': 2, 'videogames': 2, 'july': 2, 'with': 7, 'bug': 2, 'he': 2, 'shoot': 3, 'main': 2, 'room': 2, 'versions': 2, 'this': 10, 'ataris': 3, 'maximum': 2, 'will': 2, 'record': 3, 'while': 2, 'can': 2, 'atari': 7, '6502': 3, 'similar': 2, 'and': 38, 'vector': 12, 'is': 8, 'ram': 2, 'it': 10, 'an': 5, 'hardware': 3, 'player': 7, 'as': 20, 'at': 5, 'further': 2, 'ship': 9, 'moves': 2, 'their': 2, 'again': 2, 'in': 36, 'april': 2, 'that': 16, 'when': 4, 'same': 2, 'also': 8, 'other': 3, 'which': 6, 'digital': 2, 'out': 2, 'play': 3, 'added': 3, 'earlier': 2, 'designed': 2, 'included': 3, 'such': 2, 'a': 33, 'kb': 2, 'off': 2, 'dvg': 8, 'many': 6, 'well': 3, '2002': 2, 'points': 4, 'so': 4, 'time': 3, 'position': 2, 'the': 117, 'deluxe': 4, 'original': 6}, {'neighbors': 2, 'irrigation': 5, 'writings': 2, '3200bc': 2, 'avaris': 2, 'caused': 2, 'relieve': 2, 'tombs': 5, 'all': 11, 'yellow': 2, 'dynasty': 15, 'four': 2, 'cults': 2, 'egypts': 8, 'mediterranean': 2, 'per': 3, 'skin': 2, 'battle': 4, 'kingship': 5, 'religious': 11, 'children': 4, 'layers': 2, 'whose': 2, 'mineral': 4, 'hunting': 2, 'effort': 2, 'technique': 2, 'arid': 2, 'languages': 2, 'to': 220, 'finally': 2, 'civilization': 7, 'under': 10, 'include': 3, 'retreat': 2, 'resources': 10, 'placed': 4, 'activities': 4, 'ceramic': 2, 'egyptian': 69, 'far': 2, 'educated': 2, 'regional': 4, 'pigment': 2, 'sons': 2, 'served': 3, 'difficult': 2, 'labor': 6, 'continued': 6, 'vast': 2, 'abandoned': 3, 'washing': 2, 'wooden': 4, '12th': 2, 'large': 5, 'small': 8, 'settlers': 3, 'its': 23, 'hieratic': 3, 'upper': 9, 'spiritual': 4, 'force': 2, 'leaders': 4, 'voiceless': 3, 'colossal': 2, 'predynastic': 5, 'among': 3, 'literature': 7, 'natron': 2, 'surrounding': 2, 'second': 6, 'cost': 2, 'enclosed': 2, 'ruled': 4, 'substitute': 2, 'scientific': 2, 'blue': 5, 'resurgence': 2, 'material': 3, 'hyksos': 7, 'itjtawy': 2, 'practices': 2, 'access': 2, 'largescale': 2, 'attitudes': 2, 'eventually': 7, 'capital': 5, 'nubia': 8, 'supplies': 2, 'tribute': 2, 'ground': 3, 'officially': 2, 'public': 3, 'body': 7, 'asiatic': 4, 'led': 4, 'aten': 2, 'men': 4, 'water': 3, 'believed': 8, 'protection': 2, 'cult': 7, 'based': 7, 'along': 9, 'change': 3, 'campaigns': 2, 'great': 12, 'abydos': 5, 'items': 3, 'elaborate': 4, 'studied': 2, 'deities': 4, 'through': 4, 'leaving': 2, 'wadi': 4, 'amulets': 3, 'social': 8, 'usually': 2, 'wadis': 2, 'successors': 2, 'herodotus': 2, 'punishment': 2, 'composed': 2, 'control': 24, 'alexandria': 7, 'followed': 3, 'secure': 2, 'family': 6, 'menes': 4, 'egypt': 62, 'private': 2, 'highly': 2, 'brought': 4, 'texts': 3, 'tools': 4, 'lime': 2, 'greywacke': 2, 'use': 7, 'earliest': 5, 'assyrians': 5, 'wealth': 6, 'working': 3, 'army': 4, 'century': 6, 'two': 5, 'levant': 3, 'by': 70, 'cambyses': 2, 'depicted': 3, 'music': 2, 'themselves': 5, 'type': 2, 'until': 7, 'minor': 2, 'more': 17, 'bureaucracy': 2, 'higher': 2, 'populations': 2, 'started': 2, 'stable': 3, 'wars': 2, 'reign': 3, 'glass': 5, 'known': 19, 'central': 5, 'cases': 2, 'thebes': 9, 'iii': 5, 'behalf': 2, 'women': 3, 'ii': 9, 'word': 5, 'middle': 14, 'this': 19, 'challenge': 2, 'work': 2, 'soul': 2, 'roof': 2, 'can': 8, 'of': 401, 'following': 5, 'khufu': 3, 'root': 2, 'coffin': 2, 'deceased': 7, 'history': 6, 'decorative': 3, 'heart': 2, 'saite': 3, 'hears': 2, 'do': 2, 'process': 3, 'joints': 2, 'allowed': 2, 'organized': 2, 'purposes': 4, 'now': 4, 'pieces': 5, 'honey': 2, 'council': 2, 'sense': 2, 'sought': 2, 'clothing': 3, 'simple': 5, 'native': 5, 'stemmed': 2, 'court': 2, 'rather': 3, 'onions': 2, 'forms': 4, 'formations': 2, 'regions': 4, 'how': 3, 'writers': 2, 'salts': 2, 'animal': 3, 'boats': 2, 'palaces': 2, 'economy': 7, 'intended': 2, 'may': 6, 'began': 13, 'southern': 3, 'northward': 2, 'customs': 3, 'routes': 2, 'produce': 2, 'designed': 2, 'date': 2, 'invasion': 3, 'law': 2, 'berber': 2, 'stress': 2, 'emperor': 3, 'natural': 4, 'third': 2, 'priestly': 2, 'their': 42, 'linen': 7, 'verb': 4, 'so': 3, 'ultimate': 2, 'afterlife': 7, 'banks': 2, 'lasting': 2, 'order': 7, 'wine': 2, 'coordinated': 2, 'copper': 10, 'welcomed': 2, 'developed': 13, 'over': 11, 'displayed': 2, 'years': 4, 'produced': 6, 'brain': 2, 'vizier': 5, 'including': 5, 'agricultural': 7, 'still': 3, 'nets': 2, 'worship': 8, 'before': 5, 'rosetta': 2, 'style': 8, 'personal': 3, 'c': 3, 'ships': 4, 'complex': 2, 'conjugation': 2, 'writing': 12, 'destroyed': 2, 'permanent': 2, 'powers': 2, 'covered': 4, 'scribes': 6, 'alexander': 2, 'might': 3, 'conquest': 2, 'physicians': 4, 'them': 10, 'greater': 2, 'artisans': 2, 'food': 4, 'flour': 3, 'practice': 2, 'beads': 2, 'walls': 4, 'flint': 2, 'they': 27, 'wealthy': 3, 'not': 16, 'documented': 2, 'comprised': 2, 'legitimize': 2, 'maintaining': 3, 'bread': 3, 'growing': 5, 'several': 3, 'meat': 3, 'fully': 2, 'feast': 2, 'establishing': 2, 'crops': 5, 'fasten': 2, 'each': 5, 'found': 12, 'went': 2, 'loyalties': 2, 'excavations': 3, 'suffixes': 3, 'successful': 2, 'development': 2, 'directly': 4, 'independent': 2, 'house': 4, 'fish': 2, 'crimes': 2, 'principles': 2, 'related': 2, 'society': 3, 'books': 3, 'trading': 2, 'agriculture': 2, 'yet': 2, 'out': 5, 'living': 8, 'ultimately': 2, 'god': 3, 'increase': 2, 'governors': 2, 'socalled': 2, 'motifs': 2, 'medicine': 2, 'instructions': 3, 'red': 2, 'common': 5, 'achievements': 3, 'after': 23, 'symbolic': 3, 'written': 10, 'threatened': 3, 'story': 3, 'standard': 3, 'romans': 4, 'houses': 2, 'disputes': 2, 'members': 4, 'egyptians': 44, 'ore': 2, 'beginning': 3, 'inevitable': 2, 'training': 2, 'allies': 2, 'language': 9, 'fueled': 2, 'rule': 6, 'could': 26, 'diminished': 2, 'days': 2, 'kingdoms': 3, 'times': 5, 'domesticated': 3, 'punt': 2, 'place': 2, 'assumed': 2, 'consequence': 2, 'syria': 2, 'today': 2, 'support': 2, 'south': 4, 'first': 17, 'exotic': 2, 'promoted': 2, 'ability': 2, 'limestone': 2, 'statue': 3, 'surviving': 2, 'striking': 2, 'spoken': 3, 'powerful': 4, 'reflected': 4, 'owned': 4, 'one': 4, 'production': 2, 'floors': 2, 'adopted': 3, 'another': 3, 'such': 34, 'conquered': 2, 'open': 3, 'nubian': 2, 'city': 8, 'little': 2, 'ancient': 60, 'officials': 5, 'quality': 3, 'script': 3, 'leading': 2, 'top': 2, 'system': 16, 'least': 3, 'needed': 2, 'attack': 3, 'intermediate': 7, 'which': 49, 'palestine': 2, 'white': 6, 'farming': 3, 'structures': 6, 'shifted': 2, 'a': 205, 'mining': 3, 'sealed': 2, 'that': 42, 'season': 2, 'serve': 3, 'took': 8, 'larger': 2, 'part': 2, 'western': 2, 'peasants': 2, 'off': 2, 'believe': 2, 'elite': 4, 'institution': 3, 'population': 6, 'king': 5, 'effective': 3, 'rival': 3, 'instruction': 2, 'scenes': 3, 'nations': 3, 'semiprecious': 2, 'individual': 2, 'amenemhat': 2, 'historical': 3, 'papyri': 2, 'treated': 3, 'are': 13, 'and': 444, 'few': 4, 'remained': 2, 'imports': 3, 'modern': 4, 'ages': 2, 'head': 4, 'djoser': 2, 'raw': 3, 'hieroglyphic': 4, 'alike': 2, 'have': 13, 'sentences': 4, 'voiced': 2, 'any': 3, 'viewed': 3, 'expeditions': 4, 'kush': 2, 'documents': 2, 'built': 5, 'adjectival': 2, 'thoroughly': 2, 'responsible': 7, 'able': 6, 'stability': 2, 'also': 31, 'ideal': 2, 'internal': 3, 'luxury': 2, 'forces': 4, 'green': 2, 'many': 8, 'projects': 7, 'blades': 2, 'province': 3, 'even': 7, 'added': 3, 'afroasiatic': 2, 'though': 3, 'pyramids': 6, 'object': 2, 'pharaoh': 19, 'paid': 2, 'did': 6, 'most': 11, 'regular': 2, 'significant': 2, 'phase': 2, 'imported': 5, 'oil': 2, 'prestige': 3, 'decline': 5, 'class': 5, 'ka': 2, 'especially': 3, 'considered': 3, 'medical': 2, 'sometimes': 4, 'akhenaten': 2, 'traditional': 6, 'near': 3, 'artistic': 5, 'typically': 3, 'planks': 5, 'stones': 3, 'particularly': 2, 'surplus': 2, 'gold': 10, 'show': 7, 'formal': 5, 'text': 2, 'supported': 4, 'centralized': 2, 'brief': 2, 'discovered': 2, 'soldiers': 2, 'continually': 2, 'enjoyed': 4, 'occupation': 2, 'slow': 2, 'ratio': 2, 'knowledge': 2, 'northern': 4, 'became': 19, 'justice': 2, 'with': 62, 'heavily': 2, 'state': 8, 'than': 8, 'increasingly': 2, 'only': 8, 'wood': 6, 'about': 11, 'rich': 4, 'treasury': 2, 'he': 5, 'local': 5, 'columns': 2, 'prosperity': 2, 'his': 26, 'papyrus': 8, 'monuments': 5, 'revolts': 2, 'amun': 3, 'famous': 5, 'despite': 5, 'during': 21, 'pharaohs': 23, 'trade': 12, 'ascended': 2, 'dwellings': 2, 'areas': 2, 'symbols': 3, 'earn': 2, 'increasing': 3, 'ended': 3, 'fields': 2, 'mastaba': 2, 'taxes': 4, 'shields': 2, 'monumental': 3, 'architecture': 4, 'coptic': 7, 'psamtik': 2, 'river': 4, 'where': 4, 'wrote': 2, 'set': 5, 'art': 14, 'grain': 11, 'theban': 3, 'prayers': 2, 'humans': 2, 'seat': 2, 'culture': 15, 'legacy': 6, 'result': 2, 'cattle': 2, 'close': 2, 'declined': 2, 'techniques': 2, 'success': 2, 'palette': 2, 'farmers': 7, 'shaved': 2, 'materials': 4, 'outside': 2, 'classes': 4, 'closed': 3, 'example': 9, 'conditions': 2, 'across': 2, 'ruling': 2, 'consonants': 3, 'iron': 2, 'persians': 4, 'importance': 4, 'were': 113, 'subject': 5, 'however': 6, 'death': 9, 'styles': 2, 'would': 8, 'extent': 2, 'mentuhotep': 2, 'pagan': 3, 'bronze': 6, 'improve': 2, 'temples': 15, 'both': 6, 'dates': 3, 'last': 5, 'country': 7, 'region': 8, 'priests': 9, 'reliefs': 2, 'against': 7, 'called': 9, 'shoshenq': 2, 'roman': 10, 'objects': 4, 'games': 2, 'newfound': 2, 'semitic': 2, 'kushites': 3, 'libyan': 3, 'badari': 3, 'statues': 7, 'bricks': 2, 'had': 28, 'period': 32, 'community': 2, 'kings': 7, 'actually': 2, 'erased': 2, 'byblos': 2, 'provinces': 2, 'countrys': 3, 'addition': 6, 'help': 3, 'political': 6, 'three': 3, 'erect': 2, 'quickly': 2, 'beer': 3, 'much': 2, 'slowly': 2, 'combined': 2, 'interest': 3, 'basic': 4, 'expected': 2, 'life': 6, 'lived': 2, 'controlled': 5, 'eastern': 6, 'painted': 3, 'quantities': 2, 'formed': 3, 'precision': 2, 'wounds': 2, 'victories': 2, 'nile': 19, 'finished': 3, 'demotic': 8, 'shabti': 2, 'worked': 3, 'an': 23, 'former': 2, 'those': 7, 'plants': 2, 'homes': 2, 'has': 5, 'ptolemies': 5, 'pantheon': 2, 'these': 15, 'expanded': 4, 'appearance': 3, 'as': 114, 'giza': 4, 'will': 2, 'while': 14, 'replaced': 2, 'involved': 4, 'wild': 2, 'situation': 2, 'flooding': 3, 'periods': 5, 'deben': 2, 'pyramid': 4, 'then': 6, 'almost': 2, 'soil': 2, 'is': 35, 'figurines': 3, 'thus': 3, 'it': 17, 'iv': 2, 'kushite': 2, 'rulers': 6, 'converts': 2, 'eras': 2, 'in': 229, 'arabic': 3, 'foreign': 10, 'technology': 2, 'everyday': 2, 'if': 3, 'grown': 2, 'cuisine': 3, 'different': 2, 'productivity': 2, 'satrapy': 2, 'fibers': 2, 'perform': 3, 'alphabet': 4, 'make': 11, 'administration': 9, 'who': 18, 'read': 4, 'parts': 2, 'figures': 3, 'constructed': 6, 'spears': 2, 'conflict': 2, 'european': 2, 'status': 4, 'noble': 2, 'extended': 2, 'centuries': 3, 'affairs': 2, 'ankh': 2, 'tuthmosis': 3, 'defeat': 2, 'traditions': 4, 'renaissance': 2, 'garlic': 3, 'arose': 2, 'nouns': 2, 'military': 14, 'changing': 2, 'scholars': 2, 'lower': 3, 'kept': 2, 'center': 3, 'older': 2, 'i': 5, 'ptolemaic': 3, 'no': 8, 'well': 8, 'cultural': 6, 'without': 2, 'person': 3, 'rome': 4, 'relied': 5, 'the': 778, 'mudbrick': 2, 'left': 5, 'livestock': 2, 'less': 2, 'being': 2, 'gods': 10, 'obtain': 3, 'unclear': 2, 'human': 3, 'world': 6, 'injuries': 3, 'dynastic': 5, 'workers': 3, 'royal': 5, 'deposits': 5, 'source': 4, 'other': 11, 'board': 2, 'technological': 2, 'evidenced': 2, 'east': 3, 'administrative': 2, 'build': 3, 'kingdom': 35, 'aspects': 2, 'around': 11, 'government': 5, 'greek': 9, 'ruler': 2, 'adverbial': 2, 'early': 14, 'game': 2, 'five': 2, 'marked': 2, 'karnak': 2, 'mathematics': 3, 'using': 4, 'new': 27, 'color': 2, 'name': 3, 'necessary': 3, 'like': 2, 'lost': 2, 'strictly': 2, 'graecoroman': 2, 'either': 3, 'robbery': 2, 'always': 2, 'popular': 10, 'become': 2, 'works': 2, 'essential': 3, 'mathematical': 4, 'right': 4, 'old': 12, 'classical': 3, 'people': 7, 'animals': 5, '30': 2, 'some': 17, 'back': 5, 'dead': 3, 'towards': 4, 'respect': 2, 'home': 4, 'empire': 5, 'divine': 2, 'was': 100, 'provided': 6, 'amarna': 5, 'jewelry': 3, 'lead': 2, 'mortuary': 4, 'mummy': 3, 'recorded': 2, 'mines': 2, 'legal': 2, 'mercenaries': 2, 'religion': 3, 'critical': 4, 'temple': 8, 'core': 2, 'naqada': 7, 'knew': 3, 'ba': 2, 'power': 14, 'bc': 10, 'late': 8, 'clay': 2, 'communicate': 2, 'faience': 4, 'architects': 2, 'although': 4, 'worthy': 2, 'assemble': 2, 'from': 65, 'between': 8, 'throne': 4, 'on': 48, 'stone': 15, 'goods': 7, 'rare': 2, 'flourished': 2, 'paints': 2, 'lapis': 2, 'citizens': 2, 'recognized': 4, 'ceremonial': 3, 'practical': 2, 'ensure': 2, 'mummification': 4, 'tomb': 9, 'introduced': 2, 'or': 38, 'ores': 3, 'christianity': 4, 'own': 5, 'fertile': 4, 'sheets': 2, 'burial': 4, 'civil': 3, 'instruments': 3, 'into': 23, 'ramesses': 5, 'canaan': 3, 'included': 7, 'laborers': 2, 'because': 3, 'been': 9, 'artists': 3, 'smendes': 2, 'burials': 4, 'rows': 2, 'her': 4, 'area': 2, 'removing': 2, 'vegetables': 3, 'there': 7, 'long': 4, 'fight': 2, 'structure': 3, 'way': 3, 'series': 6, 'used': 31, 'cultures': 4, 'valley': 8, 'recruited': 2, 'sinai': 3, 'pottery': 3, 'ivory': 2, 'himself': 2, 'complete': 2, 'form': 7, 'but': 31, 'sophisticated': 2, 'collected': 5, 'economic': 2, 'construction': 6, 'delta': 10, 'be': 30, 'promote': 2, 'memphis': 3, 'ceremonies': 2, 'longer': 3, 'made': 18, 'places': 2, 'whether': 2, 'carried': 2, 'up': 2, 'record': 2, 'persian': 4, 'stories': 5, 'hieroglyphs': 6, 'similar': 5, 'beliefs': 2, 'supreme': 3, 'later': 12, 'akhenatens': 3, 'flat': 2, 'obelisks': 4, 'moved': 2, 'direction': 2, 'evidence': 3, 'single': 2, 'diverse': 2, 'together': 4, 'ship': 3, 'portrayed': 3, 'physical': 2, 'high': 7, 'variety': 2, 'administered': 2, 'peace': 2, 'when': 6, 'aromatic': 2, 'end': 7, 'afford': 2, 'shrine': 2, 'role': 3, 'ambitious': 2, 'granite': 2, 'bleached': 2, 'dynasties': 3, 'mummies': 2, 'elements': 3, 'libyans': 2, 'models': 3, 'time': 5, 'problems': 3, 'antiquities': 5, 'important': 9, 'exported': 2, 'climate': 2, 'influence': 4, 'decorated': 3, 'desert': 6, 'died': 2, 'narmer': 4, 'building': 12, 'land': 12, 'for': 61, 'established': 5, 'age': 3, 'required': 2, 'lasted': 2, 'governed': 2, 'greeks': 2, 'restricted': 2, 'at': 32, 'serious': 2, 'silica': 2, 'having': 2}, {'alvin': 5, 'just': 2, 'years': 2, 'satellites': 2, 'through': 3, 'worked': 3, 'decade': 2, 'impact': 3, '21st': 2, 'outer': 2, 'producer': 2, 'workers': 2, 'including': 2, 'labor': 3, 'to': 32, 'production': 3, 'has': 3, 'then': 2, 'his': 9, 'material': 2, 'wave': 3, 'break': 2, 'cannot': 2, 'they': 5, 'not': 3, 'using': 2, 'him': 6, 'societies': 3, 'fortune': 4, 'countries': 2, 'university': 2, 'married': 2, 'theyre': 2, 'she': 2, 'consultant': 2, 'att': 3, 'works': 3, 'where': 3, 'justintime': 2, 'toffler': 13, 'people': 3, 'house': 2, 'society': 6, 'see': 4, 'are': 5, 'our': 2, 'out': 2, 'what': 2, 'business': 5, 'for': 11, 'space': 2, 'research': 3, 'new': 8, 'foundation': 2, 'be': 4, 'after': 3, 'assembly': 2, 'do': 4, 'its': 6, 'techno': 3, 'york': 3, 'become': 2, 'by': 4, 'change': 2, 'on': 11, 'about': 2, 'influential': 2, 'of': 34, 'invited': 2, 'atm': 2, 'against': 2, 'later': 3, 'enabling': 2, 'american': 2, 'became': 2, 'tofflers': 7, 'changes': 2, 'book': 2, 'among': 2, 'major': 2, 'own': 3, 'radical': 2, 'strategic': 2, 'city': 2, 'management': 5, 'from': 3, 'wealth': 2, 'there': 2, 'three': 2, 'been': 5, 'their': 4, 'editor': 2, 'white': 2, 'was': 6, 'more': 3, 'firm': 3, 'that': 6, 'company': 2, 'but': 2, 'correspondent': 2, 'technologies': 3, 'with': 5, 'than': 2, 'those': 2, 'he': 8, 'this': 5, 'science': 2, 'work': 7, 'up': 2, 'will': 3, 'future': 4, 'can': 2, 'were': 2, 'social': 3, 'and': 38, 'computers': 2, 'century': 2, 'is': 8, 'moved': 2, 'an': 5, 'states': 2, 'as': 6, 'associates': 2, 'at': 5, 'have': 5, 'in': 21, 'technology': 3, 'information': 2, 'needs': 4, 'productivity': 2, 'when': 2, 'ideas': 3, 'graduate': 2, 'write': 4, 'also': 5, 'other': 2, 'instead': 3, 'used': 2, 'who': 6, 'most': 3, 'award': 2, 'data': 2, 'a': 25, 'tracking': 2, 'third': 4, 'wife': 3, 'visiting': 2, 'daily': 3, 'mass': 2, 'heidi': 4, 'the': 66, 'consumer': 3, 'magazine': 4}, {'all': 6, 'they': 4, 'proposition': 3, 'its': 6, 'roots': 11, 'previous': 2, 'whose': 2, 'field': 26, 'with': 9, 'assertion': 2, 'to': 4, 'only': 11, 'valid': 4, 'qx': 8, 'has': 21, 'real': 4, 'closure': 2, 'above': 2, 'every': 11, 'words': 2, 'not': 13, 'prime': 5, 'fields': 5, 'common': 6, 'irreducible': 10, 'because': 4, 'cyclotomic': 2, 'some': 13, 'algebraically': 29, 'are': 14, 'proper': 4, 'even': 2, 'for': 14, 'factors': 2, 'sum': 2, 'since': 7, 'rx': 2, 'rational': 6, 'written': 3, 'closed': 30, 'be': 12, 'linear': 3, 'degree': 12, 'if': 34, 'let': 7, 'by': 7, 'on': 6, 'extension': 12, 'of': 40, 'k': 2, 'greater': 2, 'into': 3, 'number': 4, 'one': 7, 'polynomial': 19, 'from': 2, 'would': 2, 'px': 19, 'there': 4, 'two': 3, 'therefore': 6, 'then': 18, 'function': 4, 'form': 3, 'that': 12, 'but': 3, 'nonconstant': 2, 'true': 4, 'coefficients': 3, 'word': 2, 'splits': 2, 'f': 39, 'this': 2, 'characteristic': 3, 'n': 5, 'will': 2, 'can': 4, 'property': 5, 'root': 9, 'called': 2, 'eigenvector': 4, 'proof': 2, 'and': 24, 'xminusa': 2, 'stated': 3, 'is': 56, 'it': 8, 'an': 15, 'endomorphism': 3, 'as': 4, 'numbers': 3, 'have': 4, 'in': 22, 'any': 4, 'relatively': 5, 'functions': 2, 'no': 10, 'holds': 4, 'when': 2, 'same': 2, '1': 4, 'also': 2, 'unity': 3, 'other': 9, 'which': 7, 'finite': 3, 'elements': 3, 'fx': 9, 'characteristic0': 2, 'polynomials': 7, 'hand': 5, 'algebraic': 8, 'generated': 3, 'such': 5, 'fn': 4, 'a': 20, 'natural': 4, 'axminusbn': 2, 'element': 3, 'without': 2, 'the': 65}, {'all': 5, 'uzbekistan': 4, 'facilities': 2, 'battle': 2, 'integrity': 2, 'aggression': 4, 'to': 67, 'program': 4, 'under': 4, 'sovereignty': 3, 'include': 2, 'worth': 2, 'sent': 3, 'brigade': 2, 'nagornokarabakh': 6, 'every': 2, 'tanks': 4, 'launchers': 5, 'large': 2, 'small': 3, 'charter': 2, 'force': 9, 'consists': 2, 'further': 4, 'estimated': 2, 'afghanistan': 2, 'defence': 2, 'assistance': 5, 'expressed': 2, 'new': 3, 'officially': 4, 'exercise': 3, 'maintains': 3, 'iran': 2, 'reported': 3, 'active': 5, 'iraq': 6, 'great': 2, 'shift': 2, 'study': 2, '34': 2, 'published': 2, 'military': 49, 'tasks': 2, 'servicemen': 3, 'trained': 7, 'bordyuzha': 2, 'total': 3, 'armed': 10, 'crisis': 2, 'unit': 2, 'conventional': 2, 'from': 8, 'troops': 4, 'would': 4, 'army': 13, 'arms': 3, 'infantry': 2, 'surfacetoair': 2, 'missile': 2, 'effort': 2, 's300': 3, '1991': 2, '1993': 2, '1992': 3, '1997': 2, 'this': 6, 'guards': 4, 'control': 2, 'patrol': 2, 'december': 5, 'artillery': 3, 'pieces': 2, 'states': 6, 'educational': 2, 'united': 4, 'end': 3, 'divided': 2, 'holds': 2, 'ratified': 3, 'chemical': 2, 'russianarmenian': 5, 'plans': 5, 'use': 3, 'countering': 2, 'such': 3, 'types': 3, 'a': 44, 'third': 2, 'element': 2, 'greek': 3, 'chief': 2, 'democratic': 2, 'operations': 3, 'ohanian': 3, 'help': 2, 'over': 5, 'azerbaijan': 5, 'held': 2, 'including': 3, 'formations': 2, 'its': 15, 'helicopters': 2, '21': 2, '23': 2, 'organisation': 3, 'lithuania': 3, 'late': 2, 'signatory': 2, 'territorial': 3, 'systems': 2, 'main': 3, '2010': 3, 'ally': 2, 'belarus': 4, 'ohanyan': 2, 'they': 5, 'not': 3, 'now': 3, 'armys': 2, 'february': 2, 'january': 5, 'peacekeepers': 11, 'year': 3, 'out': 2, 'since': 6, 'increase': 3, 'armaments': 3, '7': 4, 'exporting': 2, 'after': 2, 'million': 4, 'base': 7, 'training': 7, 'ministry': 8, 'conducted': 2, 'threat': 2, 'baltic': 2, 'first': 4, 'major': 3, 'number': 6, 'one': 3, 'another': 2, '102nd': 5, 'service': 2, 'system': 2, 'relations': 2, 'their': 4, '2': 2, 'statement': 2, 'tashkent': 2, 'that': 17, 'moscow': 2, 'took': 2, 'part': 8, 'rifle': 3, 'specialists': 2, 'july': 3, '12': 2, '14': 3, 'double': 2, 'nations': 3, 'preparation': 2, 'officials': 2, 'were': 3, 'russia': 15, 'and': 92, 'armored': 4, 'partnership': 4, 'have': 9, 'border': 3, '4000': 2, 'officers': 5, 'peacekeeping': 4, 'also': 3, 'forces': 24, 'multiple': 2, 'combat': 6, 'most': 2, 'exercises': 2, 'medical': 2, 'treaty': 8, 'reserve': 2, 'kosovo': 9, 'serving': 2, 'participate': 3, 'soldiers': 6, 'staff': 6, 'based': 3, '3': 2, 'equipped': 3, 'his': 2, 'made': 3, 'international': 7, 'during': 5, 'countries': 8, 'withdrawal': 2, 'where': 4, 'national': 3, 'defense': 24, 'college': 2, 'are': 13, 'greece': 3, 'nuclear': 3, 'currently': 9, 'weapons': 12, 'state': 2, 'various': 2, 'cooperation': 8, 'accord': 2, 'recently': 2, 'august': 2, 'armenias': 7, 'armenian': 37, 'key': 2, 'reaction': 2, 'limits': 2, 'country': 5, 'region': 3, 'according': 4, 'against': 2, 'foreign': 2, 'became': 2, 'armenia': 43, 'headed': 3, '28': 2, '3000': 2, 'throughout': 2, 'turkey': 2, 'addition': 2, 'political': 2, 'three': 2, 'been': 7, 'borders': 2, 'territory': 3, 'meeting': 2, 'stationed': 2, 'minister': 6, 'prices': 2, 'an': 12, 'former': 2, 'those': 2, 'case': 3, 'georgia': 4, 'presidency': 2, 'developing': 2, 'air': 6, 'will': 4, 'while': 5, 'invited': 2, 'is': 25, 'thus': 2, 'it': 8, 'hardware': 4, 'in': 104, 'confirmed': 2, 'missiles': 4, 'media': 2, 'member': 2, 'azerbaijani': 3, 'several': 2, 'conflict': 2, 'closest': 2, 'destruction': 2, 'well': 4, 'command': 6, 'organization': 2, 'the': 210, '800': 2, 'soviet': 2, 'latest': 2, 'departed': 2, 'rocket': 2, 'being': 3, 'polish': 2, 'equipment': 5, 'had': 5, 'nato': 3, '5': 3, 'has': 17, 'march': 2, 'which': 13, 'government': 3, 'early': 3, 'five': 3, 'deployment': 3, 'collective': 5, 'officer': 2, 'security': 8, 'reduced': 2, 'yerevan': 5, 'antiaircraft': 5, 'recognition': 2, 'strategic': 2, 'provided': 3, 'for': 19, 'denied': 2, 'be': 4, 'assembly': 2, 'contingent': 3, 'agreement': 7, 'by': 15, 'on': 27, 'about': 3, 'of': 127, 's300s': 2, 'or': 4, 'own': 2, 'presence': 3, 'into': 3, 'within': 3, 'two': 12, 'deal': 2, 'support': 5, 'there': 7, 'seyran': 4, 'was': 18, 'war': 4, 'azeri': 2, 'but': 2, 'russian': 16, 'with': 23, 'deployed': 3, 'october': 3, 'full': 4, 'official': 2, 'signed': 9, 'militarytechnical': 3, 'general': 7, 'as': 15, 'parliament': 3, 'at': 14, 'functions': 2, 'us': 2, 'no': 2, '46': 4, 'personnel': 2, 'peace': 3, 'when': 2, 'armenians': 2, 'other': 8, 'republic': 2, 'branch': 2, 'csto': 13, 'june': 3, 'weaponry': 2, 'included': 3, 'transfers': 3, 'calls': 2, 'vehicles': 4, 'together': 2, '2002': 2, '2003': 6, '2006': 4, '2004': 6, '2005': 6, '2008': 6, '2009': 10}, {'1st': 2, 'all': 5, 'abilities': 3, 'bidding': 2, 'being': 5, 'when': 5, 'over': 4, 'existing': 2, 'psyche': 6, 'press': 3, 'outofprint': 2, 'through': 3, 'nonrefundable': 2, 'where': 2, 'multiverse': 3, 'children': 3, 'before': 3, 'superior': 3, 'difference': 4, 'having': 2, 'dice': 2, 'how': 3, 'with': 30, 'character': 27, 'drpg': 5, '0': 2, 'only': 3, 'other': 8, 'courts': 7, 'gamemaster': 2, 'main': 2, 'remaining': 2, 'then': 2, 'his': 3, 'greater': 3, 'advantage': 2, 'get': 2, 'corwins': 3, 'material': 4, 'possible': 3, 'game': 13, 'cannot': 2, 'five': 2, 'know': 2, 'they': 11, 'instead': 2, 'not': 3, 'shadow': 5, 'one': 8, 'him': 2, 'shadows': 3, 'magic': 2, 'presented': 3, 'knight': 3, 'level': 3, 'try': 3, 'bad': 4, 'stuff': 8, 'roleplay': 2, 'each': 4, 'found': 2, 'zelazny': 2, 'luck': 3, 'merlin': 5, 'set': 4, 'another': 2, 'fair': 2, 'series': 4, 'creation': 2, 'some': 10, 'back': 2, 'feel': 2, 'edition': 2, 'second': 3, 'books': 7, 'phage': 3, 'are': 21, '256page': 2, 'close': 3, 'out': 2, 'even': 3, 'living': 2, 'for': 20, 'pattern': 6, 'since': 5, 'chaos': 8, 'score': 2, 'zelaznys': 2, 'above': 2, 'between': 6, 'without': 3, 'new': 5, 'diceless': 3, 'either': 2, 'available': 2, 'be': 7, 'after': 3, 'ability': 3, 'power': 2, 'opening': 2, 'were': 5, 'however': 3, 'ranked': 5, 'conflicts': 2, 'therefore': 2, 'strong': 2, 'by': 14, 'change': 2, 'publishing': 2, 'on': 8, 'created': 2, 'auction': 8, 'universe': 4, 'could': 5, 'called': 2, 'players': 17, 'objects': 2, 'games': 2, 'published': 3, 'attributes': 2, 'book': 11, 'first': 5, 'amber': 16, 'relevant': 3, 'amberzine': 2, 'into': 3, 'rank': 5, '2nd': 2, 'company': 2, 'elder': 3, 'pole': 3, '65': 2, '66': 2, 'changing': 4, 'often': 2, 'city': 2, 'or': 17, 'from': 12, 'raise': 2, 'would': 2, 'to': 56, 'create': 3, 'there': 4, 'three': 2, 'strategy': 2, 'their': 8, 'too': 2, 'was': 6, 'war': 2, 'ten': 2, 'more': 3, 'option': 2, 'both': 2, 'becoming': 2, 'constructs': 2, 'but': 8, 'released': 2, 'competition': 2, 'somewhat': 2, 'known': 3, 'representing': 2, 'than': 3, 'those': 2, 'amberites': 3, 'warfare': 3, 'wujcik': 2, 'this': 5, 'logrus': 6, 'bids': 5, 'will': 4, 'ranks': 6, 'while': 4, 'can': 15, 'of': 60, 'powers': 3, 'example': 5, 'result': 4, 'and': 45, 'normal': 3, 'weaker': 5, 'trump': 7, 'eventually': 2, 'attribute': 15, 'is': 37, 'mind': 2, 'it': 10, 'an': 14, 'high': 5, 'player': 7, 'as': 22, 'good': 4, 'at': 3, 'have': 9, 'in': 50, 'seen': 2, 'guardians': 2, 'eric': 2, 'if': 6, 'portray': 2, 'ones': 2, 'strength': 3, 'end': 2, 'no': 2, 'perhaps': 2, 'pay': 3, 'endurance': 2, 'that': 10, 'able': 3, 'detail': 2, 'any': 4, 'also': 2, 'contact': 2, 'details': 2, 'which': 3, 'chronicles': 4, 'bid': 8, 'conflict': 3, 'roleplaying': 4, 'used': 2, 'novels': 4, 'may': 4, 'who': 4, 'collection': 2, 'includes': 2, 'most': 4, 'uses': 2, 'two': 4, 'characters': 27, 'scores': 5, 'such': 4, 'mentally': 2, 'cycle': 2, 'a': 51, 'lower': 2, 'third': 3, 'considered': 4, 'corwin': 4, 'order': 6, 'points': 11, 'so': 2, 'around': 2, 'allow': 2, 'the': 142, 'spend': 4}, {'particularly': 2, 'being': 2, 'magnetic': 4, 'results': 2, 'produced': 2, 'brain': 3, 'its': 3, 'alignment': 3, 'layers': 3, 'chemical': 4, 'etching': 5, 'field': 4, 'texture': 2, 'to': 35, 'wood': 2, 'molecules': 5, 'has': 4, 'plasma': 2, 'oil': 2, 'diffusion': 3, 'orthogonal': 2, 'fractional': 2, 'processes': 3, 'electron': 3, 'effects': 2, 'they': 3, 'difference': 2, 'minerals': 2, 'structural': 2, 'term': 2, 'anisotropy': 21, 'isotropy': 2, 'this': 8, 'common': 2, 'refer': 2, 'where': 2, 'textures': 2, 'smaller': 3, 'often': 3, 'eg': 5, 'some': 3, 'located': 2, 'used': 7, 'are': 15, 'conductivity': 3, 'filtration': 2, 'tensor': 2, 'for': 7, 'restricted': 2, 'axes': 2, 'particles': 2, 'case': 2, 'between': 2, 'geometric': 2, 'movement': 2, 'measuring': 2, 'be': 10, 'fiber': 3, 'vertical': 2, 'of': 55, 'perpendicular': 2, 'water': 5, 'wells': 2, 'along': 3, 'properties': 7, 'change': 2, 'on': 2, 'about': 2, 'increasingly': 2, 'shift': 2, 'density': 2, 'cosmic': 2, 'dependence': 2, 'motion': 2, 'resulting': 2, 'isotropic': 3, 'or': 10, 'imaging': 3, 'and': 24, 'filtering': 2, 'features': 4, 'can': 10, 'image': 2, 'layer': 2, 'one': 3, 'another': 2, 'respect': 2, 'seismic': 6, 'use': 2, 'from': 5, 'source': 3, 'create': 2, 'been': 2, 'their': 3, 'anisotropic': 19, 'more': 8, 'angled': 2, 'direction': 8, 'that': 12, 'gas': 2, 'but': 2, 'heat': 5, 'optical': 4, 'with': 13, 'than': 4, 'applied': 2, 'account': 2, 'liquid': 3, 'these': 3, 'will': 2, 'transducer': 3, 'spectroscopy': 2, 'error': 2, 'distribution': 2, 'property': 3, 'example': 4, 'exhibit': 4, 'resistivity': 2, 'tracts': 2, 'orientation': 4, 'defined': 2, 'certain': 4, 'is': 35, 'describe': 2, 'it': 5, 'surface': 2, 'an': 10, 'high': 3, 'as': 12, 'at': 2, 'have': 5, 'seen': 3, 'crystals': 3, 'axis': 5, 'filter': 4, 'different': 4, 'angle': 2, 'whereas': 2, 'when': 5, 'wavespeed': 2, 'same': 2, 'regions': 2, 'also': 5, 'electrical': 3, 'which': 8, 'physical': 2, 'material': 6, 'normal': 3, 'may': 4, 'techniques': 2, 'variation': 2, 'most': 3, 'important': 2, 'significant': 2, 'rolling': 3, 'such': 9, 'horizontal': 2, 'measured': 2, 'parallel': 3, 'appear': 2, 'a': 27, 'tendon': 2, 'in': 49, 'fluorescence': 3, 'light': 3, 'average': 2, 'directional': 3, 'materials': 9, 'so': 2, 'the': 76, 'order': 2}]"
      ]
     },
     "execution_count": 11,
     "metadata": {},
     "output_type": "execute_result"
    }
   ],
   "source": [
    "docs.head()"
   ]
  },
  {
   "cell_type": "code",
   "execution_count": 13,
   "metadata": {
    "collapsed": true
   },
   "outputs": [],
   "source": [
    "docs = docs.dict_trim_by_keys(graphlab.text_analytics.stopwords(), exclude=True)"
   ]
  },
  {
   "cell_type": "code",
   "execution_count": 14,
   "metadata": {
    "collapsed": true
   },
   "outputs": [],
   "source": [
    "ix = docs.apply(lambda x: len(x.keys()) >= 10)\n",
    "docs = docs[ix]"
   ]
  },
  {
   "cell_type": "code",
   "execution_count": 15,
   "metadata": {
    "collapsed": false
   },
   "outputs": [
    {
     "data": {
      "text/plain": [
       "0.48087726580877266"
      ]
     },
     "execution_count": 15,
     "metadata": {},
     "output_type": "execute_result"
    }
   ],
   "source": [
    "1-ix.mean()"
   ]
  },
  {
   "cell_type": "code",
   "execution_count": 17,
   "metadata": {
    "collapsed": false
   },
   "outputs": [
    {
     "data": {
      "text/plain": [
       "graphlab.data_structures.sarray.SArray"
      ]
     },
     "execution_count": 17,
     "metadata": {},
     "output_type": "execute_result"
    }
   ],
   "source": [
    "type(ix)"
   ]
  },
  {
   "cell_type": "code",
   "execution_count": 18,
   "metadata": {
    "collapsed": false
   },
   "outputs": [
    {
     "name": "stdout",
     "output_type": "stream",
     "text": [
      "PROGRESS: Learning a topic model\n",
      "PROGRESS:        Number of documents     37517\n",
      "PROGRESS:            Vocabulary size    160168\n",
      "PROGRESS:    Running collapsed Gibbs sampling\n",
      "PROGRESS: +-----------+---------------+----------------+-----------------+\n",
      "PROGRESS: | Iteration | Elapsed Time  | Tokens/Second  | Est. Perplexity |\n",
      "PROGRESS: +-----------+---------------+----------------+-----------------+\n",
      "PROGRESS: | 10        | 4.73s         | 4.31617e+06    | 0               |\n",
      "PROGRESS: | 20        | 8.94s         | 4.29113e+06    | 0               |\n",
      "PROGRESS: | 30        | 13.21s        | 4.26112e+06    | 0               |\n",
      "PROGRESS: +-----------+---------------+----------------+-----------------+\n"
     ]
    }
   ],
   "source": [
    "m = graphlab.topic_model.create(docs, num_topics=30, num_iterations=30)"
   ]
  },
  {
   "cell_type": "code",
   "execution_count": 19,
   "metadata": {
    "collapsed": false
   },
   "outputs": [
    {
     "data": {
      "text/plain": [
       "Class                         : TopicModel\n",
       "\n",
       "Schema\n",
       "------\n",
       "Vocabulary Size               : 160168\n",
       "Topic Size                    : 160168\n",
       "\n",
       "Settings\n",
       "--------\n",
       "Number of Topics              : 30\n",
       "alpha                         : 1.6667\n",
       "beta                          : 0.1\n",
       "Iterations                    : 30\n",
       "Verbose                       : False\n",
       "\n",
       "Accessible fields             : \n",
       "m['topics']                   : An SFrame containing the topics.\n",
       "m['vocabulary']               : An SArray containing the topics.\n",
       "Useful methods                : \n",
       "m.get_topics()                : Get the most probable words per topic.\n",
       "m.predict(new_docs)           : Make predictions for new documents."
      ]
     },
     "execution_count": 19,
     "metadata": {},
     "output_type": "execute_result"
    }
   ],
   "source": [
    "m"
   ]
  },
  {
   "cell_type": "code",
   "execution_count": 20,
   "metadata": {
    "collapsed": false
   },
   "outputs": [
    {
     "data": {
      "text/html": [
       "<div style=\"max-height:1000px;max-width:1500px;overflow:auto;\"><table frame=\"box\" rules=\"cols\">\n",
       "    <tr>\n",
       "        <th style=\"padding-left: 1em; padding-right: 1em; text-align: center\">topic</th>\n",
       "        <th style=\"padding-left: 1em; padding-right: 1em; text-align: center\">word</th>\n",
       "        <th style=\"padding-left: 1em; padding-right: 1em; text-align: center\">score</th>\n",
       "    </tr>\n",
       "    <tr>\n",
       "        <td style=\"padding-left: 1em; padding-right: 1em; text-align: center; vertical-align: top\">0</td>\n",
       "        <td style=\"padding-left: 1em; padding-right: 1em; text-align: center; vertical-align: top\">company</td>\n",
       "        <td style=\"padding-left: 1em; padding-right: 1em; text-align: center; vertical-align: top\">0.0314982448812</td>\n",
       "    </tr>\n",
       "    <tr>\n",
       "        <td style=\"padding-left: 1em; padding-right: 1em; text-align: center; vertical-align: top\">0</td>\n",
       "        <td style=\"padding-left: 1em; padding-right: 1em; text-align: center; vertical-align: top\">system</td>\n",
       "        <td style=\"padding-left: 1em; padding-right: 1em; text-align: center; vertical-align: top\">0.014043240411</td>\n",
       "    </tr>\n",
       "    <tr>\n",
       "        <td style=\"padding-left: 1em; padding-right: 1em; text-align: center; vertical-align: top\">0</td>\n",
       "        <td style=\"padding-left: 1em; padding-right: 1em; text-align: center; vertical-align: top\">production</td>\n",
       "        <td style=\"padding-left: 1em; padding-right: 1em; text-align: center; vertical-align: top\">0.0120920906066</td>\n",
       "    </tr>\n",
       "    <tr>\n",
       "        <td style=\"padding-left: 1em; padding-right: 1em; text-align: center; vertical-align: top\">0</td>\n",
       "        <td style=\"padding-left: 1em; padding-right: 1em; text-align: center; vertical-align: top\">business</td>\n",
       "        <td style=\"padding-left: 1em; padding-right: 1em; text-align: center; vertical-align: top\">0.0107592629234</td>\n",
       "    </tr>\n",
       "    <tr>\n",
       "        <td style=\"padding-left: 1em; padding-right: 1em; text-align: center; vertical-align: top\">0</td>\n",
       "        <td style=\"padding-left: 1em; padding-right: 1em; text-align: center; vertical-align: top\">game</td>\n",
       "        <td style=\"padding-left: 1em; padding-right: 1em; text-align: center; vertical-align: top\">0.0107272017764</td>\n",
       "    </tr>\n",
       "    <tr>\n",
       "        <td style=\"padding-left: 1em; padding-right: 1em; text-align: center; vertical-align: top\">1</td>\n",
       "        <td style=\"padding-left: 1em; padding-right: 1em; text-align: center; vertical-align: top\">india</td>\n",
       "        <td style=\"padding-left: 1em; padding-right: 1em; text-align: center; vertical-align: top\">0.0229845257586</td>\n",
       "    </tr>\n",
       "    <tr>\n",
       "        <td style=\"padding-left: 1em; padding-right: 1em; text-align: center; vertical-align: top\">1</td>\n",
       "        <td style=\"padding-left: 1em; padding-right: 1em; text-align: center; vertical-align: top\">district</td>\n",
       "        <td style=\"padding-left: 1em; padding-right: 1em; text-align: center; vertical-align: top\">0.0121630979973</td>\n",
       "    </tr>\n",
       "    <tr>\n",
       "        <td style=\"padding-left: 1em; padding-right: 1em; text-align: center; vertical-align: top\">1</td>\n",
       "        <td style=\"padding-left: 1em; padding-right: 1em; text-align: center; vertical-align: top\">people</td>\n",
       "        <td style=\"padding-left: 1em; padding-right: 1em; text-align: center; vertical-align: top\">0.00934098705833</td>\n",
       "    </tr>\n",
       "    <tr>\n",
       "        <td style=\"padding-left: 1em; padding-right: 1em; text-align: center; vertical-align: top\">1</td>\n",
       "        <td style=\"padding-left: 1em; padding-right: 1em; text-align: center; vertical-align: top\">temple</td>\n",
       "        <td style=\"padding-left: 1em; padding-right: 1em; text-align: center; vertical-align: top\">0.00909413574688</td>\n",
       "    </tr>\n",
       "    <tr>\n",
       "        <td style=\"padding-left: 1em; padding-right: 1em; text-align: center; vertical-align: top\">1</td>\n",
       "        <td style=\"padding-left: 1em; padding-right: 1em; text-align: center; vertical-align: top\">king</td>\n",
       "        <td style=\"padding-left: 1em; padding-right: 1em; text-align: center; vertical-align: top\">0.00826685027068</td>\n",
       "    </tr>\n",
       "</table>\n",
       "[150 rows x 3 columns]<br/>Note: Only the head of the SFrame is printed.<br/>You can use print_rows(num_rows=m, num_columns=n) to print more rows and columns.\n",
       "</div>"
      ],
      "text/plain": [
       "Columns:\n",
       "\ttopic\tint\n",
       "\tword\tstr\n",
       "\tscore\tfloat\n",
       "\n",
       "Rows: 150\n",
       "\n",
       "Data:\n",
       "+-------+------------+------------------+\n",
       "| topic |    word    |      score       |\n",
       "+-------+------------+------------------+\n",
       "|   0   |  company   | 0.0314982448812  |\n",
       "|   0   |   system   |  0.014043240411  |\n",
       "|   0   | production | 0.0120920906066  |\n",
       "|   0   |  business  | 0.0107592629234  |\n",
       "|   0   |    game    | 0.0107272017764  |\n",
       "|   1   |   india    | 0.0229845257586  |\n",
       "|   1   |  district  | 0.0121630979973  |\n",
       "|   1   |   people   | 0.00934098705833 |\n",
       "|   1   |   temple   | 0.00909413574688 |\n",
       "|   1   |    king    | 0.00826685027068 |\n",
       "+-------+------------+------------------+\n",
       "[150 rows x 3 columns]\n",
       "Note: Only the head of the SFrame is printed.\n",
       "You can use print_rows(num_rows=m, num_columns=n) to print more rows and columns."
      ]
     },
     "execution_count": 20,
     "metadata": {},
     "output_type": "execute_result"
    }
   ],
   "source": [
    "m.get_topics()"
   ]
  },
  {
   "cell_type": "code",
   "execution_count": 21,
   "metadata": {
    "collapsed": false
   },
   "outputs": [
    {
     "name": "stdout",
     "output_type": "stream",
     "text": [
      "['management', 'business', 'company', 'system', 'production', 'game', 'made', 'including', 'products', 'market']\n",
      "['center', 'district', 'students', 'national', 'research', 'high', 'college', 'student', 'schools', 'education']\n",
      "['made', 'group', 'los', 'series', 'played', 'character', 'years', 'band', 'rock', 'film']\n",
      "['king', 'life', 'death', 'family', 'young', 'years', 'year', 'world', 'children', 'women']\n",
      "['computer', 'system', 'point', 'windows', 'number', 'standard', 'program', 'systems', 'version', 'software']\n",
      "['blue', 'long', 'large', 'black', 'human', 'small', 'found', 'white', 'species', 'red']\n",
      "['league', 'play', 'played', 'national', 'football', 'competition', 'field', 'games', 'home', 'record']\n",
      "['story', 'love', 'house', 'father', 'back', 'series', 'episode', 'tells', 'film', 'man']\n",
      "['city', 'living', '18', 'age', 'median', 'years', 'county', 'income', 'average', 'population']\n",
      "['city', 'chinese', 'district', 'king', 'people', 'india', 'british', 'pakistan', 'found', 'temple']\n",
      "['division', 'army', 'men', 'japanese', 'british', 'general', 'attack', 'forces', 'battle', 'military']\n",
      "['king', 'san', 'la', 'paris', 'de', 'year', 'french', 'france', 'spanish', 'spain']\n",
      "['life', 'theatre', 'work', 'award', 'years', 'role', 'time', 'films', 'worked', 'works']\n",
      "['school', 'university', 'years', 'states', 'state', 'program', 'college', 'york', 'served', 'public']\n",
      "['town', 'land', 'north', 'area', 'island', 'lake', 'state', 'part', 'east', 'road']\n",
      "['cup', 'club', 'season', 'year', 'players', 'game', 'won', 'team', 'world', 'final']\n",
      "['building', 'england', 'time', 'royal', 'st', 'william', 'london', 'english', 'lord', 'john']\n",
      "['art', 'language', 'german', 'museum', 'book', 'germany', 'published', 'world', 'war', 'history']\n",
      "['case', 'united', 'court', 'people', 'justice', 'war', 'states', 'police', 'law', 'public']\n",
      "['village', 'catholic', 'christian', 'city', 'house', 'century', 'st', 'roman', 'part', 'church']\n",
      "['made', 'family', 'began', 'war', 'american', 'time', 'home', 'july', 'john', 'day']\n",
      "['water', 'creek', 'million', 'gas', 'years', 'project', 'construction', 'design', 'river', 'south']\n",
      "['control', 'set', 'group', 'theory', 'space', 'number', 'time', 'model', 'data', 'called']\n",
      "['development', 'people', 'national', 'rights', 'year', 'system', 'world', 'services', 'international', 'government']\n",
      "['city', 'street', 'service', 'west', 'route', 'park', 'county', 'station', 'line', 'south']\n",
      "['canada', 'show', 'january', 'stations', 'years', 'station', 'radio', '2007', 'year', 'news']\n",
      "['high', 'term', 'form', 'chinese', 'cells', 'effect', 'cell', 'blood', 'emperor', 'common']\n",
      "['united', 'force', 'service', 'ships', 'air', 'units', 'aircraft', 'navy', 'ship', 'war']\n",
      "['album', 'show', 'song', 'records', 'single', 'music', 'video', '2009', 'released', 'songs']\n",
      "['government', 'national', 'political', 'general', 'state', 'minister', 'members', 'president', 'party', 'support']\n"
     ]
    }
   ],
   "source": [
    "topics = m.get_topics(num_words=10).unstack(['word','score'], new_column_name='topic_words')['topic_words'].apply(lambda x: x.keys())\n",
    "for topic in topics:\n",
    "    print topic"
   ]
  },
  {
   "cell_type": "code",
   "execution_count": 22,
   "metadata": {
    "collapsed": false
   },
   "outputs": [
    {
     "data": {
      "text/plain": [
       "dtype: int\n",
       "Rows: 5\n",
       "[5, 27, 17, 18, 15]"
      ]
     },
     "execution_count": 22,
     "metadata": {},
     "output_type": "execute_result"
    }
   ],
   "source": [
    "m.predict(docs[:5])"
   ]
  },
  {
   "cell_type": "code",
   "execution_count": 25,
   "metadata": {
    "collapsed": false
   },
   "outputs": [
    {
     "data": {
      "text/plain": [
       "dtype: dict\n",
       "Rows: 5\n",
       "[{'concept': 2, 'founder': 2, 'resistance': 2, 'themes': 2, 'writings': 3, 'issues': 2, 'postleft': 2, 'paris': 2, 'concerned': 2, 'literary': 2, 'characterised': 3, 'federation': 11, 'wishes': 2, 'founded': 4, 'school': 7, 'joined': 3, 'small': 3, '20th': 2, 'solidarity': 4, 'revolution': 8, 'force': 2, 'direct': 4, 'cost': 2, 'established': 5, 'individualist': 17, 'favour': 2, 'liberty': 3, '19th': 4, 'international': 24, 'order': 3, 'public': 2, 'bestknown': 2, 'movement': 21, 'supporting': 2, 'led': 6, 'men': 3, 'french': 7, 'free': 15, 'groups': 8, 'active': 6, 'change': 3, 'extreme': 3, 'ukraine': 2, 'anarchoprimitivism': 2, 'anarchism': 65, 'receive': 2, 'inspired': 3, 'economics': 2, 'adjectives': 3, 'social': 18, 'action': 5, 'anarchist': 74, 'struggle': 2, 'love': 9, 'monatte': 2, 'private': 4, 'stirner': 5, 'moral': 4, 'anarchocommunism': 2, 'opponents': 2, 'riots': 2, 'working': 2, 'positive': 2, 'played': 2, 'france': 6, 'call': 2, 'opposed': 3, 'strike': 2, 'scope': 2, 'theoretical': 3, 'trabajo': 2, 'anarchisms': 2, 'successful': 2, 'women': 3, 'organizations': 2, 'include': 5, 'join': 2, 'hour': 2, 'rights': 6, 'work': 3, 'values': 2, 'believed': 2, 'spontaneous': 3, 'control': 4, 'violence': 2, 'stated': 2, 'cited': 2, 'abandonment': 2, 'states': 8, 'sought': 2, 'sense': 2, 'libertarian': 7, 'influenced': 2, 'united': 10, 'goal': 3, 'democracy': 2, 'divided': 3, 'acts': 5, 'struggles': 2, 'oppose': 2, 'philosophy': 7, 'fascism': 2, 'membership': 2, 'mankind': 2, '1886': 2, 'response': 5, 'types': 3, 'advocated': 8, 'communities': 2, 'revolt': 2, 'st': 2, 'advocates': 2, 'leftwing': 3, 'democratic': 2, 'playing': 2, 'exclusive': 2, 'comfort': 2, 'developed': 2, 'trade': 6, 'held': 2, 'including': 5, 'argued': 2, 'existence': 2, 'tendency': 3, 'warren': 2, 'group': 5, 'la': 2, 'del': 4, 'organisation': 4, 'labor': 4, 'forms': 5, 'production': 4, 'systems': 2, 'policy': 3, 'main': 4, 'good': 3, 'anarchosyndicalists': 2, 'emphasises': 2, 'haymarket': 3, 'day': 7, 'association': 5, 'escuela': 2, 'february': 2, 'alex': 2, 'victory': 2, 'bolshevik': 3, 'found': 2, 'principles': 2, 'related': 2, 'society': 12, 'year': 2, 'organised': 3, 'sexual': 6, 'anarchy': 4, 'fundamentally': 2, 'activism': 3, 'issue': 2, 'summerhill': 3, 'theory': 6, '1920s': 2, 'possibility': 2, 'mikhail': 2, 'approaches': 2, 'federations': 3, 'members': 4, 'revolutionary': 14, 'language': 2, 'created': 2, 'libertarianism': 2, 'thing': 2, 'american': 5, 'place': 3, 'confrontations': 2, 'rudolf': 2, 'major': 4, 'industrial': 2, 'radical': 6, 'philosophical': 6, 'spanish': 5, 'revival': 2, 'rejects': 2, 'leading': 2, 'system': 5, '1881': 2, 'part': 2, 'grew': 2, 'roles': 2, 'aims': 2, 'compensation': 2, 'bohemian': 2, 'russia': 3, 'godwin': 5, 'antiauthoritarian': 2, 'topics': 2, 'modern': 6, 'capitalism': 2, 'catholic': 2, 'ideas': 4, 'potential': 2, 'conducive': 2, 'goldman': 7, 'measures': 2, 'exercised': 3, 'position': 2, 'services': 3, 'class': 5, 'synonym': 2, 'popularity': 2, 'wing': 3, 'traditional': 2, 'sources': 2, 'lpf': 2, 'laws': 3, 'affair': 2, 'phenomenon': 2, 'german': 2, 'supported': 2, 'contemporary': 3, 'bring': 2, 'communism': 7, 'syndicalist': 2, 'state': 18, 'syndicalism': 6, 'bombings': 3, 'feminists': 2, 'communist': 6, 'founding': 2, 'means': 4, 'mutualist': 3, 'secular': 2, 'mutualism': 2, 'ferrer': 3, 'du': 2, 'areas': 2, 'countries': 2, 'egoism': 4, 'common': 3, 'egoist': 3, 'proponents': 3, 'wrote': 4, 'achieved': 2, 'sex': 2, '1921': 2, 'individual': 10, 'voluntary': 3, 'importance': 3, 'unions': 4, 'cooperation': 2, 'nestor': 2, 'proudhon': 5, '1890s': 3, 'ruling': 2, 'europe': 3, 'terms': 2, 'initially': 3, 'opposition': 3, 'police': 3, 'reaction': 2, 'interpretations': 2, 'federalist': 2, 'anarchopacifist': 2, 'influential': 2, 'similar': 3, 'equal': 2, 'called': 3, 'figures': 2, 'argue': 2, 'expression': 4, 'anarchopacifism': 3, 'experimental': 2, 'ferrers': 2, 'period': 3, 'johann': 2, 'church': 2, 'basis': 2, 'union': 5, 'create': 2, 'political': 6, 'criticised': 2, 'marx': 2, 'pierrejoseph': 2, 'bolsheviks': 6, 'formed': 2, 'external': 2, 'worked': 2, 'spain': 3, 'advocating': 3, 'socialist': 5, 'socialism': 2, 'promoted': 3, 'property': 6, 'philosophies': 2, 'century': 9, 'collectivization': 2, 'rulers': 2, 'rally': 3, 'currents': 2, 'movements': 13, 'revolutions': 2, 'italy': 3, 'media': 2, 'kronstadt': 2, 'member': 2, 'utilitarian': 2, 'followers': 2, 'arguments': 2, 'largest': 2, 'party': 3, 'conflict': 5, 'european': 2, 'commune': 2, 'emphasise': 2, 'confederacin': 2, 'evil': 2, 'arose': 3, 'ownership': 3, 'tradition': 2, 'marxs': 2, 'anarchists': 31, 'stateless': 2, 'malatesta': 4, 'thought': 15, 'anarchiste': 2, 'english': 5, 'organization': 7, 'drawing': 2, 'left': 2, 'rocker': 2, 'coup': 2, 'collectivism': 2, 'traditions': 6, 'proposed': 3, 'front': 3, 'violent': 5, 'openly': 2, 'alternative': 2, 'collectivist': 10, 'renewed': 2, 'feminist': 2, 'workers': 15, 'anarchosyndicalism': 3, 'killed': 2, 'labour': 9, 'anarchosyndicalist': 4, 'role': 3, 'expelled': 2, 'communitarian': 2, 'government': 4, 'advocate': 2, 'disagreement': 2, 'term': 5, 'early': 3, 'catalan': 2, 'world': 5, 'execution': 2, 'emma': 5, 'success': 3, 'schools': 12, 'collective': 2, 'specific': 2, 'individuals': 5, 'officer': 2, 'popular': 3, 'works': 2, 'classical': 3, 'bakunin': 5, 'back': 2, 'authority': 4, 'socialists': 4, 'economic': 2, 'cnt': 6, 'communes': 2, 'philosopher': 2, 'conservative': 2, 'repression': 2, 'embodies': 2, 'minimal': 2, 'power': 3, 'equivalent': 2, 'refers': 2, 'cgt': 3, 'individualism': 5, 'goods': 2, 'central': 4, 'freedom': 4, 'months': 2, 'ideology': 3, 'mutually': 2, 'womens': 2, 'alliance': 2, 'protests': 2, 'civil': 6, 'involvement': 2, 'doctrine': 2, 'parties': 2, 'communists': 3, 'support': 3, 'fought': 2, 'dynamite': 2, 'factions': 2, 'sections': 3, 'war': 9, 'synthesis': 4, 'north': 2, 'form': 10, 'russian': 3, 'josiah': 2, 'nonviolence': 2, 'october': 4, 'tactics': 4, 'today': 2, 'distribution': 3, 'makhno': 2, 'propaganda': 6, 'stirners': 2, 'moderna': 2, 'influence': 3, 'general': 9, 'diverse': 3, 'organizational': 2, 'politics': 2, 'deed': 5, 'education': 5, 'marxist': 5, 'generally': 3, 'event': 3, 'democratically': 2, 'setting': 2, 'insurrectionary': 3, 'marxism': 2, 'kinds': 2, 'congress': 4, 'william': 3, 'important': 5, 'suppression': 2, 'fdration': 2, 'included': 2, 'tendencies': 4, '2000': 2, 'time': 7}, {'convert500': 2, 'limited': 3, 'partial': 2, 'chain': 3, 'mile': 2, 'asian': 3, 'subarctic': 5, 'managed': 2, 'settlement': 4, 'religious': 3, 'issues': 2, 'increase': 2, 'terms': 2, 'hunting': 3, 'fouryear': 2, 'wyoming': 3, 'young': 2, 'languages': 4, 'sitka': 7, 'program': 6, 'voted': 2, 'include': 4, 'friendly': 2, 'resources': 2, 'southwest': 5, 'protestants': 2, 'division': 2, 'regional': 3, 'ticket': 4, 'cool': 2, 'entire': 5, 'school': 5, 'crops': 2, 'murkowski': 2, 'democrat': 2, 'large': 6, 'race': 7, 'form': 2, 'highway': 12, 'small': 6, '20th': 2, 'force': 4, 'estimates': 2, 'rivers': 2, 'rate': 2, 'cost': 8, 'pass': 2, 'estimated': 2, 'folk': 4, 'universities': 2, 'cargo': 2, 'imported': 2, 'contributed': 2, 'access': 4, 'indian': 2, 'capital': 9, 'international': 4, 'ground': 3, 'officially': 3, 'consisting': 4, 'transportation': 10, 'contiguous': 2, 'statehood': 2, 'tracks': 2, '109': 2, 'groups': 2, 'palin': 2, 'active': 3, 'earthquake': 3, 'extreme': 2, 'passengers': 3, 'great': 2, 'gulf': 4, 'lieutenant': 2, 'receive': 3, 'items': 3, 'employees': 2, 'stretching': 2, 'alaska': 176, '35': 3, 'leaving': 2, 'airport': 2, 'dogsled': 2, 'products': 2, 'military': 4, 'residents': 4, 'mala': 2, 'seward': 7, 'york': 2, 'statewide': 4, 'brought': 2, 'total': 2, 'sarah': 2, 'remains': 3, 'indians': 2, 'petroleum': 7, 'flights': 2, 'symphony': 4, 'music': 6, 'refuge': 4, 'today': 4, 'possession': 2, 'subsistence': 3, 'company': 3, 'wildlife': 7, 'trail': 4, 'flag': 3, 'census': 9, '20000': 2, 'cases': 4, 'high': 8, 'gravel': 2, '1994': 2, 'tunnel': 6, 'thousands': 3, 'reelected': 2, 'districts': 3, 'regions': 5, 'temperatures': 4, 'anchorage': 36, 'growing': 3, 'ferry': 4, 'talkeetna': 3, 'revenues': 3, 'history': 3, 'volcanoes': 2, 'subsidies': 2, 'tax': 10, 'purposes': 2, 'northernmost': 2, 'states': 52, 'reserves': 2, 'gallon': 2, 'serum': 2, 'native': 10, 'information': 2, 'united': 20, 'court': 4, 'winter': 6, 'dillingham': 2, 'provide': 2, 'divided': 4, 'immigrants': 2, 'feature': 2, 'boroughs': 3, '1': 2, 'located': 5, 'economy': 7, 'product': 2, 'summers': 3, 'waters': 3, 'derived': 3, 'abuse': 2, 'law': 5, 'data': 2, 'purchase': 3, 'short': 2, 'natural': 6, 'light': 2, 'coal': 5, 'convert60': 2, 'kodiak': 3, 'african': 2, 'democratic': 4, 'began': 3, 'wind': 2, 'travel': 4, 'operations': 3, 'senators': 2, 'played': 2, 'singersongwriter': 2, 'transalaska': 3, 'years': 6, 'produced': 2, 'held': 3, 'including': 7, 'statistical': 2, 'cruise': 2, 'agricultural': 2, 'iditarod': 2, 'superior': 3, 'police': 4, '22': 3, 'fairbanks': 20, 'stevens': 4, 'ships': 3, 'territorial': 4, 'permanent': 3, 'mail': 2, 'criminal': 2, '2010': 3, 'texas': 2, 'combination': 2, 'orthodox': 4, 'food': 8, 'municipality': 2, 'largest': 17, 'nation': 4, 'mgms': 2, 'dock': 2, 'half': 2, 'arriving': 2, 'republican': 10, '1959': 2, 'killed': 2, 'presidential': 3, 'barrow': 3, 'worlds': 5, 'term': 3, 'opera': 2, 'january': 4, 'university': 6, 'identified': 2, 'found': 3, 'organized': 3, 'european': 3, 'referred': 2, 'week': 2, 'square': 2, 'populated': 3, 'house': 5, 'energy': 4, 'bethel': 2, 'sled': 3, 'society': 3, 'galena': 2, 'year': 13, 'navy': 2, 'bay': 4, 'special': 2, 'canada': 8, 'living': 4, 'skagway': 3, 'valdez': 3, 'mate': 2, '7': 2, 'occurs': 2, 'independence': 3, 'foundation': 2, 'southern': 3, 'million': 2, 'base': 3, 'coastline': 3, 'members': 6, 'rises': 3, 'marine': 3, 'whittier': 2, 'training': 2, 'mainland': 3, 'district': 5, 'language': 4, 'route': 4, 'days': 3, 'british': 7, 'times': 5, 'american': 10, '100000': 3, '1970s': 2, 'pilots': 3, 'south': 9, 'stewart': 2, 'major': 7, 'revenue': 3, 'powerful': 2, 'primary': 3, 'owned': 2, 'production': 4, 'mushers': 2, 'americans': 13, 'directly': 2, 'spanish': 2, 'carry': 2, 'corporations': 2, 'city': 11, 'management': 2, 'heads': 2, 'temperature': 6, 'service': 12, 'nome': 7, 'festival': 7, 'system': 11, 'approximately': 2, 'mccains': 2, 'aleutian': 5, 'hollywood': 3, 'john': 3, 'national': 10, 'paved': 2, 'urban': 2, 'haines': 2, 'ketchikan': 4, 'academy': 2, 'hotel': 2, 'serve': 2, 'released': 2, 'part': 14, 'western': 4, 'number': 4, 'july': 4, '1912': 2, '1915': 2, 'white': 5, 'population': 36, 'boarding': 2, 'wide': 2, 'television': 2, '12': 2, 'programs': 2, 'tourists': 3, 'recording': 3, 'amount': 2, 'providing': 2, 'russia': 2, 'result': 4, 'sea': 9, 'nominee': 4, 'juneau': 11, 'borough': 11, 'occupied': 3, 'linked': 2, 'expeditions': 2, '1968': 2, 'built': 2, 'russians': 3, '1964': 3, 'officers': 2, 'parks': 2, 'potential': 2, 'welldeveloped': 2, 'season': 2, 'interior': 7, 'populous': 2, 'primaries': 2, 'villages': 10, 'led': 2, 'electric': 2, 'established': 4, 'salmon': 2, 'kppen': 4, 'regular': 2, 'connected': 2, 'significant': 4, 'services': 2, 'eskimo': 5, 'america': 10, 'extremely': 2, 'approved': 2, '78': 2, 'alaskan': 19, 'seafood': 4, 'cover': 2, 'dog': 4, 'traditional': 3, 'capita': 5, 'alaskas': 38, 'typically': 3, 'slope': 5, 'latinos': 2, 'shot': 2, 'gold': 2, 'german': 2, 'orchestra': 2, 'principal': 3, 'filmed': 9, 'northern': 7, 'state': 72, 'hydroelectric': 2, 'bush': 5, 'smallest': 2, 'judged': 2, 'convert50': 2, 'fuel': 5, '8': 2, 'partially': 2, 'local': 8, '11': 4, 'means': 2, 'coast': 3, 'famous': 2, 'longest': 2, 'report': 3, 'areas': 11, 'runs': 2, 'resource': 2, 'tobacco': 2, 'sources': 2, 'celebrates': 2, 'taxes': 13, 'public': 4, 'river': 7, 'arr': 2, 'set': 10, 'diomede': 3, 'railroads': 2, 'liquor': 2, 'terrain': 2, 'operates': 3, 'elected': 3, 'depends': 2, 'individual': 3, 'college': 2, '1925': 2, 'bering': 9, 'close': 2, 'sport': 2, 'oceanic': 3, 'federal': 7, 'movie': 2, 'representatives': 3, 'continent': 4, '3': 4, 'won': 3, 'bureau': 6, 'crude': 6, 'numerous': 2, 'infrastructure': 3, 'recently': 3, 'sparsely': 2, 'southeast': 11, 'aircraft': 3, 'densely': 2, 'extent': 2, 'group': 3, 'cities': 9, 'legislature': 2, 'climate': 12, 'country': 4, 'region': 11, 'annual': 4, 'ranked': 2, 'aleut': 5, 'southeastern': 2, 'nearby': 3, 'volcanic': 2, 'point': 2, 'basins': 2, 'colony': 2, 'community': 6, 'massive': 3, 'healy': 2, 'church': 2, 'expensive': 3, 'speak': 6, '2000': 4, 'arts': 3, 'convert10': 3, '72million': 2, 'convert16': 2, 'addition': 5, 'west': 6, 'airlines': 3, 'extraction': 2, 'reindeer': 3, 'offers': 2, 'combined': 3, 'collected': 2, 'territory': 7, 'troopers': 4, 'mary': 2, 'lived': 3, 'families': 2, 'eastern': 2, 'thousand': 2, 'gas': 7, 'bulk': 3, 'fund': 3, 'fest': 2, 'races': 3, '1867': 3, 'prices': 4, 'aviation': 3, 'towns': 6, 'evidence': 2, 'sound': 4, 'fur': 2, 'survey': 3, 'mount': 3, 'canadian': 2, 'elections': 2, 'governor': 11, 'air': 12, 'lesser': 3, 'wild': 2, 'natives': 6, 'pound': 2, 'century': 3, 'strait': 2, 'defeated': 2, 'technology': 2, 'grown': 3, 'art': 2, 'border': 2, 'make': 7, 'belong': 2, 'administration': 2, 'stikine': 2, 'parts': 3, 'northwest': 5, 'peoples': 3, 'party': 6, 'higher': 4, 'status': 2, 'oil': 18, 'columbia': 7, 'hyder': 3, 'arctic': 6, 'rail': 4, 'running': 2, 'levels': 2, 'moving': 3, 'indigenous': 2, 'recent': 4, 'lower': 5, 'convert1200': 2, 'center': 2, 'hispanics': 2, 'variety': 2, 'ocean': 3, 'costs': 2, 'alaskans': 4, 'english': 2, 'soviet': 2, 'taxi': 3, 'summer': 5, 'stores': 2, 'heavily': 2, 'percent': 5, 'domestic': 2, 'rest': 4, 'snow': 5, 'communities': 14, 'fnsb': 2, 'fishing': 3, 'prince': 4, 'sixteen': 2, 'tourism': 4, 'lake': 2, 'day': 2, 'extends': 3, 'location': 2, 'remaining': 4, 'march': 3, 'nenana': 3, 'government': 10, 'early': 3, 'department': 4, '30': 2, 'world': 8, 'railroad': 6, 'unique': 2, 'precipitation': 9, 'prominent': 4, 'serves': 3, 'individuals': 4, 'popular': 2, 'served': 5, 'essential': 2, 'accessible': 2, 'creek': 2, 'people': 12, 'senate': 4, 'pacific': 12, 'clubs': 2, 'growth': 2, 'election': 3, 'home': 10, 'transport': 2, 'recorded': 2, 'denali': 2, 'ice': 3, 'connecting': 2, 'yukon': 9, 'islander': 2, 'run': 5, 'power': 3, 'sixth': 2, 'matanuska': 2, 'colonization': 2, 'unorganized': 4, 'starring': 5, 'tidal': 3, 'panhandle': 4, 'counties': 2, 'pipeline': 4, 'goods': 5, 'central': 5, 'island': 7, 'months': 2, 'shipping': 4, 'union': 2, 'matanuskasusitna': 2, 'seaplane': 2, 'islands': 7, 'road': 16, 'turnagain': 2, 'washington': 5, 'due': 7, 'accounts': 2, 'primarily': 7, 'technically': 4, 'rely': 2, '1983': 2, 'area': 23, 'flying': 3, 'long': 6, '1989': 2, 'continental': 3, 'development': 7, 'low': 6, 'summertime': 2, 'heritage': 2, 'valley': 4, 'fish': 4, 'lowest': 5, 'building': 2, 'municipalities': 2, 'north': 31, 'offering': 2, 'offer': 4, 'peninsula': 8, 'construction': 3, 'link': 3, 'courts': 8, 'larger': 6, 'russian': 9, 'line': 2, 'highest': 11, 'fort': 2, 'directed': 2, 'made': 20, 'places': 2, 'inside': 2, 'official': 5, 'record': 2, 'prudhoe': 4, 'average': 6, 'distance': 3, 'passenger': 3, 'supreme': 2, 'expedition': 2, 'sales': 5, 'covers': 3, 'general': 4, 'film': 8, 'compared': 2, '48': 4, '49': 2, 'glacier': 3, 'administered': 2, 'generally': 2, '43': 3, '40': 2, 'field': 3, 'role': 2, 'branch': 3, 'income': 6, 'warehouse': 2, '10': 2, 'picture': 3, 'star': 3, 'separate': 2, 'tides': 3, 'june': 2, 'includes': 2, 'william': 3, 'class': 2, 'important': 2, 'included': 2, 'kenai': 2, 'legal': 2, 'billion': 2, 'bases': 2, 'land': 15, 'remote': 5, 'age': 2, 'vehicles': 2, 'governed': 2, 'ted': 3, '2007': 5, '2004': 3, 'time': 3, 'rural': 8, '2008': 6, '2009': 2, 'caribou': 3}, {'called': 2, 'proposed': 3, 'german': 2, 'queen': 3, 'dollar': 3, 'mission': 2, 'rest': 2, 'years': 5, 'eerste': 2, 'held': 2, 'papiamento': 6, 'including': 3, 'legal': 2, 'committee': 2, 'cruise': 2, 'roots': 2, 'based': 6, '1': 4, 'arawak': 4, '20': 2, 'million': 2, 'located': 3, 'justice': 2, 'workers': 2, '3': 2, 'day': 2, 'languages': 4, 'flights': 4, 'program': 2, 'aruba': 82, 'location': 2, 'weeks': 2, 'main': 4, 'fouryear': 2, 'kingdom': 11, 'activities': 2, 'ocean': 2, 'american': 5, 'march': 5, 'increased': 2, 'laws': 2, 'minimal': 2, 'de': 6, 'february': 2, 'refineries': 2, 'cruz': 2, 'inflation': 3, 'private': 4, 'schools': 5, 'trade': 2, 'tourism': 7, 'aide': 4, 'group': 3, 'secondary': 2, 'stuyvesant': 2, 'term': 2, 'netherlands': 24, 'equality': 2, 'presented': 3, 'venezuela': 10, 'university': 3, '16': 2, 'wednesday': 2, 'taxes': 4, 'large': 2, 'hague': 2, 'common': 3, 'refinery': 2, 'small': 3, 'european': 2, 'reduced': 2, 'typical': 2, 'portuguese': 4, 'set': 3, 'financial': 2, 'school': 6, 'vespucci': 2, 'people': 7, 'national': 6, 'direct': 3, 'authority': 3, 'operates': 2, 'ampes': 3, 'elected': 2, 'rate': 3, 'cities': 2, 'college': 3, 'governor': 4, 'sea': 3, 'year': 8, 'transportation': 2, 'estimated': 3, 'port': 2, 'special': 2, 'brazil': 2, 'living': 3, 'caribbean': 10, 'constitution': 2, 'arubas': 22, 'culture': 4, 'anthem': 2, 'celebrated': 3, 'maduro': 3, 'dia': 3, 'holidays': 2, 'written': 2, 'indian': 2, 'en': 4, 'deficit': 2, 'playa': 2, 'dutch': 20, 'medicine': 3, 'international': 3, 'learned': 2, 'aruban': 7, 'officially': 3, 'christmas': 2, 'independence': 11, 'europe': 3, 'conference': 3, 'betico': 4, 'full': 3, 'recently': 2, 'august': 4, 'di': 5, 'exchange': 2, 'business': 2, 'sint': 3, 'processing': 3, 'agreement': 2, 'french': 2, 'maatschappij': 2, 'lieutenant': 4, 'protection': 2, 'expansion': 2, 'santa': 2, 'nationality': 2, 'november': 5, 'ash': 2, 'beginning': 2, 'celebration': 4, 'received': 3, 'dates': 2, 'days': 2, 'language': 4, 'stations': 2, 'island': 28, 'study': 2, 'economics': 2, 'united': 12, 'british': 3, 'ports': 2, 'expulsion': 2, '1942': 3, 'airport': 7, 'arawaks': 2, 'present': 2, 'due': 2, 'published': 4, 'islands': 11, 'share': 2, 'introduced': 3, 'studies': 2, 'admission': 3, 'south': 3, 'features': 2, 'spoken': 4, 'petroleum': 2, 'juries': 2, 'primary': 2, 'community': 4, 'referendum': 3, 'lies': 2, 'bonaire': 4, 'alonso': 2, 'spanish': 6, 'protectorate': 2, 'antilles': 6, 'size': 2, '1986': 3, 'curaao': 10, 'america': 7, 'spoke': 3, 'prepare': 2, 'area': 2, 'inhabited': 2, 'support': 2, 'coasts': 2, 'political': 3, 'system': 5, 'prime': 4, 'suriname': 2, 'heritage': 2, 'percentage': 2, 'countries': 9, 'tourists': 3, 'beatrix': 2, 'interests': 2, 'considerably': 2, 'mining': 2, 'parliament': 2, 'north': 3, 'passport': 2, 'form': 2, 'eastern': 2, 'started': 2, 'influence': 2, 'company': 6, 'immigration': 3, 'u156': 2, 'wireless': 2, 'flag': 2, 'state': 2, 'minister': 4, 'digicel': 2, 'constituent': 3, 'line': 2, 'highest': 3, 'appointed': 5, 'separate': 3, 'population': 6, 'states': 12, 'made': 2, 'carnival': 3, 'maarten': 4, '18': 2, 'aanleg': 2, 'noord': 2, 'roosevelt': 2, 'nations': 4, 'lesser': 2, 'today': 3, 'historical': 2, '1976': 2, 'autonomy': 2, 'autonomous': 3, 'country': 2, 'average': 2, 'control': 3, 'changed': 2, 'san': 4, 'temperature': 2, 'century': 2, 'december': 2, 'official': 3, 'tax': 2, 'staten': 2, 'general': 2, 'high': 3, '1981': 2, 'setar': 3, 'ojeda': 2, 'education': 10, 'currents': 2, 'finance': 2, 'florin': 3, 'ancestors': 2, 'nicolaas': 2, 'january': 3, 'inhabitants': 3, 'climate': 3, 'juan': 3, 'government': 12, 'administration': 3, 'place': 2, 'oriented': 2, 'jewish': 5, 'sunday': 2, '5': 2, '2005': 3, 'department': 2, 'party': 2, 'higher': 4, 'development': 2, 'oranjestad': 5, 'oil': 6, 'voyage': 2, 'students': 3, 'african': 2, 'southern': 3, 'effect': 2, 'customs': 2, 'important': 2, 'services': 5, 'court': 3, 'birthday': 2, 'law': 2, '2008': 2, 'proclaimed': 2, 'recent': 2, 'status': 6, 'land': 2, 'largely': 2, 'neighboring': 2, 'medical': 2, 'croes': 6, 'lines': 3, 'aparte': 3, 'daily': 3, 'st': 2, 'thought': 2, 'part': 6, 'spain': 4, '2007': 5, 'back': 3, 'english': 4, 'region': 4, 'model': 2, '2009': 2, 'gsm': 2, 'left': 2}, {'delman': 3, 'rom': 2, 'developed': 2, 'random': 3, 'years': 2, 'safran': 3, 'scott': 2, '27': 2, 'monitor': 3, 'hyperspace': 2, 'program': 2, 'board': 2, 'main': 2, 'oversight': 2, '2010': 3, 'asteroids': 36, 'hit': 3, 'klov': 2, 'killer': 2, 'break': 2, 'game': 25, 'xbox': 2, 'large': 2, 'circuitry': 2, 'popular': 4, 'saucers': 6, 'set': 5, 'ed': 2, 'logg': 2, 'year': 2, '2600': 2, 'port': 2, 'saucer': 3, 'hide': 2, 'version': 2, 'lunar': 5, 'led': 2, 'credit': 2, 'asteroid': 4, 'screen': 10, 'galaxies': 2, 'small': 2, 'objects': 3, 'directions': 2, 'gameplay': 3, 'appears': 2, 'commands': 5, 'dubbed': 2, '6502': 3, 'howard': 2, 'players': 8, 'games': 7, 'features': 2, 'point': 2, 'thrust': 2, 'twin': 2, 'smaller': 3, '1982': 3, 'score': 6, 'arcade': 4, 'area': 2, 'top': 3, 'flying': 3, 'pc': 2, '2': 3, '6': 3, 'forward': 2, 'prototype': 2, 'lander': 5, 'fire': 4, 'sequel': 2, 'released': 5, 'graphics': 2, 'videogames': 2, 'july': 2, 'bug': 2, 'shoot': 3, 'room': 2, 'versions': 2, 'indefinitely': 2, 'ataris': 3, 'maximum': 2, 'record': 3, 'atari': 7, 'similar': 2, 'vector': 12, 'ram': 2, 'hardware': 3, 'player': 7, 'ship': 9, 'moves': 2, 'april': 2, 'digital': 2, 'play': 3, 'added': 3, 'earlier': 2, 'designed': 2, 'included': 3, 'kb': 2, 'dvg': 8, '2002': 2, 'points': 4, 'time': 3, 'position': 2, 'deluxe': 4, 'original': 6}, {'neighbors': 2, 'irrigation': 5, 'writings': 2, '3200bc': 2, 'avaris': 2, 'caused': 2, 'relieve': 2, 'tombs': 5, 'yellow': 2, 'dynasty': 15, 'egypts': 8, 'higher': 2, 'skin': 2, 'battle': 4, 'kingship': 5, 'religious': 11, 'children': 4, 'layers': 2, 'hunting': 2, 'effort': 2, 'technique': 2, 'arid': 2, 'languages': 2, 'finally': 2, 'civilization': 7, 'stable': 3, 'include': 3, 'retreat': 2, 'resources': 10, 'carried': 2, 'activities': 4, 'ceramic': 2, 'egyptian': 69, 'educated': 2, 'regional': 4, 'pigment': 2, 'sons': 2, 'difficult': 2, 'animals': 5, 'continued': 6, 'vast': 2, 'abandoned': 3, 'washing': 2, 'wooden': 4, '12th': 2, 'large': 5, 'small': 8, 'settlers': 3, 'hieratic': 3, 'upper': 9, 'spiritual': 4, 'force': 2, 'leaders': 4, 'voiceless': 3, 'colossal': 2, 'predynastic': 5, 'mediterranean': 2, 'literature': 7, 'natron': 2, 'surrounding': 2, 'cost': 2, 'enclosed': 2, 'ruled': 4, 'substitute': 2, 'scientific': 2, 'blue': 5, 'resurgence': 2, 'material': 3, 'hyksos': 7, 'itjtawy': 2, 'practices': 2, 'access': 2, 'largescale': 2, 'attitudes': 2, 'amun': 3, 'nubia': 8, 'supplies': 2, 'tribute': 2, 'occupation': 2, 'officially': 2, 'public': 3, 'body': 7, 'asiatic': 4, 'led': 4, 'aten': 2, 'men': 4, 'water': 3, 'growing': 5, 'protection': 2, 'cult': 7, 'based': 7, 'change': 3, 'campaigns': 2, 'great': 12, 'abydos': 5, 'items': 3, 'elaborate': 4, 'studied': 2, 'deities': 4, 'leaving': 2, 'amulets': 3, 'social': 8, 'military': 14, 'successors': 2, 'herodotus': 2, 'punishment': 2, 'composed': 2, 'control': 24, 'alexandria': 7, 'secure': 2, 'family': 6, 'menes': 4, 'egypt': 62, 'private': 2, 'highly': 2, 'brought': 4, 'texts': 3, 'tools': 4, 'lime': 2, 'greywacke': 2, 'earliest': 5, 'assyrians': 5, 'wealth': 6, 'working': 3, 'army': 4, 'century': 6, 'levant': 3, 'cambyses': 2, 'depicted': 3, 'music': 2, 'type': 2, 'minor': 2, 'bureaucracy': 2, 'populations': 2, 'started': 2, 'mentuhotep': 2, 'wars': 2, 'reign': 3, 'glass': 5, 'central': 5, 'cases': 2, 'thebes': 9, 'iii': 5, 'behalf': 2, 'women': 3, 'ii': 9, 'word': 5, 'middle': 14, 'challenge': 2, 'work': 2, 'soul': 2, 'roof': 2, 'believed': 8, 'khufu': 3, 'root': 2, 'coffin': 2, 'deceased': 7, 'history': 6, 'decorative': 3, 'heart': 2, 'saite': 3, 'hears': 2, 'process': 3, 'joints': 2, 'allowed': 2, 'organized': 2, 'purposes': 4, 'pieces': 5, 'honey': 2, 'council': 2, 'sense': 2, 'sought': 2, 'clothing': 3, 'simple': 5, 'native': 5, 'stemmed': 2, 'court': 2, 'semiprecious': 2, 'onions': 2, 'forms': 4, 'formations': 2, 'regions': 4, 'writers': 2, 'salts': 2, 'animal': 3, 'boats': 2, 'palaces': 2, 'economy': 7, 'intended': 2, 'began': 13, 'southern': 3, 'customs': 3, 'routes': 2, 'produce': 2, 'designed': 2, 'date': 2, 'invasion': 3, 'law': 2, 'berber': 2, 'stress': 2, 'emperor': 3, 'natural': 4, 'effective': 3, 'priestly': 2, 'linen': 7, 'verb': 4, 'green': 2, 'ultimate': 2, 'afterlife': 7, 'banks': 2, 'lasting': 2, 'order': 7, 'wine': 2, 'coordinated': 2, 'copper': 10, 'welcomed': 2, 'developed': 13, 'displayed': 2, 'years': 4, 'produced': 6, 'brain': 2, 'vizier': 5, 'including': 5, 'agricultural': 7, 'nets': 2, 'worship': 8, 'wadis': 2, 'rosetta': 2, 'style': 8, 'personal': 3, 'greeks': 2, 'ships': 4, 'complex': 2, 'conjugation': 2, 'writing': 12, 'destroyed': 2, 'permanent': 2, 'powers': 2, 'covered': 4, 'scribes': 6, 'alexander': 2, 'physicians': 4, 'greater': 2, 'food': 4, 'flour': 3, 'practice': 2, 'beads': 2, 'walls': 4, 'flint': 2, 'wealthy': 3, 'documented': 2, 'maintaining': 3, 'bread': 3, 'meat': 3, 'fully': 2, 'feast': 2, 'establishing': 2, 'crops': 5, 'victories': 2, 'found': 12, 'loyalties': 2, 'excavations': 3, 'suffixes': 3, 'successful': 2, 'development': 2, 'independent': 2, 'house': 4, 'fish': 2, 'crimes': 2, 'principles': 2, 'related': 2, 'society': 3, 'books': 3, 'trading': 2, 'agriculture': 2, 'living': 8, 'ultimately': 2, 'god': 3, 'increase': 2, 'governors': 2, 'socalled': 2, 'motifs': 2, 'medicine': 2, 'instructions': 3, 'red': 2, 'common': 5, 'achievements': 3, 'symbolic': 3, 'threatened': 3, 'standard': 3, 'romans': 4, 'houses': 2, 'disputes': 2, 'members': 4, 'egyptians': 44, 'ore': 2, 'beginning': 3, 'inevitable': 2, 'training': 2, 'allies': 2, 'language': 9, 'fueled': 2, 'rule': 6, 'diminished': 2, 'days': 2, 'kingdoms': 3, 'times': 5, 'domesticated': 3, 'punt': 2, 'place': 2, 'assumed': 2, 'consequence': 2, 'syria': 2, 'today': 2, 'support': 2, 'south': 4, 'exotic': 2, 'promoted': 2, 'ability': 2, 'limestone': 2, 'nouns': 2, 'surviving': 2, 'striking': 2, 'spoken': 3, 'powerful': 4, 'reflected': 4, 'owned': 4, 'comprised': 2, 'floors': 2, 'directly': 4, 'christianity': 4, 'open': 3, 'nubian': 2, 'city': 8, 'story': 3, 'ancient': 60, 'officials': 5, 'quality': 3, 'script': 3, 'leading': 2, 'top': 2, 'system': 16, 'adopted': 3, 'needed': 2, 'attack': 3, 'intermediate': 7, 'palestine': 2, 'white': 6, 'farming': 3, 'structures': 6, 'shifted': 2, 'mining': 3, 'season': 2, 'serve': 3, 'cults': 2, 'larger': 2, 'part': 2, 'western': 2, 'elite': 4, 'institution': 3, 'population': 6, 'king': 5, 'rival': 3, 'instruction': 2, 'scenes': 3, 'nations': 3, 'individual': 2, 'amenemhat': 2, 'historical': 3, 'papyri': 2, 'treated': 3, 'remained': 2, 'imports': 3, 'modern': 4, 'ages': 2, 'head': 4, 'djoser': 2, 'raw': 3, 'alike': 2, 'sentences': 4, 'voiced': 2, 'viewed': 3, 'expeditions': 4, 'kush': 2, 'documents': 2, 'built': 5, 'adjectival': 2, 'climate': 2, 'responsible': 7, 'stability': 2, 'ideal': 2, 'internal': 3, 'build': 3, 'forces': 4, 'subject': 5, 'projects': 7, 'blades': 2, 'province': 3, 'added': 3, 'afroasiatic': 2, 'established': 5, 'pyramids': 6, 'object': 2, 'pharaoh': 19, 'paid': 2, 'regular': 2, 'sheets': 2, 'phase': 2, 'imported': 5, 'prestige': 3, 'class': 5, 'ka': 2, 'mineral': 4, 'considered': 3, 'medical': 2, 'akhenaten': 2, 'traditional': 6, 'artistic': 5, 'typically': 3, 'planks': 5, 'stones': 3, 'surplus': 2, 'gold': 10, 'show': 7, 'text': 2, 'supported': 4, 'centralized': 2, 'discovered': 2, 'soldiers': 2, 'continually': 2, 'enjoyed': 4, 'ground': 3, 'slow': 2, 'ratio': 2, 'knowledge': 2, 'northern': 4, 'peasants': 2, 'justice': 2, 'written': 10, 'wood': 6, 'rich': 4, 'treasury': 2, 'local': 5, 'columns': 2, 'prosperity': 2, 'papyrus': 8, 'monuments': 5, 'revolts': 2, 'capital': 5, 'famous': 5, 'pharaohs': 23, 'trade': 12, 'ascended': 2, 'dwellings': 2, 'areas': 2, 'symbols': 3, 'earn': 2, 'increasing': 3, 'ended': 3, 'fields': 2, 'mastaba': 2, 'taxes': 4, 'monumental': 3, 'architecture': 4, 'coptic': 7, 'psamtik': 2, 'river': 4, 'wrote': 2, 'set': 5, 'art': 14, 'grain': 11, 'theban': 3, 'prayers': 2, 'humans': 2, 'seat': 2, 'culture': 15, 'legacy': 6, 'result': 2, 'cattle': 2, 'close': 2, 'declined': 2, 'techniques': 2, 'palette': 2, 'farmers': 7, 'shaved': 2, 'materials': 4, 'state': 8, 'classes': 4, 'closed': 3, 'legitimize': 2, 'conditions': 2, 'shields': 2, 'ruling': 2, 'consonants': 3, 'iron': 2, 'persians': 4, 'importance': 4, 'death': 9, 'styles': 2, 'extent': 2, 'pagan': 3, 'bronze': 6, 'improve': 2, 'temples': 15, 'dates': 3, 'country': 7, 'region': 8, 'priests': 9, 'reliefs': 2, 'nile': 19, 'called': 9, 'shoshenq': 2, 'roman': 10, 'objects': 4, 'games': 2, 'newfound': 2, 'semitic': 2, 'kushites': 3, 'libyan': 3, 'badari': 3, 'statues': 7, 'bricks': 2, 'period': 32, 'community': 2, 'kings': 7, 'labor': 6, 'erased': 2, 'byblos': 2, 'provinces': 2, 'countrys': 3, 'addition': 6, 'political': 6, 'erect': 2, 'quickly': 2, 'beer': 3, 'production': 2, 'slowly': 2, 'combined': 2, 'interest': 3, 'basic': 4, 'expected': 2, 'life': 6, 'lived': 2, 'controlled': 5, 'eastern': 6, 'painted': 3, 'moved': 2, 'formed': 3, 'precision': 2, 'wounds': 2, 'finished': 3, 'demotic': 8, 'shabti': 2, 'worked': 3, 'plants': 2, 'homes': 2, 'ptolemies': 5, 'pantheon': 2, 'expanded': 4, 'appearance': 3, 'giza': 4, 'replaced': 2, 'involved': 4, 'wild': 2, 'situation': 2, 'flooding': 3, 'deben': 2, 'pyramid': 4, 'eventually': 7, 'soil': 2, 'figurines': 3, 'decline': 5, 'iv': 2, 'kushite': 2, 'rulers': 6, 'converts': 2, 'eras': 2, 'arabic': 3, 'foreign': 10, 'technology': 2, 'everyday': 2, 'grown': 2, 'cuisine': 3, 'northward': 2, 'productivity': 2, 'satrapy': 2, 'fibers': 2, 'perform': 3, 'alphabet': 4, 'make': 11, 'administration': 9, 'read': 4, 'parts': 2, 'figures': 3, 'physical': 2, 'spears': 2, 'conflict': 2, 'european': 2, 'status': 4, 'noble': 2, 'extended': 2, 'centuries': 3, 'affairs': 2, 'ankh': 2, 'tuthmosis': 3, 'defeat': 2, 'traditions': 4, 'renaissance': 2, 'garlic': 3, 'arose': 2, 'statue': 3, 'conquered': 2, 'changing': 2, 'scholars': 2, 'lower': 3, 'center': 3, 'older': 2, 'ptolemaic': 3, 'cultural': 6, 'person': 3, 'rome': 4, 'relied': 5, 'mudbrick': 2, 'left': 5, 'livestock': 2, 'heavily': 2, 'increasingly': 2, 'gods': 10, 'obtain': 3, 'unclear': 2, 'human': 3, 'injuries': 3, 'dynastic': 5, 'workers': 3, 'royal': 5, 'deposits': 5, 'source': 4, 'board': 2, 'technological': 2, 'evidenced': 2, 'east': 3, 'administrative': 2, 'luxury': 2, 'kingdom': 35, 'aspects': 2, 'government': 5, 'greek': 9, 'ruler': 2, 'adverbial': 2, 'early': 14, 'game': 2, 'marked': 2, 'karnak': 2, 'mathematics': 3, 'world': 6, 'color': 2, 'formal': 5, 'success': 2, 'lost': 2, 'strictly': 2, 'graecoroman': 2, 'robbery': 2, 'clay': 2, 'popular': 10, 'served': 3, 'works': 2, 'essential': 3, 'mathematical': 4, 'classical': 3, 'people': 7, '30': 2, 'back': 5, 'dead': 3, 'economic': 2, 'respect': 2, 'home': 4, 'empire': 5, 'divine': 2, 'provided': 6, 'amarna': 5, 'jewelry': 3, 'lead': 2, 'mortuary': 4, 'mummy': 3, 'recorded': 2, 'mines': 2, 'legal': 2, 'mercenaries': 2, 'religion': 3, 'critical': 4, 'temple': 8, 'core': 2, 'naqada': 7, 'knew': 3, 'ba': 2, 'power': 14, 'bc': 10, 'late': 8, 'communicate': 2, 'faience': 4, 'architects': 2, 'worthy': 2, 'assemble': 2, 'throne': 4, 'stone': 15, 'goods': 7, 'rare': 2, 'flourished': 2, 'paints': 2, 'lapis': 2, 'citizens': 2, 'recognized': 4, 'ceremonial': 3, 'practical': 2, 'ensure': 2, 'mummification': 4, 'tomb': 9, 'introduced': 2, 'ores': 3, 'fertile': 4, 'significant': 2, 'burial': 4, 'civil': 3, 'instruments': 3, 'conquest': 2, 'ramesses': 5, 'canaan': 3, 'laborers': 2, 'wadi': 4, 'artists': 3, 'smendes': 2, 'burials': 4, 'rows': 2, 'area': 2, 'removing': 2, 'vegetables': 3, 'long': 4, 'fight': 2, 'structure': 3, 'sealed': 2, 'series': 6, 'cultures': 4, 'valley': 8, 'recruited': 2, 'sinai': 3, 'pottery': 3, 'ivory': 2, 'hieroglyphic': 4, 'complete': 2, 'form': 7, 'oil': 2, 'sophisticated': 2, 'collected': 5, 'construction': 6, 'delta': 10, 'promote': 2, 'memphis': 3, 'ceremonies': 2, 'made': 18, 'places': 2, 'artisans': 2, 'record': 2, 'persian': 4, 'stories': 5, 'hieroglyphs': 6, 'similar': 5, 'beliefs': 2, 'supreme': 3, 'akhenatens': 3, 'flat': 2, 'obelisks': 4, 'influence': 4, 'direction': 2, 'evidence': 3, 'single': 2, 'diverse': 2, 'periods': 5, 'ship': 3, 'portrayed': 3, 'constructed': 6, 'high': 7, 'variety': 2, 'administered': 2, 'peace': 2, 'aromatic': 2, 'end': 7, 'afford': 2, 'shrine': 2, 'role': 3, 'ambitious': 2, 'quantities': 2, 'granite': 2, 'bleached': 2, 'dynasties': 3, 'mummies': 2, 'elements': 3, 'libyans': 2, 'models': 3, 'time': 5, 'problems': 3, 'antiquities': 5, 'important': 9, 'exported': 2, 'included': 7, 'decorated': 3, 'desert': 6, 'died': 2, 'narmer': 4, 'building': 12, 'land': 12, 'longer': 3, 'age': 3, 'required': 2, 'lasted': 2, 'governed': 2, 'restricted': 2, 'fasten': 2, 'silica': 2}]"
      ]
     },
     "execution_count": 25,
     "metadata": {},
     "output_type": "execute_result"
    }
   ],
   "source": [
    "docs[:5]"
   ]
  },
  {
   "cell_type": "code",
   "execution_count": 26,
   "metadata": {
    "collapsed": true
   },
   "outputs": [],
   "source": [
    "tf_idf_docs = graphlab.text_analytics.tf_idf(docs)"
   ]
  },
  {
   "cell_type": "code",
   "execution_count": 27,
   "metadata": {
    "collapsed": false
   },
   "outputs": [
    {
     "name": "stdout",
     "output_type": "stream",
     "text": [
      "Canvas is accessible via web browser at the URL: http://localhost:58413/index.html\n",
      "Opening Canvas in default web browser.\n"
     ]
    }
   ],
   "source": [
    "tf_idf_docs.show()"
   ]
  },
  {
   "cell_type": "code",
   "execution_count": 31,
   "metadata": {
    "collapsed": false
   },
   "outputs": [
    {
     "data": {
      "text/plain": [
       "1"
      ]
     },
     "execution_count": 31,
     "metadata": {},
     "output_type": "execute_result"
    }
   ],
   "source": [
    "tf_idf_docs.num_columns()"
   ]
  },
  {
   "cell_type": "code",
   "execution_count": 48,
   "metadata": {
    "collapsed": false
   },
   "outputs": [],
   "source": [
    "doc_data = graphlab.SFrame()\n",
    "doc_data['id'] = graphlab.SArray(range(len(tf_idf_docs))).astype(str)\n",
    "doc_data['word_score'] = tf_idf_docs['docs']\n",
    "doc_data['text'] = docs"
   ]
  },
  {
   "cell_type": "code",
   "execution_count": 49,
   "metadata": {
    "collapsed": false
   },
   "outputs": [
    {
     "data": {
      "text/html": [
       "<div style=\"max-height:1000px;max-width:1500px;overflow:auto;\"><table frame=\"box\" rules=\"cols\">\n",
       "    <tr>\n",
       "        <th style=\"padding-left: 1em; padding-right: 1em; text-align: center\">id</th>\n",
       "        <th style=\"padding-left: 1em; padding-right: 1em; text-align: center\">word_score</th>\n",
       "        <th style=\"padding-left: 1em; padding-right: 1em; text-align: center\">text</th>\n",
       "    </tr>\n",
       "    <tr>\n",
       "        <td style=\"padding-left: 1em; padding-right: 1em; text-align: center; vertical-align: top\">0</td>\n",
       "        <td style=\"padding-left: 1em; padding-right: 1em; text-align: center; vertical-align: top\">{'concept':<br>9.424933024429926, ...</td>\n",
       "        <td style=\"padding-left: 1em; padding-right: 1em; text-align: center; vertical-align: top\">{'concept': 2, 'founder':<br>2, 'resistance': 2, ...</td>\n",
       "    </tr>\n",
       "    <tr>\n",
       "        <td style=\"padding-left: 1em; padding-right: 1em; text-align: center; vertical-align: top\">1</td>\n",
       "        <td style=\"padding-left: 1em; padding-right: 1em; text-align: center; vertical-align: top\">{'convert500':<br>17.48157994667854, ...</td>\n",
       "        <td style=\"padding-left: 1em; padding-right: 1em; text-align: center; vertical-align: top\">{'convert500': 2,<br>'limited': 3, 'partial': ...</td>\n",
       "    </tr>\n",
       "    <tr>\n",
       "        <td style=\"padding-left: 1em; padding-right: 1em; text-align: center; vertical-align: top\">2</td>\n",
       "        <td style=\"padding-left: 1em; padding-right: 1em; text-align: center; vertical-align: top\">{'called':<br>5.085977986466918, ...</td>\n",
       "        <td style=\"padding-left: 1em; padding-right: 1em; text-align: center; vertical-align: top\">{'called': 2, 'proposed':<br>3, 'german': 2, 'queen': ...</td>\n",
       "    </tr>\n",
       "    <tr>\n",
       "        <td style=\"padding-left: 1em; padding-right: 1em; text-align: center; vertical-align: top\">3</td>\n",
       "        <td style=\"padding-left: 1em; padding-right: 1em; text-align: center; vertical-align: top\">{'delman':<br>31.597648327701975, ...</td>\n",
       "        <td style=\"padding-left: 1em; padding-right: 1em; text-align: center; vertical-align: top\">{'delman': 3, 'rom': 2,<br>'developed': 2, 'rand ...</td>\n",
       "    </tr>\n",
       "    <tr>\n",
       "        <td style=\"padding-left: 1em; padding-right: 1em; text-align: center; vertical-align: top\">4</td>\n",
       "        <td style=\"padding-left: 1em; padding-right: 1em; text-align: center; vertical-align: top\">{'neighbors':<br>13.8432630598462, ...</td>\n",
       "        <td style=\"padding-left: 1em; padding-right: 1em; text-align: center; vertical-align: top\">{'neighbors': 2,<br>'irrigation': 5, ...</td>\n",
       "    </tr>\n",
       "</table>\n",
       "[5 rows x 3 columns]<br/>\n",
       "</div>"
      ],
      "text/plain": [
       "Columns:\n",
       "\tid\tstr\n",
       "\tword_score\tdict\n",
       "\ttext\tdict\n",
       "\n",
       "Rows: 5\n",
       "\n",
       "Data:\n",
       "+----+-------------------------------+-------------------------------+\n",
       "| id |           word_score          |              text             |\n",
       "+----+-------------------------------+-------------------------------+\n",
       "| 0  | {'concept': 9.424933024429... | {'concept': 2, 'founder': ... |\n",
       "| 1  | {'convert500': 17.48157994... | {'convert500': 2, 'limited... |\n",
       "| 2  | {'called': 5.0859779864669... | {'called': 2, 'proposed': ... |\n",
       "| 3  | {'delman': 31.597648327701... | {'delman': 3, 'rom': 2, 'd... |\n",
       "| 4  | {'neighbors': 13.843263059... | {'neighbors': 2, 'irrigati... |\n",
       "+----+-------------------------------+-------------------------------+\n",
       "[5 rows x 3 columns]"
      ]
     },
     "execution_count": 49,
     "metadata": {},
     "output_type": "execute_result"
    }
   ],
   "source": [
    "doc_data[:5]"
   ]
  },
  {
   "cell_type": "code",
   "execution_count": 50,
   "metadata": {
    "collapsed": false
   },
   "outputs": [
    {
     "name": "stdout",
     "output_type": "stream",
     "text": [
      "PROGRESS: Starting brute force nearest neighbors model training.\n"
     ]
    }
   ],
   "source": [
    "nn = graphlab.nearest_neighbors.create(doc_data, label='id', feature='word_score')"
   ]
  },
  {
   "cell_type": "code",
   "execution_count": 52,
   "metadata": {
    "collapsed": false
   },
   "outputs": [
    {
     "name": "stdout",
     "output_type": "stream",
     "text": [
      "PROGRESS: Starting pairwise querying...\n",
      "PROGRESS: +--------------+---------+-------------+--------------+\n",
      "PROGRESS: | Query points | # Pairs | % Complete. | Elapsed Time |\n",
      "PROGRESS: +--------------+---------+-------------+--------------+\n",
      "PROGRESS: | 0            | 2       | 0.00266546  | 8.741ms      |\n",
      "PROGRESS: | Done         |         | 100         | 118.895ms    |\n",
      "PROGRESS: +--------------+---------+-------------+--------------+\n"
     ]
    }
   ],
   "source": [
    "nearest = nn.query(doc_data.head(2), label='id')"
   ]
  },
  {
   "cell_type": "code",
   "execution_count": 53,
   "metadata": {
    "collapsed": false
   },
   "outputs": [
    {
     "data": {
      "text/html": [
       "<div style=\"max-height:1000px;max-width:1500px;overflow:auto;\"><table frame=\"box\" rules=\"cols\">\n",
       "    <tr>\n",
       "        <th style=\"padding-left: 1em; padding-right: 1em; text-align: center\">query_label</th>\n",
       "        <th style=\"padding-left: 1em; padding-right: 1em; text-align: center\">reference_label</th>\n",
       "        <th style=\"padding-left: 1em; padding-right: 1em; text-align: center\">distance</th>\n",
       "        <th style=\"padding-left: 1em; padding-right: 1em; text-align: center\">rank</th>\n",
       "    </tr>\n",
       "    <tr>\n",
       "        <td style=\"padding-left: 1em; padding-right: 1em; text-align: center; vertical-align: top\">0</td>\n",
       "        <td style=\"padding-left: 1em; padding-right: 1em; text-align: center; vertical-align: top\">0</td>\n",
       "        <td style=\"padding-left: 1em; padding-right: 1em; text-align: center; vertical-align: top\">0.0</td>\n",
       "        <td style=\"padding-left: 1em; padding-right: 1em; text-align: center; vertical-align: top\">1</td>\n",
       "    </tr>\n",
       "    <tr>\n",
       "        <td style=\"padding-left: 1em; padding-right: 1em; text-align: center; vertical-align: top\">0</td>\n",
       "        <td style=\"padding-left: 1em; padding-right: 1em; text-align: center; vertical-align: top\">21729</td>\n",
       "        <td style=\"padding-left: 1em; padding-right: 1em; text-align: center; vertical-align: top\">1.65229110512</td>\n",
       "        <td style=\"padding-left: 1em; padding-right: 1em; text-align: center; vertical-align: top\">2</td>\n",
       "    </tr>\n",
       "    <tr>\n",
       "        <td style=\"padding-left: 1em; padding-right: 1em; text-align: center; vertical-align: top\">0</td>\n",
       "        <td style=\"padding-left: 1em; padding-right: 1em; text-align: center; vertical-align: top\">173</td>\n",
       "        <td style=\"padding-left: 1em; padding-right: 1em; text-align: center; vertical-align: top\">1.67036450079</td>\n",
       "        <td style=\"padding-left: 1em; padding-right: 1em; text-align: center; vertical-align: top\">3</td>\n",
       "    </tr>\n",
       "    <tr>\n",
       "        <td style=\"padding-left: 1em; padding-right: 1em; text-align: center; vertical-align: top\">0</td>\n",
       "        <td style=\"padding-left: 1em; padding-right: 1em; text-align: center; vertical-align: top\">29082</td>\n",
       "        <td style=\"padding-left: 1em; padding-right: 1em; text-align: center; vertical-align: top\">1.69642857143</td>\n",
       "        <td style=\"padding-left: 1em; padding-right: 1em; text-align: center; vertical-align: top\">4</td>\n",
       "    </tr>\n",
       "    <tr>\n",
       "        <td style=\"padding-left: 1em; padding-right: 1em; text-align: center; vertical-align: top\">0</td>\n",
       "        <td style=\"padding-left: 1em; padding-right: 1em; text-align: center; vertical-align: top\">36397</td>\n",
       "        <td style=\"padding-left: 1em; padding-right: 1em; text-align: center; vertical-align: top\">1.71468926554</td>\n",
       "        <td style=\"padding-left: 1em; padding-right: 1em; text-align: center; vertical-align: top\">5</td>\n",
       "    </tr>\n",
       "    <tr>\n",
       "        <td style=\"padding-left: 1em; padding-right: 1em; text-align: center; vertical-align: top\">1</td>\n",
       "        <td style=\"padding-left: 1em; padding-right: 1em; text-align: center; vertical-align: top\">1</td>\n",
       "        <td style=\"padding-left: 1em; padding-right: 1em; text-align: center; vertical-align: top\">0.0</td>\n",
       "        <td style=\"padding-left: 1em; padding-right: 1em; text-align: center; vertical-align: top\">1</td>\n",
       "    </tr>\n",
       "    <tr>\n",
       "        <td style=\"padding-left: 1em; padding-right: 1em; text-align: center; vertical-align: top\">1</td>\n",
       "        <td style=\"padding-left: 1em; padding-right: 1em; text-align: center; vertical-align: top\">256</td>\n",
       "        <td style=\"padding-left: 1em; padding-right: 1em; text-align: center; vertical-align: top\">1.603085554</td>\n",
       "        <td style=\"padding-left: 1em; padding-right: 1em; text-align: center; vertical-align: top\">2</td>\n",
       "    </tr>\n",
       "    <tr>\n",
       "        <td style=\"padding-left: 1em; padding-right: 1em; text-align: center; vertical-align: top\">1</td>\n",
       "        <td style=\"padding-left: 1em; padding-right: 1em; text-align: center; vertical-align: top\">55</td>\n",
       "        <td style=\"padding-left: 1em; padding-right: 1em; text-align: center; vertical-align: top\">1.64705882353</td>\n",
       "        <td style=\"padding-left: 1em; padding-right: 1em; text-align: center; vertical-align: top\">3</td>\n",
       "    </tr>\n",
       "    <tr>\n",
       "        <td style=\"padding-left: 1em; padding-right: 1em; text-align: center; vertical-align: top\">1</td>\n",
       "        <td style=\"padding-left: 1em; padding-right: 1em; text-align: center; vertical-align: top\">16039</td>\n",
       "        <td style=\"padding-left: 1em; padding-right: 1em; text-align: center; vertical-align: top\">1.64730290456</td>\n",
       "        <td style=\"padding-left: 1em; padding-right: 1em; text-align: center; vertical-align: top\">4</td>\n",
       "    </tr>\n",
       "    <tr>\n",
       "        <td style=\"padding-left: 1em; padding-right: 1em; text-align: center; vertical-align: top\">1</td>\n",
       "        <td style=\"padding-left: 1em; padding-right: 1em; text-align: center; vertical-align: top\">276</td>\n",
       "        <td style=\"padding-left: 1em; padding-right: 1em; text-align: center; vertical-align: top\">1.65835641736</td>\n",
       "        <td style=\"padding-left: 1em; padding-right: 1em; text-align: center; vertical-align: top\">5</td>\n",
       "    </tr>\n",
       "</table>\n",
       "[10 rows x 4 columns]<br/>\n",
       "</div>"
      ],
      "text/plain": [
       "Columns:\n",
       "\tquery_label\tstr\n",
       "\treference_label\tstr\n",
       "\tdistance\tfloat\n",
       "\trank\tint\n",
       "\n",
       "Rows: 10\n",
       "\n",
       "Data:\n",
       "+-------------+-----------------+---------------+------+\n",
       "| query_label | reference_label |    distance   | rank |\n",
       "+-------------+-----------------+---------------+------+\n",
       "|      0      |        0        |      0.0      |  1   |\n",
       "|      0      |      21729      | 1.65229110512 |  2   |\n",
       "|      0      |       173       | 1.67036450079 |  3   |\n",
       "|      0      |      29082      | 1.69642857143 |  4   |\n",
       "|      0      |      36397      | 1.71468926554 |  5   |\n",
       "|      1      |        1        |      0.0      |  1   |\n",
       "|      1      |       256       |  1.603085554  |  2   |\n",
       "|      1      |        55       | 1.64705882353 |  3   |\n",
       "|      1      |      16039      | 1.64730290456 |  4   |\n",
       "|      1      |       276       | 1.65835641736 |  5   |\n",
       "+-------------+-----------------+---------------+------+\n",
       "[10 rows x 4 columns]"
      ]
     },
     "execution_count": 53,
     "metadata": {},
     "output_type": "execute_result"
    }
   ],
   "source": [
    "nearest"
   ]
  },
  {
   "cell_type": "code",
   "execution_count": null,
   "metadata": {
    "collapsed": true
   },
   "outputs": [],
   "source": []
  }
 ],
 "metadata": {
  "kernelspec": {
   "display_name": "Python 2",
   "language": "python",
   "name": "python2"
  },
  "language_info": {
   "codemirror_mode": {
    "name": "ipython",
    "version": 2
   },
   "file_extension": ".py",
   "mimetype": "text/x-python",
   "name": "python",
   "nbconvert_exporter": "python",
   "pygments_lexer": "ipython2",
   "version": "2.7.5"
  }
 },
 "nbformat": 4,
 "nbformat_minor": 0
}
