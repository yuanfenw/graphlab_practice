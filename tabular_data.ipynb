{
 "cells": [
  {
   "cell_type": "code",
   "execution_count": 2,
   "metadata": {
    "collapsed": false
   },
   "outputs": [
    {
     "name": "stderr",
     "output_type": "stream",
     "text": [
      "[INFO] This commercial license of GraphLab Create is assigned to yuanfeng.wang@livingsocial.com.\n",
      "\n",
      "[INFO] Start server at: ipc:///tmp/graphlab_server-51487 - Server binary: /Library/Python/2.7/site-packages/graphlab/unity_server - Server log: /tmp/graphlab_server_1440966049.log\n",
      "[INFO] GraphLab Server Version: 1.5.2\n"
     ]
    },
    {
     "name": "stdout",
     "output_type": "stream",
     "text": [
      "PROGRESS: Downloading http://s3.amazonaws.com/dato-datasets/stack_overflow/dir_archive.ini to /var/tmp/graphlab-yuanfengwang/51487/000000.ini\n",
      "PROGRESS: Downloading http://s3.amazonaws.com/dato-datasets/stack_overflow/objects.bin to /var/tmp/graphlab-yuanfengwang/51487/000001.bin\n",
      "PROGRESS: Downloading http://s3.amazonaws.com/dato-datasets/stack_overflow/m_74b0dc51.frame_idx to /var/tmp/graphlab-yuanfengwang/51487/000002.frame_idx\n",
      "PROGRESS: Downloading http://s3.amazonaws.com/dato-datasets/stack_overflow/m_74b0dc51.sidx to /var/tmp/graphlab-yuanfengwang/51487/000003.sidx\n",
      "PROGRESS: Downloading http://s3.amazonaws.com/dato-datasets/stack_overflow/m_74b0dc51.0000 to /var/tmp/graphlab-yuanfengwang/51487/000004.0000\n",
      "PROGRESS: Downloading http://s3.amazonaws.com/dato-datasets/stack_overflow/m_74b0dc51.0001 to /var/tmp/graphlab-yuanfengwang/51487/000005.0001\n",
      "PROGRESS: Downloading http://s3.amazonaws.com/dato-datasets/stack_overflow/m_74b0dc51.0002 to /var/tmp/graphlab-yuanfengwang/51487/000006.0002\n",
      "PROGRESS: Downloading http://s3.amazonaws.com/dato-datasets/stack_overflow/m_74b0dc51.0003 to /var/tmp/graphlab-yuanfengwang/51487/000007.0003\n",
      "PROGRESS: Downloading http://s3.amazonaws.com/dato-datasets/stack_overflow/m_74b0dc51.0004 to /var/tmp/graphlab-yuanfengwang/51487/000008.0004\n",
      "PROGRESS: Downloading http://s3.amazonaws.com/dato-datasets/stack_overflow/m_74b0dc51.0005 to /var/tmp/graphlab-yuanfengwang/51487/000009.0005\n",
      "PROGRESS: Downloading http://s3.amazonaws.com/dato-datasets/stack_overflow/m_74b0dc51.0006 to /var/tmp/graphlab-yuanfengwang/51487/000010.0006\n",
      "PROGRESS: Downloading http://s3.amazonaws.com/dato-datasets/stack_overflow/m_74b0dc51.0007 to /var/tmp/graphlab-yuanfengwang/51487/000011.0007\n"
     ]
    }
   ],
   "source": [
    "import graphlab\n",
    "# Downloads the data from S3 if you haven't already.\n",
    "import os\n",
    "if os.path.exists('stack_overflow'):\n",
    "    sf = graphlab.SFrame('stack_overflow')\n",
    "else:\n",
    "    sf = graphlab.SFrame('http://s3.amazonaws.com/dato-datasets/stack_overflow')\n",
    "    sf.save('stack_overflow')"
   ]
  },
  {
   "cell_type": "code",
   "execution_count": 18,
   "metadata": {
    "collapsed": false
   },
   "outputs": [
    {
     "data": {
      "text/plain": [
       "3643508"
      ]
     },
     "execution_count": 18,
     "metadata": {},
     "output_type": "execute_result"
    }
   ],
   "source": [
    "sf.num_rows()"
   ]
  },
  {
   "cell_type": "code",
   "execution_count": 7,
   "metadata": {
    "collapsed": true
   },
   "outputs": [],
   "source": [
    "#check missing values\n",
    "for i in sf.column_names():\n",
    "    sf[i] = sf[i].apply(lambda x: None if x == '' else x)"
   ]
  },
  {
   "cell_type": "code",
   "execution_count": 19,
   "metadata": {
    "collapsed": false
   },
   "outputs": [
    {
     "data": {
      "text/plain": [
       "['PostId',\n",
       " 'PostCreationDate',\n",
       " 'OwnerUserId',\n",
       " 'OwnerCreationDate',\n",
       " 'ReputationAtPostCreation',\n",
       " 'OwnerUndeletedAnswerCountAtPostTime',\n",
       " 'Title',\n",
       " 'BodyMarkdown',\n",
       " 'PostClosedDate',\n",
       " 'OpenStatus',\n",
       " 'tags']"
      ]
     },
     "execution_count": 19,
     "metadata": {},
     "output_type": "execute_result"
    }
   ],
   "source": [
    "sf.column_names()"
   ]
  },
  {
   "cell_type": "code",
   "execution_count": 12,
   "metadata": {
    "collapsed": false
   },
   "outputs": [
    {
     "data": {
      "text/html": [
       "<div style=\"max-height:1000px;max-width:1500px;overflow:auto;\"><table frame=\"box\" rules=\"cols\">\n",
       "    <tr>\n",
       "        <th style=\"padding-left: 1em; padding-right: 1em; text-align: center\">OpenStatus</th>\n",
       "        <th style=\"padding-left: 1em; padding-right: 1em; text-align: center\">count</th>\n",
       "    </tr>\n",
       "    <tr>\n",
       "        <td style=\"padding-left: 1em; padding-right: 1em; text-align: center; vertical-align: top\">,jquery,,,,,,open</td>\n",
       "        <td style=\"padding-left: 1em; padding-right: 1em; text-align: center; vertical-align: top\">1</td>\n",
       "    </tr>\n",
       "    <tr>\n",
       "        <td style=\"padding-left: 1em; padding-right: 1em; text-align: center; vertical-align: top\">off topic</td>\n",
       "        <td style=\"padding-left: 1em; padding-right: 1em; text-align: center; vertical-align: top\">20825</td>\n",
       "    </tr>\n",
       "    <tr>\n",
       "        <td style=\"padding-left: 1em; padding-right: 1em; text-align: center; vertical-align: top\">,silverlight,ivalueconver<br>ter,,,,,open ...</td>\n",
       "        <td style=\"padding-left: 1em; padding-right: 1em; text-align: center; vertical-align: top\">1</td>\n",
       "    </tr>\n",
       "    <tr>\n",
       "        <td style=\"padding-left: 1em; padding-right: 1em; text-align: center; vertical-align: top\">open</td>\n",
       "        <td style=\"padding-left: 1em; padding-right: 1em; text-align: center; vertical-align: top\">3554596</td>\n",
       "    </tr>\n",
       "    <tr>\n",
       "        <td style=\"padding-left: 1em; padding-right: 1em; text-align: center; vertical-align: top\">,python,,,,,,open</td>\n",
       "        <td style=\"padding-left: 1em; padding-right: 1em; text-align: center; vertical-align: top\">1</td>\n",
       "    </tr>\n",
       "    <tr>\n",
       "        <td style=\"padding-left: 1em; padding-right: 1em; text-align: center; vertical-align: top\">,escaping,key,event-<br>handling,textbox,,,open ...</td>\n",
       "        <td style=\"padding-left: 1em; padding-right: 1em; text-align: center; vertical-align: top\">1</td>\n",
       "    </tr>\n",
       "    <tr>\n",
       "        <td style=\"padding-left: 1em; padding-right: 1em; text-align: center; vertical-align: top\">not constructive</td>\n",
       "        <td style=\"padding-left: 1em; padding-right: 1em; text-align: center; vertical-align: top\">20878</td>\n",
       "    </tr>\n",
       "    <tr>\n",
       "        <td style=\"padding-left: 1em; padding-right: 1em; text-align: center; vertical-align: top\">,c#,.net,javascript,asp.n<br>et,datagrid,,open ...</td>\n",
       "        <td style=\"padding-left: 1em; padding-right: 1em; text-align: center; vertical-align: top\">1</td>\n",
       "    </tr>\n",
       "    <tr>\n",
       "        <td style=\"padding-left: 1em; padding-right: 1em; text-align: center; vertical-align: top\">,jquery,json,associative-<br>array,,,,open ...</td>\n",
       "        <td style=\"padding-left: 1em; padding-right: 1em; text-align: center; vertical-align: top\">1</td>\n",
       "    </tr>\n",
       "    <tr>\n",
       "        <td style=\"padding-left: 1em; padding-right: 1em; text-align: center; vertical-align: top\">,c#,regex,,,,,open</td>\n",
       "        <td style=\"padding-left: 1em; padding-right: 1em; text-align: center; vertical-align: top\">1</td>\n",
       "    </tr>\n",
       "</table>\n",
       "[12 rows x 2 columns]<br/>Note: Only the head of the SFrame is printed.<br/>You can use print_rows(num_rows=m, num_columns=n) to print more rows and columns.\n",
       "</div>"
      ],
      "text/plain": [
       "Columns:\n",
       "\tOpenStatus\tstr\n",
       "\tcount\tint\n",
       "\n",
       "Rows: 12\n",
       "\n",
       "Data:\n",
       "+-------------------------------+---------+\n",
       "|           OpenStatus          |  count  |\n",
       "+-------------------------------+---------+\n",
       "|       ,jquery,,,,,,open       |    1    |\n",
       "|           off topic           |  20825  |\n",
       "| ,silverlight,ivalueconvert... |    1    |\n",
       "|              open             | 3554596 |\n",
       "|       ,python,,,,,,open       |    1    |\n",
       "| ,escaping,key,event-handli... |    1    |\n",
       "|        not constructive       |  20878  |\n",
       "| ,c#,.net,javascript,asp.ne... |    1    |\n",
       "| ,jquery,json,associative-a... |    1    |\n",
       "|       ,c#,regex,,,,,open      |    1    |\n",
       "+-------------------------------+---------+\n",
       "[12 rows x 2 columns]\n",
       "Note: Only the head of the SFrame is printed.\n",
       "You can use print_rows(num_rows=m, num_columns=n) to print more rows and columns."
      ]
     },
     "execution_count": 12,
     "metadata": {},
     "output_type": "execute_result"
    }
   ],
   "source": [
    "sf.groupby('OpenStatus',operations={'count': graphlab.aggregate.COUNT()})"
   ]
  },
  {
   "cell_type": "code",
   "execution_count": 10,
   "metadata": {
    "collapsed": true
   },
   "outputs": [],
   "source": [
    "# Come up with criteria for a \"double post\" and filter out duplicates.\n",
    "sf.groupby?"
   ]
  },
  {
   "cell_type": "code",
   "execution_count": 14,
   "metadata": {
    "collapsed": false
   },
   "outputs": [
    {
     "name": "stdout",
     "output_type": "stream",
     "text": [
      "142\n"
     ]
    }
   ],
   "source": [
    "# This is just one of many definitions of a \"double post\".  If I was to predict\n",
    "# whether a question will be closed, I would not filter these out.\n",
    "tmp = sf.groupby(['Title','OwnerUserId', 'BodyMarkdown'], {'PostId':graphlab.aggregate.SELECT_ONE('PostId')})\n",
    "filtered = sf.filter_by(tmp['PostId'], 'PostId')\n",
    "print len(sf)-len(filtered)"
   ]
  },
  {
   "cell_type": "code",
   "execution_count": 17,
   "metadata": {
    "collapsed": false
   },
   "outputs": [
    {
     "ename": "ValueError",
     "evalue": "Current SFrame has no column called 'Tag1'.",
     "output_type": "error",
     "traceback": [
      "\u001b[0;31m---------------------------------------------------------------------------\u001b[0m",
      "\u001b[0;31mValueError\u001b[0m                                Traceback (most recent call last)",
      "\u001b[0;32m<ipython-input-17-65fca1906c12>\u001b[0m in \u001b[0;36m<module>\u001b[0;34m()\u001b[0m\n\u001b[0;32m----> 1\u001b[0;31m \u001b[0msf\u001b[0m \u001b[0;34m=\u001b[0m \u001b[0msf\u001b[0m\u001b[0;34m.\u001b[0m\u001b[0mpack_columns\u001b[0m\u001b[0;34m(\u001b[0m\u001b[0;34m[\u001b[0m\u001b[0;34m'Tag1'\u001b[0m\u001b[0;34m,\u001b[0m\u001b[0;34m'Tag2'\u001b[0m\u001b[0;34m,\u001b[0m\u001b[0;34m'Tag3'\u001b[0m\u001b[0;34m,\u001b[0m\u001b[0;34m'Tag4'\u001b[0m\u001b[0;34m,\u001b[0m\u001b[0;34m'Tag5'\u001b[0m\u001b[0;34m]\u001b[0m\u001b[0;34m,\u001b[0m \u001b[0mnew_column_name\u001b[0m\u001b[0;34m=\u001b[0m\u001b[0;34m'tags'\u001b[0m\u001b[0;34m)\u001b[0m\u001b[0;34m\u001b[0m\u001b[0m\n\u001b[0m",
      "\u001b[0;32m/Library/Python/2.7/site-packages/graphlab/data_structures/sframe.pyc\u001b[0m in \u001b[0;36mpack_columns\u001b[0;34m(self, columns, column_prefix, dtype, fill_na, remove_prefix, new_column_name)\u001b[0m\n\u001b[1;32m   4409\u001b[0m             \u001b[0;32mfor\u001b[0m \u001b[0mcolumn\u001b[0m \u001b[0;32min\u001b[0m \u001b[0mcolumns\u001b[0m\u001b[0;34m:\u001b[0m\u001b[0;34m\u001b[0m\u001b[0m\n\u001b[1;32m   4410\u001b[0m                 \u001b[0;32mif\u001b[0m \u001b[0;34m(\u001b[0m\u001b[0mcolumn\u001b[0m \u001b[0;32mnot\u001b[0m \u001b[0;32min\u001b[0m \u001b[0mcolumn_names\u001b[0m\u001b[0;34m)\u001b[0m\u001b[0;34m:\u001b[0m\u001b[0;34m\u001b[0m\u001b[0m\n\u001b[0;32m-> 4411\u001b[0;31m                     \u001b[0;32mraise\u001b[0m \u001b[0mValueError\u001b[0m\u001b[0;34m(\u001b[0m\u001b[0;34m\"Current SFrame has no column called '\"\u001b[0m \u001b[0;34m+\u001b[0m \u001b[0mstr\u001b[0m\u001b[0;34m(\u001b[0m\u001b[0mcolumn\u001b[0m\u001b[0;34m)\u001b[0m \u001b[0;34m+\u001b[0m \u001b[0;34m\"'.\"\u001b[0m\u001b[0;34m)\u001b[0m\u001b[0;34m\u001b[0m\u001b[0m\n\u001b[0m\u001b[1;32m   4412\u001b[0m \u001b[0;34m\u001b[0m\u001b[0m\n\u001b[1;32m   4413\u001b[0m             \u001b[0;31m# check duplicate names\u001b[0m\u001b[0;34m\u001b[0m\u001b[0;34m\u001b[0m\u001b[0m\n",
      "\u001b[0;31mValueError\u001b[0m: Current SFrame has no column called 'Tag1'."
     ]
    }
   ],
   "source": [
    "sf = sf.pack_columns(['Tag1','Tag2','Tag3','Tag4','Tag5'], new_column_name='tags')"
   ]
  },
  {
   "cell_type": "code",
   "execution_count": 21,
   "metadata": {
    "collapsed": false
   },
   "outputs": [
    {
     "data": {
      "text/html": [
       "<div style=\"max-height:1000px;max-width:1500px;overflow:auto;\"><table frame=\"box\" rules=\"cols\">\n",
       "    <tr>\n",
       "        <th style=\"padding-left: 1em; padding-right: 1em; text-align: center\">OwnerUserId</th>\n",
       "        <th style=\"padding-left: 1em; padding-right: 1em; text-align: center\">post_count</th>\n",
       "    </tr>\n",
       "    <tr>\n",
       "        <td style=\"padding-left: 1em; padding-right: 1em; text-align: center; vertical-align: top\">39677</td>\n",
       "        <td style=\"padding-left: 1em; padding-right: 1em; text-align: center; vertical-align: top\">1781</td>\n",
       "    </tr>\n",
       "    <tr>\n",
       "        <td style=\"padding-left: 1em; padding-right: 1em; text-align: center; vertical-align: top\">4653</td>\n",
       "        <td style=\"padding-left: 1em; padding-right: 1em; text-align: center; vertical-align: top\">1437</td>\n",
       "    </tr>\n",
       "    <tr>\n",
       "        <td style=\"padding-left: 1em; padding-right: 1em; text-align: center; vertical-align: top\">34537</td>\n",
       "        <td style=\"padding-left: 1em; padding-right: 1em; text-align: center; vertical-align: top\">1423</td>\n",
       "    </tr>\n",
       "    <tr>\n",
       "        <td style=\"padding-left: 1em; padding-right: 1em; text-align: center; vertical-align: top\">179736</td>\n",
       "        <td style=\"padding-left: 1em; padding-right: 1em; text-align: center; vertical-align: top\">1234</td>\n",
       "    </tr>\n",
       "    <tr>\n",
       "        <td style=\"padding-left: 1em; padding-right: 1em; text-align: center; vertical-align: top\">149080</td>\n",
       "        <td style=\"padding-left: 1em; padding-right: 1em; text-align: center; vertical-align: top\">1190</td>\n",
       "    </tr>\n",
       "    <tr>\n",
       "        <td style=\"padding-left: 1em; padding-right: 1em; text-align: center; vertical-align: top\">117700</td>\n",
       "        <td style=\"padding-left: 1em; padding-right: 1em; text-align: center; vertical-align: top\">1172</td>\n",
       "    </tr>\n",
       "    <tr>\n",
       "        <td style=\"padding-left: 1em; padding-right: 1em; text-align: center; vertical-align: top\">84201</td>\n",
       "        <td style=\"padding-left: 1em; padding-right: 1em; text-align: center; vertical-align: top\">1164</td>\n",
       "    </tr>\n",
       "    <tr>\n",
       "        <td style=\"padding-left: 1em; padding-right: 1em; text-align: center; vertical-align: top\">434051</td>\n",
       "        <td style=\"padding-left: 1em; padding-right: 1em; text-align: center; vertical-align: top\">1093</td>\n",
       "    </tr>\n",
       "    <tr>\n",
       "        <td style=\"padding-left: 1em; padding-right: 1em; text-align: center; vertical-align: top\">325418</td>\n",
       "        <td style=\"padding-left: 1em; padding-right: 1em; text-align: center; vertical-align: top\">995</td>\n",
       "    </tr>\n",
       "    <tr>\n",
       "        <td style=\"padding-left: 1em; padding-right: 1em; text-align: center; vertical-align: top\">4639</td>\n",
       "        <td style=\"padding-left: 1em; padding-right: 1em; text-align: center; vertical-align: top\">974</td>\n",
       "    </tr>\n",
       "</table>\n",
       "[10 rows x 2 columns]<br/>\n",
       "</div>"
      ],
      "text/plain": [
       "Columns:\n",
       "\tOwnerUserId\tstr\n",
       "\tpost_count\tint\n",
       "\n",
       "Rows: 10\n",
       "\n",
       "Data:\n",
       "+-------------+------------+\n",
       "| OwnerUserId | post_count |\n",
       "+-------------+------------+\n",
       "|    39677    |    1781    |\n",
       "|     4653    |    1437    |\n",
       "|    34537    |    1423    |\n",
       "|    179736   |    1234    |\n",
       "|    149080   |    1190    |\n",
       "|    117700   |    1172    |\n",
       "|    84201    |    1164    |\n",
       "|    434051   |    1093    |\n",
       "|    325418   |    995     |\n",
       "|     4639    |    974     |\n",
       "+-------------+------------+\n",
       "[10 rows x 2 columns]"
      ]
     },
     "execution_count": 21,
     "metadata": {},
     "output_type": "execute_result"
    }
   ],
   "source": [
    "#Display the top 10 question askers.\n",
    "sf.groupby(['OwnerUserId'], {'post_count':graphlab.aggregate.COUNT()}).topk('post_count', k=10)"
   ]
  },
  {
   "cell_type": "code",
   "execution_count": 22,
   "metadata": {
    "collapsed": false
   },
   "outputs": [
    {
     "data": {
      "text/html": [
       "<div style=\"max-height:1000px;max-width:1500px;overflow:auto;\"><table frame=\"box\" rules=\"cols\">\n",
       "    <tr>\n",
       "        <th style=\"padding-left: 1em; padding-right: 1em; text-align: center\">PostId</th>\n",
       "        <th style=\"padding-left: 1em; padding-right: 1em; text-align: center\">PostCreationDate</th>\n",
       "        <th style=\"padding-left: 1em; padding-right: 1em; text-align: center\">OwnerUserId</th>\n",
       "        <th style=\"padding-left: 1em; padding-right: 1em; text-align: center\">OwnerCreationDate</th>\n",
       "        <th style=\"padding-left: 1em; padding-right: 1em; text-align: center\">ReputationAtPostCreation</th>\n",
       "        <th style=\"padding-left: 1em; padding-right: 1em; text-align: center\">OwnerUndeletedAnswerCount<br>AtPostTime ...</th>\n",
       "    </tr>\n",
       "    <tr>\n",
       "        <td style=\"padding-left: 1em; padding-right: 1em; text-align: center; vertical-align: top\">11058483</td>\n",
       "        <td style=\"padding-left: 1em; padding-right: 1em; text-align: center; vertical-align: top\">06/15/2012 21:32:26</td>\n",
       "        <td style=\"padding-left: 1em; padding-right: 1em; text-align: center; vertical-align: top\">16417</td>\n",
       "        <td style=\"padding-left: 1em; padding-right: 1em; text-align: center; vertical-align: top\">09/17/2008 17:02:31</td>\n",
       "        <td style=\"padding-left: 1em; padding-right: 1em; text-align: center; vertical-align: top\">98265</td>\n",
       "        <td style=\"padding-left: 1em; padding-right: 1em; text-align: center; vertical-align: top\">1000</td>\n",
       "    </tr>\n",
       "</table>\n",
       "<table frame=\"box\" rules=\"cols\">\n",
       "    <tr>\n",
       "        <th style=\"padding-left: 1em; padding-right: 1em; text-align: center\">Title</th>\n",
       "        <th style=\"padding-left: 1em; padding-right: 1em; text-align: center\">BodyMarkdown</th>\n",
       "        <th style=\"padding-left: 1em; padding-right: 1em; text-align: center\">PostClosedDate</th>\n",
       "        <th style=\"padding-left: 1em; padding-right: 1em; text-align: center\">OpenStatus</th>\n",
       "        <th style=\"padding-left: 1em; padding-right: 1em; text-align: center\">tags</th>\n",
       "    </tr>\n",
       "    <tr>\n",
       "        <td style=\"padding-left: 1em; padding-right: 1em; text-align: center; vertical-align: top\">PHP - Justify string<br>algorithm ...</td>\n",
       "        <td style=\"padding-left: 1em; padding-right: 1em; text-align: center; vertical-align: top\">Just tanked a job<br>interview where I was ...</td>\n",
       "        <td style=\"padding-left: 1em; padding-right: 1em; text-align: center; vertical-align: top\">06/22/2012 13:01:37</td>\n",
       "        <td style=\"padding-left: 1em; padding-right: 1em; text-align: center; vertical-align: top\">not constructive</td>\n",
       "        <td style=\"padding-left: 1em; padding-right: 1em; text-align: center; vertical-align: top\">[php, algorithm, None,<br>None, None] ...</td>\n",
       "    </tr>\n",
       "</table>\n",
       "[1 rows x 11 columns]<br/>\n",
       "</div>"
      ],
      "text/plain": [
       "Columns:\n",
       "\tPostId\tstr\n",
       "\tPostCreationDate\tstr\n",
       "\tOwnerUserId\tstr\n",
       "\tOwnerCreationDate\tstr\n",
       "\tReputationAtPostCreation\tint\n",
       "\tOwnerUndeletedAnswerCountAtPostTime\tstr\n",
       "\tTitle\tstr\n",
       "\tBodyMarkdown\tstr\n",
       "\tPostClosedDate\tstr\n",
       "\tOpenStatus\tstr\n",
       "\ttags\tlist\n",
       "\n",
       "Rows: 1\n",
       "\n",
       "Data:\n",
       "+----------+---------------------+-------------+---------------------+--------------------------+\n",
       "|  PostId  |   PostCreationDate  | OwnerUserId |  OwnerCreationDate  | ReputationAtPostCreation |\n",
       "+----------+---------------------+-------------+---------------------+--------------------------+\n",
       "| 11058483 | 06/15/2012 21:32:26 |    16417    | 09/17/2008 17:02:31 |          98265           |\n",
       "+----------+---------------------+-------------+---------------------+--------------------------+\n",
       "+-------------------------------+--------------------------------+\n",
       "| OwnerUndeletedAnswerCountA... |             Title              |\n",
       "+-------------------------------+--------------------------------+\n",
       "|              1000             | PHP - Justify string algorithm |\n",
       "+-------------------------------+--------------------------------+\n",
       "+-------------------------------+---------------------+------------------+\n",
       "|          BodyMarkdown         |    PostClosedDate   |    OpenStatus    |\n",
       "+-------------------------------+---------------------+------------------+\n",
       "| Just tanked a job intervie... | 06/22/2012 13:01:37 | not constructive |\n",
       "+-------------------------------+---------------------+------------------+\n",
       "+-------------------------------+\n",
       "|              tags             |\n",
       "+-------------------------------+\n",
       "| [php, algorithm, None, Non... |\n",
       "+-------------------------------+\n",
       "[1 rows x 11 columns]"
      ]
     },
     "execution_count": 22,
     "metadata": {},
     "output_type": "execute_result"
    }
   ],
   "source": [
    "#Find the highest rated asker for the 'not constructive' question type.\n",
    "sf['ReputationAtPostCreation'] = sf['ReputationAtPostCreation'].astype(int)\n",
    "notc = sf[sf['OpenStatus'] == 'not constructive']\n",
    "notc.topk('ReputationAtPostCreation', k=1)"
   ]
  },
  {
   "cell_type": "code",
   "execution_count": null,
   "metadata": {
    "collapsed": true
   },
   "outputs": [],
   "source": []
  }
 ],
 "metadata": {
  "kernelspec": {
   "display_name": "Python 2",
   "language": "python",
   "name": "python2"
  },
  "language_info": {
   "codemirror_mode": {
    "name": "ipython",
    "version": 2
   },
   "file_extension": ".py",
   "mimetype": "text/x-python",
   "name": "python",
   "nbconvert_exporter": "python",
   "pygments_lexer": "ipython2",
   "version": "2.7.5"
  }
 },
 "nbformat": 4,
 "nbformat_minor": 0
}
